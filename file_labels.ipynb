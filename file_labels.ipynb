{
 "cells": [
  {
   "cell_type": "code",
   "execution_count": 159,
   "metadata": {
    "collapsed": true
   },
   "outputs": [],
   "source": [
    "import os\n",
    "import pathlib\n",
    "import re"
   ]
  },
  {
   "cell_type": "code",
   "execution_count": 174,
   "outputs": [],
   "source": [
    "pathlib.Path('txt').mkdir(exist_ok=True, parents=True)\n",
    "acima = 'todos'\n",
    "path = f'/home/xandao/Documentos/GitHub/dataset_gimp/imagens_george/imagens/RGB/segmented_unet/512/deep_feature/specific_epithet/{acima}'"
   ],
   "metadata": {
    "collapsed": false
   }
  },
  {
   "cell_type": "code",
   "execution_count": 175,
   "outputs": [],
   "source": [
    "list_dir = [p for p in pathlib.Path(path).rglob('*') if p.is_dir()]\n",
    "\n",
    "list_dir = sorted(list_dir, key=lambda item: int(str(item).split('/')[len(str(item).split('/'))-1].split('f')[1]))"
   ],
   "metadata": {
    "collapsed": false
   }
  },
  {
   "cell_type": "code",
   "execution_count": 176,
   "outputs": [],
   "source": [
    "path_file_species = '/home/xandao/Documentos/GitHub/dataset_gimp/imagens_george/genus-and-specific_epithet-by-image.csv'\n",
    "\n",
    "file_species = open(path_file_species)\n",
    "list_file_species = file_species.readlines()\n",
    "file_species.close()"
   ],
   "metadata": {
    "collapsed": false
   }
  },
  {
   "cell_type": "code",
   "execution_count": 177,
   "outputs": [],
   "source": [
    "file = open(f'txt/{acima}.txt', 'w')\n",
    "for d in list_dir:\n",
    "    last_dir = str(d).split('/')[len(str(d).split('/'))-1]\n",
    "\n",
    "    img = os.listdir(d)[0]\n",
    "    img = img.replace('.jpeg', '')\n",
    "\n",
    "    if len(img.split('_')) > 0:\n",
    "        img = img.split('_')[0]\n",
    "\n",
    "    species = list(filter(lambda x: img in x, list_file_species))\n",
    "\n",
    "    if len(species) == 0:\n",
    "        raise ValueError(f'error in {img}')\n",
    "\n",
    "    species = species[0].split(',')[len(species[0].split(','))-1]\n",
    "    string = last_dir + '->' + img + '->\\'$\\it{' + species.replace('\\n','') + '}\\'\\n'\n",
    "    file.write(string)\n",
    "file.close()"
   ],
   "metadata": {
    "collapsed": false
   }
  }
 ],
 "metadata": {
  "kernelspec": {
   "display_name": "Python 3",
   "language": "python",
   "name": "python3"
  },
  "language_info": {
   "codemirror_mode": {
    "name": "ipython",
    "version": 2
   },
   "file_extension": ".py",
   "mimetype": "text/x-python",
   "name": "python",
   "nbconvert_exporter": "python",
   "pygments_lexer": "ipython2",
   "version": "2.7.6"
  }
 },
 "nbformat": 4,
 "nbformat_minor": 0
}
