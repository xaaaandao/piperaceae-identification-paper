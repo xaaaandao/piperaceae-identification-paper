{
 "cells": [
  {
   "cell_type": "code",
   "execution_count": 1,
   "outputs": [],
   "source": [
    "import numpy as np"
   ],
   "metadata": {
    "collapsed": false,
    "ExecuteTime": {
     "start_time": "2023-04-06T17:25:53.416652Z",
     "end_time": "2023-04-06T17:25:53.421296Z"
    }
   }
  },
  {
   "cell_type": "code",
   "execution_count": 2,
   "outputs": [],
   "source": [
    "n_samples = 3198\n",
    "n_features = 512\n",
    "x = np.empty(shape=(0, n_features))"
   ],
   "metadata": {
    "collapsed": false,
    "ExecuteTime": {
     "start_time": "2023-04-06T17:25:53.422531Z",
     "end_time": "2023-04-06T17:25:53.425269Z"
    }
   }
  },
  {
   "cell_type": "code",
   "execution_count": 3,
   "outputs": [
    {
     "data": {
      "text/plain": "array([[ 0.        ,  1.4458601 ,  0.        , ...,  0.        ,\n         0.        ,  0.        ],\n       [ 1.383363  ,  0.16725932,  0.        , ...,  0.08710627,\n         0.6768506 ,  0.        ],\n       [ 2.3155863 ,  0.        ,  0.        , ...,  0.        ,\n         0.5635657 ,  0.0218378 ],\n       ...,\n       [ 0.        ,  0.        ,  0.        , ...,  0.        ,\n         0.        ,  0.        ],\n       [ 2.0768619 ,  0.6263482 , 12.850485  , ...,  0.        ,\n         0.        ,  0.        ],\n       [ 2.5344598 ,  0.8774147 ,  0.9264645 , ...,  0.        ,\n         0.        ,  0.27767116]], dtype=float32)"
     },
     "execution_count": 3,
     "metadata": {},
     "output_type": "execute_result"
    }
   ],
   "source": [
    "d_npz = np.load('/home/xandao/Imagens/pr_dataset_features/RGB/256/specific_epithet_trusted/20/vgg16/npz/fold-1_patches-3.npz')\n",
    "d_npz['x']"
   ],
   "metadata": {
    "collapsed": false,
    "ExecuteTime": {
     "start_time": "2023-04-06T17:25:53.425410Z",
     "end_time": "2023-04-06T17:25:53.435596Z"
    }
   }
  },
  {
   "cell_type": "code",
   "execution_count": null,
   "outputs": [],
   "source": [
    "d2 = np.load('/home/xandao/Imagens/pr_dataset_features/RGB/256/specific_epithet_trusted/20/vgg16/npz/fold-2_patches-3.npz')\n",
    "x = np.append(x, d2['x'], axis=0)\n",
    "x"
   ],
   "metadata": {
    "collapsed": false,
    "ExecuteTime": {
     "start_time": "2023-04-06T15:34:00.548694Z",
     "end_time": "2023-04-06T15:34:00.590695Z"
    }
   }
  },
  {
   "cell_type": "code",
   "execution_count": 4,
   "outputs": [
    {
     "data": {
      "text/plain": "array([[ 0.        ,  1.4458601 ,  0.        , ...,  0.        ,\n         0.        ,  0.        ],\n       [ 1.383363  ,  0.16725932,  0.        , ...,  0.08710627,\n         0.6768506 ,  0.        ],\n       [ 2.3155863 ,  0.        ,  0.        , ...,  0.        ,\n         0.5635657 ,  0.0218378 ],\n       ...,\n       [ 0.        ,  0.        ,  0.        , ...,  0.        ,\n         0.        ,  0.        ],\n       [ 2.0768619 ,  0.6263482 , 12.850485  , ...,  0.        ,\n         0.        ,  0.        ],\n       [ 2.5344598 ,  0.8774147 ,  0.9264645 , ...,  0.        ,\n         0.        ,  0.27767116]], dtype=float32)"
     },
     "execution_count": 4,
     "metadata": {},
     "output_type": "execute_result"
    }
   ],
   "source": [
    "d_npy = np.load('/home/xandao/Imagens/pr_dataset_features/RGB/256/specific_epithet_trusted/20/vgg16/npy/fold-1_patches-3.npy')\n",
    "d_npy"
   ],
   "metadata": {
    "collapsed": false,
    "ExecuteTime": {
     "start_time": "2023-04-06T17:26:11.906574Z",
     "end_time": "2023-04-06T17:26:11.916783Z"
    }
   }
  },
  {
   "cell_type": "code",
   "execution_count": 6,
   "outputs": [
    {
     "data": {
      "text/plain": "True"
     },
     "execution_count": 6,
     "metadata": {},
     "output_type": "execute_result"
    }
   ],
   "source": [
    "np.array_equal(d_npy, d_npz['x'])"
   ],
   "metadata": {
    "collapsed": false,
    "ExecuteTime": {
     "start_time": "2023-04-06T17:26:55.050336Z",
     "end_time": "2023-04-06T17:26:55.062608Z"
    }
   }
  }
 ],
 "metadata": {
  "kernelspec": {
   "display_name": "Python 3",
   "language": "python",
   "name": "python3"
  },
  "language_info": {
   "codemirror_mode": {
    "name": "ipython",
    "version": 2
   },
   "file_extension": ".py",
   "mimetype": "text/x-python",
   "name": "python",
   "nbconvert_exporter": "python",
   "pygments_lexer": "ipython2",
   "version": "2.7.6"
  }
 },
 "nbformat": 4,
 "nbformat_minor": 0
}
