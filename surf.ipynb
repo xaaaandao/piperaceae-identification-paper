{
 "cells": [
  {
   "cell_type": "code",
   "execution_count": 2,
   "outputs": [],
   "source": [
    "%reload_ext autoreload\n",
    "%autoreload 2\n",
    "import datetime\n",
    "import pathlib\n",
    "import numpy\n",
    "import os\n",
    "import sklearn.preprocessing\n",
    "import sys\n",
    "\n",
    "module_path = os.path.abspath(os.path.join('..'))\n",
    "if module_path not in sys.path:\n",
    "    sys.path.append(module_path)\n",
    "\n",
    "from classifier import classification_data"
   ],
   "metadata": {
    "collapsed": false
   }
  },
  {
   "cell_type": "code",
   "execution_count": 3,
   "outputs": [],
   "source": [
    "cfg = {\n",
    "    \"fold\": 5,\n",
    "    \"n_labels\": 5,\n",
    "    \"path_base\": \"../features\",\n",
    "    \"path_out\": \"out\",\n",
    "    \"test_size\": 0.2,\n",
    "    \"train_size\": 0.8,\n",
    "    \"random_state\": 1\n",
    "}\n",
    "file_input = os.path.join(cfg[\"path_base\"], \"handcraft\", \"MATLAB\", \"GRAYSCALE\", \"256\", \"surf64.txt\")"
   ],
   "metadata": {
    "collapsed": false
   }
  },
  {
   "cell_type": "code",
   "execution_count": 4,
   "outputs": [
    {
     "name": "stdout",
     "output_type": "stream",
     "text": [
      "(375, 257) (375,)\n"
     ]
    }
   ],
   "source": [
    "surf = numpy.loadtxt(file_input)\n",
    "dataset = \"surf\"\n",
    "n_samples, n_features = surf.shape\n",
    "n_features = n_features - 1\n",
    "x, y = surf[0:, 0:n_features], surf[:, n_features]\n",
    "x_normalized = sklearn.preprocessing.StandardScaler().fit_transform(x)\n",
    "\n",
    "print(x.shape, y.shape)"
   ],
   "metadata": {
    "collapsed": false
   }
  },
  {
   "cell_type": "code",
   "execution_count": null,
   "outputs": [],
   "source": [
    "kf = sklearn.model_selection.KFold(n_splits=cfg[\"fold\"], shuffle=True, random_state=cfg[\"random_state\"])\n",
    "current_datetime = datetime.datetime.now().strftime(\"%d-%m-%Y-%H-%M-%S\")\n",
    "path = os.path.join(cfg[\"path_out\"], current_datetime, dataset)\n",
    "pathlib.Path(path).mkdir(parents=True, exist_ok=True)\n",
    "\n",
    "for pca in (128, 256, -1):\n",
    "    x = x_normalized\n",
    "    if pca > 0:\n",
    "        x = sklearn.decomposition.PCA(n_components=pca).fit_transform(x)\n",
    "\n",
    "    if pca == -1:\n",
    "        pca = n_features\n",
    "\n",
    "    classification_data(cfg, dataset, file_input, list(kf.split(x)), pca, n_samples, path, x, y)"
   ],
   "metadata": {
    "collapsed": false
   }
  },
  {
   "cell_type": "code",
   "execution_count": null,
   "outputs": [],
   "source": [],
   "metadata": {
    "collapsed": false
   }
  }
 ],
 "metadata": {
  "kernelspec": {
   "display_name": "Python 3 (ipykernel)",
   "language": "python",
   "name": "python3"
  },
  "language_info": {
   "codemirror_mode": {
    "name": "ipython",
    "version": 3
   },
   "file_extension": ".py",
   "mimetype": "text/x-python",
   "name": "python",
   "nbconvert_exporter": "python",
   "pygments_lexer": "ipython3",
   "version": "3.8.13"
  }
 },
 "nbformat": 4,
 "nbformat_minor": 1
}
