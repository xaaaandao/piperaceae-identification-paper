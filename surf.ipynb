{
 "cells": [
  {
   "cell_type": "code",
   "execution_count": 2,
   "outputs": [],
   "source": [
    "%reload_ext autoreload\n",
    "%autoreload 2\n",
    "import collections\n",
    "import numpy\n",
    "import os\n",
    "import sklearn.preprocessing\n",
    "import sys\n",
    "\n",
    "module_path = os.path.abspath(os.path.join('..'))\n",
    "if module_path not in sys.path:\n",
    "    sys.path.append(module_path)\n",
    "\n",
    "from classifier import classification_data"
   ],
   "metadata": {
    "collapsed": false,
    "pycharm": {
     "name": "#%%\n"
    }
   }
  },
  {
   "cell_type": "code",
   "execution_count": 3,
   "outputs": [],
   "source": [
    "cfg = {\n",
    "    \"fold\": 5,\n",
    "    \"n_labels\": 5,\n",
    "    \"path_base\": \"dataset\",\n",
    "    \"path_out\": \"out\",\n",
    "    \"test_size\": 0.2,\n",
    "    \"train_size\": 0.8,\n",
    "    \"random_state\": 1\n",
    "}"
   ],
   "metadata": {
    "collapsed": false,
    "pycharm": {
     "name": "#%%\n"
    }
   }
  },
  {
   "cell_type": "code",
   "execution_count": 4,
   "outputs": [
    {
     "name": "stdout",
     "output_type": "stream",
     "text": [
      "(375, 257) (375,)\n"
     ]
    }
   ],
   "source": [
    "surf = numpy.loadtxt(os.path.join(cfg[\"path_base\"], \"surf64.txt\"))\n",
    "dataset = \"surf\"\n",
    "n_samples, n_features = surf.shape\n",
    "n_features = n_features - 1\n",
    "x, y = surf[0:, 0:n_features], surf[:, n_features]\n",
    "x_normalized = sklearn.preprocessing.StandardScaler().fit_transform(x)\n",
    "\n",
    "print(x.shape, y.shape)"
   ],
   "metadata": {
    "collapsed": false,
    "pycharm": {
     "name": "#%%\n"
    }
   }
  },
  {
   "cell_type": "code",
   "execution_count": 5,
   "outputs": [
    {
     "name": "stdout",
     "output_type": "stream",
     "text": [
      "375\n",
      "Counter({0: 1, 1: 1, 2: 1, 3: 1, 4: 1, 5: 1, 6: 1, 7: 1, 8: 1, 9: 1, 10: 1, 11: 1, 12: 1, 13: 1, 14: 1, 15: 1, 16: 1, 17: 1, 18: 1, 19: 1, 20: 1, 21: 1, 22: 1, 23: 1, 24: 1, 25: 1, 26: 1, 27: 1, 28: 1, 29: 1, 30: 1, 31: 1, 32: 1, 33: 1, 34: 1, 35: 1, 36: 1, 37: 1, 38: 1, 39: 1, 40: 1, 41: 1, 42: 1, 43: 1, 44: 1, 45: 1, 46: 1, 47: 1, 48: 1, 49: 1, 50: 1, 51: 1, 52: 1, 53: 1, 54: 1, 55: 1, 56: 1, 57: 1, 58: 1, 59: 1, 60: 1, 61: 1, 62: 1, 63: 1, 64: 1, 65: 1, 66: 1, 67: 1, 68: 1, 69: 1, 70: 1, 71: 1, 72: 1, 73: 1, 74: 1, 75: 1, 76: 1, 77: 1, 78: 1, 79: 1, 80: 1, 81: 1, 82: 1, 83: 1, 84: 1, 85: 1, 86: 1, 87: 1, 88: 1, 89: 1, 90: 1, 91: 1, 92: 1, 93: 1, 94: 1, 95: 1, 96: 1, 97: 1, 98: 1, 99: 1, 100: 1, 101: 1, 102: 1, 103: 1, 104: 1, 105: 1, 106: 1, 107: 1, 108: 1, 109: 1, 110: 1, 111: 1, 112: 1, 113: 1, 114: 1, 115: 1, 116: 1, 117: 1, 118: 1, 119: 1, 120: 1, 121: 1, 122: 1, 123: 1, 124: 1, 125: 1, 126: 1, 127: 1, 128: 1, 129: 1, 130: 1, 131: 1, 132: 1, 133: 1, 134: 1, 135: 1, 136: 1, 137: 1, 138: 1, 139: 1, 140: 1, 141: 1, 142: 1, 143: 1, 144: 1, 145: 1, 146: 1, 147: 1, 148: 1, 149: 1, 150: 1, 151: 1, 152: 1, 153: 1, 154: 1, 155: 1, 156: 1, 157: 1, 158: 1, 159: 1, 160: 1, 161: 1, 162: 1, 163: 1, 164: 1, 165: 1, 166: 1, 167: 1, 168: 1, 169: 1, 170: 1, 171: 1, 172: 1, 173: 1, 174: 1, 175: 1, 176: 1, 177: 1, 178: 1, 179: 1, 180: 1, 181: 1, 182: 1, 183: 1, 184: 1, 185: 1, 186: 1, 187: 1, 188: 1, 189: 1, 190: 1, 191: 1, 192: 1, 193: 1, 194: 1, 195: 1, 196: 1, 197: 1, 198: 1, 199: 1, 200: 1, 201: 1, 202: 1, 203: 1, 204: 1, 205: 1, 206: 1, 207: 1, 208: 1, 209: 1, 210: 1, 211: 1, 212: 1, 213: 1, 214: 1, 215: 1, 216: 1, 217: 1, 218: 1, 219: 1, 220: 1, 221: 1, 222: 1, 223: 1, 224: 1, 225: 1, 226: 1, 227: 1, 228: 1, 229: 1, 230: 1, 231: 1, 232: 1, 233: 1, 234: 1, 235: 1, 236: 1, 237: 1, 238: 1, 239: 1, 240: 1, 241: 1, 242: 1, 243: 1, 244: 1, 245: 1, 246: 1, 247: 1, 248: 1, 249: 1, 250: 1, 251: 1, 252: 1, 253: 1, 254: 1, 255: 1, 256: 1, 257: 1, 258: 1, 259: 1, 260: 1, 261: 1, 262: 1, 263: 1, 264: 1, 265: 1, 266: 1, 267: 1, 268: 1, 269: 1, 270: 1, 271: 1, 272: 1, 273: 1, 274: 1, 275: 1, 276: 1, 277: 1, 278: 1, 279: 1, 280: 1, 281: 1, 282: 1, 283: 1, 284: 1, 285: 1, 286: 1, 287: 1, 288: 1, 289: 1, 290: 1, 291: 1, 292: 1, 293: 1, 294: 1, 295: 1, 296: 1, 297: 1, 298: 1, 299: 1, 300: 1, 301: 1, 302: 1, 303: 1, 304: 1, 305: 1, 306: 1, 307: 1, 308: 1, 309: 1, 310: 1, 311: 1, 312: 1, 313: 1, 314: 1, 315: 1, 316: 1, 317: 1, 318: 1, 319: 1, 320: 1, 321: 1, 322: 1, 323: 1, 324: 1, 325: 1, 326: 1, 327: 1, 328: 1, 329: 1, 330: 1, 331: 1, 332: 1, 333: 1, 334: 1, 335: 1, 336: 1, 337: 1, 338: 1, 339: 1, 340: 1, 341: 1, 342: 1, 343: 1, 344: 1, 345: 1, 346: 1, 347: 1, 348: 1, 349: 1, 350: 1, 351: 1, 352: 1, 353: 1, 354: 1, 355: 1, 356: 1, 357: 1, 358: 1, 359: 1, 360: 1, 361: 1, 362: 1, 363: 1, 364: 1, 365: 1, 366: 1, 367: 1, 368: 1, 369: 1, 370: 1, 371: 1, 372: 1, 373: 1, 374: 1})\n"
     ]
    }
   ],
   "source": [
    "kf = sklearn.model_selection.KFold(n_splits=cfg[\"fold\"], shuffle=True, random_state=cfg[\"random_state\"])\n",
    "l = list([])\n",
    "for (train_index, test_index) in kf.split(x):\n",
    "    l = l + test_index.tolist()\n",
    "print(len(list(set(l))))\n",
    "print(collections.Counter(sorted(l)))"
   ],
   "metadata": {
    "collapsed": false,
    "pycharm": {
     "name": "#%%\n"
    }
   }
  },
  {
   "cell_type": "code",
   "execution_count": 6,
   "outputs": [
    {
     "name": "stdout",
     "output_type": "stream",
     "text": [
      "0 DecisionTreeClassifier (300, 128) (75, 128)\n",
      "1 DecisionTreeClassifier (300, 128) (75, 128)\n",
      "2 DecisionTreeClassifier (300, 128) (75, 128)\n",
      "3 DecisionTreeClassifier (300, 128) (75, 128)\n",
      "4 DecisionTreeClassifier (300, 128) (75, 128)\n"
     ]
    },
    {
     "ename": "KeyError",
     "evalue": "'best_params'",
     "output_type": "error",
     "traceback": [
      "\u001B[0;31m---------------------------------------------------------------------------\u001B[0m",
      "\u001B[0;31mKeyError\u001B[0m                                  Traceback (most recent call last)",
      "Cell \u001B[0;32mIn [6], line 9\u001B[0m\n\u001B[1;32m      6\u001B[0m \u001B[38;5;28;01mif\u001B[39;00m pca \u001B[38;5;241m==\u001B[39m \u001B[38;5;241m-\u001B[39m\u001B[38;5;241m1\u001B[39m:\n\u001B[1;32m      7\u001B[0m     pca \u001B[38;5;241m=\u001B[39m n_features\n\u001B[0;32m----> 9\u001B[0m \u001B[43mclassification_data\u001B[49m\u001B[43m(\u001B[49m\u001B[43mcfg\u001B[49m\u001B[43m,\u001B[49m\u001B[43m \u001B[49m\u001B[43mdataset\u001B[49m\u001B[43m,\u001B[49m\u001B[43m \u001B[49m\u001B[38;5;28;43mlist\u001B[39;49m\u001B[43m(\u001B[49m\u001B[43mkf\u001B[49m\u001B[38;5;241;43m.\u001B[39;49m\u001B[43msplit\u001B[49m\u001B[43m(\u001B[49m\u001B[43mx\u001B[49m\u001B[43m)\u001B[49m\u001B[43m)\u001B[49m\u001B[43m,\u001B[49m\u001B[43m \u001B[49m\u001B[43mpca\u001B[49m\u001B[43m,\u001B[49m\u001B[43m \u001B[49m\u001B[43mn_samples\u001B[49m\u001B[43m,\u001B[49m\u001B[43m \u001B[49m\u001B[43mx\u001B[49m\u001B[43m,\u001B[49m\u001B[43m \u001B[49m\u001B[43my\u001B[49m\u001B[43m)\u001B[49m\n\u001B[1;32m     10\u001B[0m \u001B[38;5;28;01mbreak\u001B[39;00m\n",
      "File \u001B[0;32m~/Documentos/GitHub/piperaceae-identification-paper/classifier.py:234\u001B[0m, in \u001B[0;36mclassification_data\u001B[0;34m(cfg, dataset, index, n_features, n_samples, x, y, n_patch, orientation)\u001B[0m\n\u001B[1;32m    231\u001B[0m \u001B[38;5;28;01melse\u001B[39;00m:\n\u001B[1;32m    232\u001B[0m     list_result_fold \u001B[38;5;241m=\u001B[39m data_no_patch(cfg, best_classifier, classifier_name, dataset, index, list_time, path, x, y)\n\u001B[0;32m--> 234\u001B[0m \u001B[43msave_mean_std\u001B[49m\u001B[43m(\u001B[49m\u001B[43mbest_params\u001B[49m\u001B[43m,\u001B[49m\u001B[43m \u001B[49m\u001B[43mcfg\u001B[49m\u001B[43m,\u001B[49m\u001B[43m \u001B[49m\u001B[43mlist_result_fold\u001B[49m\u001B[43m,\u001B[49m\u001B[43m \u001B[49m\u001B[43mlist_time\u001B[49m\u001B[43m,\u001B[49m\u001B[43m \u001B[49m\u001B[43mn_features\u001B[49m\u001B[43m,\u001B[49m\u001B[43m \u001B[49m\u001B[43mn_samples\u001B[49m\u001B[43m,\u001B[49m\u001B[43m \u001B[49m\u001B[43mpath\u001B[49m\u001B[43m)\u001B[49m\n\u001B[1;32m    235\u001B[0m list_result_classifier \u001B[38;5;241m=\u001B[39m list_result_classifier \u001B[38;5;241m+\u001B[39m list_result_fold\n\u001B[1;32m    236\u001B[0m \u001B[38;5;28;01mbreak\u001B[39;00m\n",
      "File \u001B[0;32m~/Documentos/GitHub/piperaceae-identification-paper/output.py:19\u001B[0m, in \u001B[0;36msave_mean_std\u001B[0;34m(best_params, cfg, list_result_fold, list_time, n_features, n_samples, path)\u001B[0m\n\u001B[1;32m     17\u001B[0m data_cfg \u001B[38;5;241m=\u001B[39m [cfg[\u001B[38;5;124m\"\u001B[39m\u001B[38;5;124mfold\u001B[39m\u001B[38;5;124m\"\u001B[39m], cfg[\u001B[38;5;124m\"\u001B[39m\u001B[38;5;124mn_labels\u001B[39m\u001B[38;5;124m\"\u001B[39m], cfg[\u001B[38;5;124m\"\u001B[39m\u001B[38;5;124mpath_base\u001B[39m\u001B[38;5;124m\"\u001B[39m], cfg[\u001B[38;5;124m\"\u001B[39m\u001B[38;5;124mpath_out\u001B[39m\u001B[38;5;124m\"\u001B[39m], cfg[\u001B[38;5;124m\"\u001B[39m\u001B[38;5;124mtest_size\u001B[39m\u001B[38;5;124m\"\u001B[39m], cfg[\u001B[38;5;124m\"\u001B[39m\u001B[38;5;124mtrain_size\u001B[39m\u001B[38;5;124m\"\u001B[39m]]\n\u001B[1;32m     18\u001B[0m columns_best_params \u001B[38;5;241m=\u001B[39m [\u001B[38;5;124m\"\u001B[39m\u001B[38;5;124mbest_params\u001B[39m\u001B[38;5;124m\"\u001B[39m]\n\u001B[0;32m---> 19\u001B[0m data_best_params \u001B[38;5;241m=\u001B[39m [\u001B[43mcfg\u001B[49m\u001B[43m[\u001B[49m\u001B[38;5;124;43m\"\u001B[39;49m\u001B[38;5;124;43mbest_params\u001B[39;49m\u001B[38;5;124;43m\"\u001B[39;49m\u001B[43m]\u001B[49m]\n\u001B[1;32m     20\u001B[0m columns_dataset \u001B[38;5;241m=\u001B[39m [\u001B[38;5;124m\"\u001B[39m\u001B[38;5;124mn_samples\u001B[39m\u001B[38;5;124m\"\u001B[39m, \u001B[38;5;124m\"\u001B[39m\u001B[38;5;124mn_features\u001B[39m\u001B[38;5;124m\"\u001B[39m]\n\u001B[1;32m     21\u001B[0m data_dataset \u001B[38;5;241m=\u001B[39m [n_samples, n_features]\n",
      "\u001B[0;31mKeyError\u001B[0m: 'best_params'"
     ]
    }
   ],
   "source": [
    "for pca in (128, 256, -1):\n",
    "    x = x_normalized\n",
    "    if pca > 0:\n",
    "        x = sklearn.decomposition.PCA(n_components=pca).fit_transform(x)\n",
    "\n",
    "    if pca == -1:\n",
    "        pca = n_features\n",
    "\n",
    "    classification_data(cfg, dataset, list(kf.split(x)), pca, n_samples, x, y)\n",
    "    break"
   ],
   "metadata": {
    "collapsed": false,
    "pycharm": {
     "name": "#%%\n"
    }
   }
  }
 ],
 "metadata": {
  "kernelspec": {
   "display_name": "Python 3 (ipykernel)",
   "language": "python",
   "name": "python3"
  },
  "language_info": {
   "codemirror_mode": {
    "name": "ipython",
    "version": 3
   },
   "file_extension": ".py",
   "mimetype": "text/x-python",
   "name": "python",
   "nbconvert_exporter": "python",
   "pygments_lexer": "ipython3",
   "version": "3.8.13"
  }
 },
 "nbformat": 4,
 "nbformat_minor": 1
}