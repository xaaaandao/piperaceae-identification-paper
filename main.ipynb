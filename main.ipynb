{
 "cells": [
  {
   "cell_type": "code",
   "execution_count": null,
   "outputs": [],
   "source": [
    "import collections\n",
    "import dataclasses\n",
    "import numpy\n",
    "import os\n",
    "import pathlib\n",
    "import sklearn.model_selection\n",
    "\n",
    "cfg = {\n",
    "    \"fold\": 5,\n",
    "    \"n_labels\": 5,\n",
    "    \"path_base\": \"dataset\",\n",
    "    \"path_out\": \"out\",\n",
    "    \"test_size\": 0.2,\n",
    "    \"train_size\": 0.8,\n",
    "}"
   ],
   "metadata": {
    "collapsed": false,
    "pycharm": {
     "name": "#%%\n"
    }
   }
  },
  {
   "cell_type": "code",
   "execution_count": null,
   "outputs": [],
   "source": [
    "mobilenet = numpy.load(os.path.join(cfg[\"path_base\"], \"cnn\", \"horizontal+patch=3+mobilenetv2.npz\"))\n",
    "dataset = \"mobilenetv2\"\n",
    "orientation = \"horizontal\"\n",
    "n_patch = 3\n",
    "x = mobilenet[\"features\"]\n",
    "y = mobilenet[\"labels\"]\n",
    "n_samples = x.shape[0]\n",
    "n_features = x.shape[1]\n",
    "x_normalized = sklearn.preprocessing.StandardScaler().fit_transform(x)"
   ],
   "metadata": {
    "collapsed": false,
    "pycharm": {
     "name": "#%%\n"
    }
   }
  },
  {
   "cell_type": "code",
   "execution_count": null,
   "outputs": [],
   "source": [
    "kf = sklearn.model_selection.KFold(n_splits=cfg[\"fold\"], shuffle=True, random_state=cfg[\"random_state\"])\n",
    "l = list([])\n",
    "for (train_index, test_index) in kf.split(x):\n",
    "    l = l + test_index.tolist()\n",
    "print(len(list(set(l))))\n",
    "print(collections.Counter(sorted(l)))"
   ],
   "metadata": {
    "collapsed": false,
    "pycharm": {
     "name": "#%%\n"
    }
   }
  }
 ],
 "metadata": {
  "kernelspec": {
   "display_name": "Python 3.9.12 ('base')",
   "language": "python",
   "name": "python3"
  },
  "language_info": {
   "name": "python",
   "version": "3.9.12"
  },
  "orig_nbformat": 4,
  "vscode": {
   "interpreter": {
    "hash": "fdd866a014a546f38f4e627c26d925142d1dd4e2ebcaa09165eb455c383e6b5d"
   }
  }
 },
 "nbformat": 4,
 "nbformat_minor": 2
}