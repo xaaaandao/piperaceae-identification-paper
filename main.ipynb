{
 "cells": [
  {
   "cell_type": "code",
   "execution_count": 2,
   "outputs": [],
   "source": [
    "import dataclasses\n",
    "import numpy\n",
    "import os\n",
    "import pathlib\n",
    "\n",
    "from preprocess import *\n",
    "from samples import get_index, get_samples_and_labels\n",
    "from experiments import run, run_cnn"
   ],
   "metadata": {
    "collapsed": false,
    "pycharm": {
     "name": "#%%\n"
    }
   }
  },
  {
   "cell_type": "code",
   "execution_count": 3,
   "outputs": [],
   "source": [
    "@dataclasses.dataclass\n",
    "class Patch:\n",
    "    type: str\n",
    "    n_patch: int\n",
    "\n",
    "\n",
    "@dataclasses.dataclass\n",
    "class Dataset:\n",
    "    cfg: dict\n",
    "    list_data: list = dataclasses.field(init=False)\n",
    "    name: str\n",
    "    patch: Patch\n",
    "    path: str\n",
    "\n",
    "    def __post_init__(self):\n",
    "        self.load()\n",
    "\n",
    "    def get_n_features(self):\n",
    "        for p in pathlib.Path(self.path).rglob(\"*\"):\n",
    "            if p.is_file():\n",
    "                x = numpy.load(str(p.resolve()))\n",
    "                return x.shape[1]\n",
    "        raise FileNotFoundError(f\"problems in {self.path}\")\n",
    "\n",
    "    def load(self):\n",
    "        if self.patch:\n",
    "            self.load_patch()\n",
    "        else:\n",
    "            self.load_normal()\n",
    "\n",
    "    def load_patch(self):\n",
    "        x = numpy.empty(shape=(0, self.get_n_features()))\n",
    "        for i, file in enumerate(sorted(pathlib.Path(self.path).rglob(\"*\"))):\n",
    "            data = numpy.load(str(file.resolve()))\n",
    "            x = numpy.concatenate((x, data), axis=0)\n",
    "        y = numpy.repeat(numpy.arange(1, self.cfg[\"n_labels\"] + 1), (x.shape[0] / self.cfg[\"n_labels\"]))\n",
    "        self.list_data = preprocess(x)\n",
    "        for d in self.list_data:\n",
    "            setattr(d, \"y\", y)\n",
    "\n",
    "    def load_normal(self):\n",
    "        x, y = get_samples_and_labels(numpy.loadtxt(self.path))\n",
    "        self.list_data = preprocess(x)\n",
    "        for d in self.list_data:\n",
    "            setattr(d, \"y\", y)"
   ],
   "metadata": {
    "collapsed": false,
    "pycharm": {
     "name": "#%%\n"
    }
   }
  },
  {
   "cell_type": "code",
   "execution_count": 4,
   "outputs": [],
   "source": [
    "cfg = {\n",
    "    \"fold\": 5,\n",
    "    \"n_labels\": 5,\n",
    "    \"path_base\": \"dataset\",\n",
    "    \"path_out\": \"out\",\n",
    "    \"pca\": True,\n",
    "    \"test_size\": 0.2,\n",
    "    \"train_size\": 0.8,\n",
    "    }\n",
    "    \n",
    "list_index = get_index(cfg, os.path.join(cfg[\"path_base\"], \"surf64.txt\"))"
   ],
   "metadata": {
    "collapsed": false,
    "pycharm": {
     "name": "#%%\n"
    }
   }
  },
  {
   "cell_type": "markdown",
   "source": [
    "# Experiments"
   ],
   "metadata": {
    "collapsed": false,
    "pycharm": {
     "name": "#%% md\n"
    }
   }
  },
  {
   "cell_type": "markdown",
   "source": [
    "### MobileNetV2"
   ],
   "metadata": {
    "collapsed": false,
    "pycharm": {
     "name": "#%% md\n"
    }
   }
  },
  {
   "cell_type": "code",
   "execution_count": 5,
   "outputs": [
    {
     "name": "stdout",
     "output_type": "stream",
     "text": [
      "0 svm mobilenet (1125, 128) (1125,)\n",
      "type: sum, accuracy (%): 80.0\n",
      "+++++++++++++++++++++++++++++++++\n",
      "1 svm mobilenet (1125, 128) (1125,)\n",
      "type: sum, accuracy (%): 85.3333\n",
      "+++++++++++++++++++++++++++++++++\n",
      "2 svm mobilenet (1125, 128) (1125,)\n",
      "type: sum, accuracy (%): 84.0\n",
      "+++++++++++++++++++++++++++++++++\n",
      "3 svm mobilenet (1125, 128) (1125,)\n",
      "type: sum, accuracy (%): 77.3333\n",
      "+++++++++++++++++++++++++++++++++\n",
      "4 svm mobilenet (1125, 128) (1125,)\n",
      "type: sum, accuracy (%): 76.0\n",
      "+++++++++++++++++++++++++++++++++\n",
      "mean accuracy (%): 80.5333, std deviation: 0.0364, rule: sum, mean elapsed time: 00:00:00 (0.4614260673522949)\n",
      "best_accuracy: 80.5333 rule:sum\n",
      "\n",
      "---------------------------------\n"
     ]
    }
   ],
   "source": [
    "mb = Dataset(cfg,\n",
    "    \"mobilenet\",\n",
    "    Patch(\"horizontal\", 3),\n",
    "    os.path.join(cfg[\"path_base\"], \"mobilenetv2/patch=3/horizontal\"))\n",
    "run_cnn(cfg, mb, list_index)"
   ],
   "metadata": {
    "collapsed": false,
    "pycharm": {
     "name": "#%%\n"
    }
   }
  }
 ],
 "metadata": {
  "kernelspec": {
   "display_name": "Python 3.9.12 ('base')",
   "language": "python",
   "name": "python3"
  },
  "language_info": {
   "name": "python",
   "version": "3.9.12"
  },
  "orig_nbformat": 4,
  "vscode": {
   "interpreter": {
    "hash": "fdd866a014a546f38f4e627c26d925142d1dd4e2ebcaa09165eb455c383e6b5d"
   }
  }
 },
 "nbformat": 4,
 "nbformat_minor": 2
}