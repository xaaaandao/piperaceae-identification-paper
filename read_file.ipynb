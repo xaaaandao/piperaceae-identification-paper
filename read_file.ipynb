{
 "cells": [
  {
   "cell_type": "code",
   "execution_count": null,
   "metadata": {
    "collapsed": true
   },
   "outputs": [],
   "source": [
    "import pandas\n",
    "import pathlib"
   ]
  },
  {
   "cell_type": "code",
   "execution_count": null,
   "outputs": [],
   "source": [
    "list_files = list([file for file in pathlib.Path(\"resultados\").rglob(\"*.csv\")])\n",
    "list_files = list(filter(lambda x: str(x.stem) == \"mean\", list_files))\n",
    "len(list_files)"
   ],
   "metadata": {
    "collapsed": false
   }
  },
  {
   "cell_type": "code",
   "execution_count": null,
   "outputs": [],
   "source": [
    "final_file = pandas.read_excel(\"resultados/resultados_identificacao.xlsx\", sheet_name=\"grayscale\", header=[0, 1, 2, 3], index_col=0)\n",
    "final_file"
   ],
   "metadata": {
    "collapsed": false
   }
  },
  {
   "cell_type": "code",
   "execution_count": null,
   "outputs": [],
   "source": [
    "for file in list_files:\n",
    "    data = pandas.read_csv(list_files[0], sep=\";\", header=None, index_col=0).squeeze()\n",
    "\n",
    "    get_dataset = list(filter(lambda x: x.lower() in str(file).lower(), [\"u-net\", \"iwssip\", \"matlab\"]))[0]\n",
    "    get_dim = list(filter(lambda x: x.lower() in str(file).lower(), [\"256\", \"400\", \"512\"]))[0]\n",
    "    get_extractor = list(filter(lambda x: x.lower() in str(file).lower(), [\"mobilenetv2\", \"resnet50v2\", \"vgg16\"]))[0]\n",
    "    get_classifier = list(filter(lambda x: x.lower() in str(file).lower(), [\"DecisionTreeClassifier\", \"KNeighborsClassifier\", \"MLPClassifier\", \"RandomForestClassifier\", \"SVC\"]))[0]\n",
    "    print(get_dataset, get_dim, get_extractor, get_classifier)\n",
    "\n",
    "    if get_dataset.lower() == \"iwssip\":\n",
    "        get_dataset = \"Manual\"\n",
    "\n",
    "    for c in final_file.columns.tolist():\n",
    "        if get_dim in c and get_classifier in c and get_dataset in c:\n",
    "            print(final_file.columns.tolist().index(c))\n",
    "\n",
    "    # for r in final_file.iterrows():\n",
    "    #     print(r)\n",
    "    # print(len(final_file))\n",
    "    for i in final_file.index.tolist():\n",
    "        # if\n",
    "        # print(type(i))\n",
    "        if isinstance(i, str) and get_extractor in i:\n",
    "            print(\"Aaa\")\n",
    "            # print(final_file.index.tolist().index(i))\n",
    "    # print(:)\n",
    "\n",
    "    mean_time_millisec = data[\"mean_time_millisec\"]\n",
    "    mean_sum = data[\"mean_sum\"]\n",
    "    std_sum = data[\"std_sum\"]\n",
    "    break"
   ],
   "metadata": {
    "collapsed": false
   }
  },
  {
   "cell_type": "code",
   "execution_count": null,
   "outputs": [],
   "source": [],
   "metadata": {
    "collapsed": false
   }
  },
  {
   "cell_type": "code",
   "execution_count": null,
   "outputs": [],
   "source": [],
   "metadata": {
    "collapsed": false
   }
  }
 ],
 "metadata": {
  "kernelspec": {
   "display_name": "Python 3",
   "language": "python",
   "name": "python3"
  },
  "language_info": {
   "codemirror_mode": {
    "name": "ipython",
    "version": 2
   },
   "file_extension": ".py",
   "mimetype": "text/x-python",
   "name": "python",
   "nbconvert_exporter": "python",
   "pygments_lexer": "ipython2",
   "version": "2.7.6"
  }
 },
 "nbformat": 4,
 "nbformat_minor": 0
}
