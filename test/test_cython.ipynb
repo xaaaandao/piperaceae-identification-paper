{
 "cells": [
  {
   "cell_type": "code",
   "execution_count": 12,
   "outputs": [],
   "source": [
    "import collections\n",
    "import itertools\n",
    "import numpy as np\n",
    "import pathlib\n",
    "from sklearn.model_selection import StratifiedKFold\n",
    "\n",
    "from a import split_dataset"
   ],
   "metadata": {
    "collapsed": false,
    "ExecuteTime": {
     "start_time": "2023-04-06T14:24:29.205329Z",
     "end_time": "2023-04-06T14:24:29.246624Z"
    }
   }
  },
  {
   "cell_type": "code",
   "execution_count": 10,
   "outputs": [],
   "source": [
    "input = '/home/xandao/Imagens/pr_dataset_features/RGB/400/specific_epithet_trusted/5/vgg16/npz'\n",
    "n_samples_original = 1356\n",
    "n_patch =  3\n",
    "n_samples_patch = n_samples_original * n_patch\n",
    "n_features = 512\n",
    "n_labels = 55\n",
    "SEED=1234"
   ],
   "metadata": {
    "collapsed": false,
    "ExecuteTime": {
     "start_time": "2023-04-06T14:23:25.428928Z",
     "end_time": "2023-04-06T14:23:25.470758Z"
    }
   }
  },
  {
   "cell_type": "code",
   "execution_count": 11,
   "outputs": [
    {
     "name": "stdout",
     "output_type": "stream",
     "text": [
      "(4068, 512) (4068,)\n"
     ]
    }
   ],
   "source": [
    "x = np.empty(shape=(n_samples_patch, n_features))\n",
    "y = []\n",
    "\n",
    "for f in pathlib.Path(input).rglob('*.npz'):\n",
    "    if f.is_file():\n",
    "        d = np.load(f)\n",
    "        np.vstack((x, d['x']))\n",
    "        y.append(d['y'])\n",
    "\n",
    "x = x.astype(np.float64)\n",
    "y = list(itertools.chain(*y))\n",
    "y = np.array(y, dtype=np.int16)\n",
    "print(x.shape, y.shape)"
   ],
   "metadata": {
    "collapsed": false,
    "ExecuteTime": {
     "start_time": "2023-04-06T14:23:25.470681Z",
     "end_time": "2023-04-06T14:23:25.651461Z"
    }
   }
  },
  {
   "cell_type": "code",
   "execution_count": 16,
   "outputs": [
    {
     "name": "stdout",
     "output_type": "stream",
     "text": [
      "(1356, 512) (1356,)\n"
     ]
    }
   ],
   "source": [
    "np.random.seed(seed=SEED)\n",
    "fake_x = np.random.random_sample((n_samples_original, n_features))\n",
    "fake_y = [np.repeat(k, int(v/n_patch)) for k, v in collections.Counter(y).items()]\n",
    "fake_y = np.array(list(itertools.chain(*fake_y)))\n",
    "print(fake_x.shape, fake_y.shape)"
   ],
   "metadata": {
    "collapsed": false,
    "ExecuteTime": {
     "start_time": "2023-04-06T14:28:45.568798Z",
     "end_time": "2023-04-06T14:28:45.621830Z"
    }
   }
  },
  {
   "cell_type": "code",
   "execution_count": 17,
   "outputs": [],
   "source": [
    "folds = 5\n",
    "kf = StratifiedKFold(n_splits=folds, shuffle=True, random_state=SEED)\n",
    "index = kf.split(fake_x, fake_y)"
   ],
   "metadata": {
    "collapsed": false,
    "ExecuteTime": {
     "start_time": "2023-04-06T14:29:38.692196Z",
     "end_time": "2023-04-06T14:29:38.756532Z"
    }
   }
  },
  {
   "cell_type": "code",
   "execution_count": 18,
   "outputs": [],
   "source": [
    "def get_samples_with_patch(x, y, index_train_test, n_patch):\n",
    "    new_x = np.empty(shape=(0, x.shape[1]))\n",
    "    new_y = np.empty(shape=(0,))\n",
    "\n",
    "    for index in index_train_test:\n",
    "        start = (index * n_patch)\n",
    "        end = start + n_patch\n",
    "        new_x = np.concatenate([new_x, x[start:end]])\n",
    "        new_y = np.concatenate([new_y, y[start:end]])\n",
    "\n",
    "    return new_x, new_y\n",
    "\n",
    "\n",
    "def load_a(x, y):\n",
    "    for (index_train, index_test) in index:\n",
    "        x_train, y_train = get_samples_with_patch(x, y, index_train, n_patch)\n",
    "        x_test, y_test = get_samples_with_patch(x, y, index_test, n_patch)"
   ],
   "metadata": {
    "collapsed": false,
    "ExecuteTime": {
     "start_time": "2023-04-06T14:30:46.398206Z",
     "end_time": "2023-04-06T14:30:46.472078Z"
    }
   }
  },
  {
   "cell_type": "code",
   "execution_count": 19,
   "outputs": [
    {
     "name": "stdout",
     "output_type": "stream",
     "text": [
      "The slowest run took 13.41 times longer than the fastest. This could mean that an intermediate result is being cached.\n",
      "396 ns ± 551 ns per loop (mean ± std. dev. of 7 runs, 1 loop each)\n"
     ]
    }
   ],
   "source": [
    "%timeit load_a(x, y)"
   ],
   "metadata": {
    "collapsed": false,
    "ExecuteTime": {
     "start_time": "2023-04-06T14:30:46.442703Z",
     "end_time": "2023-04-06T14:30:52.587550Z"
    }
   }
  },
  {
   "cell_type": "code",
   "execution_count": 20,
   "outputs": [],
   "source": [
    "def load_b(x, y):\n",
    "    for index_train, index_test in index:\n",
    "        x_train, y_train = split_dataset(index_train, n_features, n_patch, x, y)\n",
    "        x_test, y_test = split_dataset(index_test, n_features, n_patch, x, y)"
   ],
   "metadata": {
    "collapsed": false,
    "ExecuteTime": {
     "start_time": "2023-04-06T14:30:57.500061Z",
     "end_time": "2023-04-06T14:30:57.509999Z"
    }
   }
  },
  {
   "cell_type": "code",
   "execution_count": 21,
   "outputs": [
    {
     "name": "stdout",
     "output_type": "stream",
     "text": [
      "53.3 ns ± 1.24 ns per loop (mean ± std. dev. of 7 runs, 10,000,000 loops each)\n"
     ]
    }
   ],
   "source": [
    "%timeit load_b(x, y)"
   ],
   "metadata": {
    "collapsed": false,
    "ExecuteTime": {
     "start_time": "2023-04-06T14:30:58.034186Z",
     "end_time": "2023-04-06T14:31:02.404592Z"
    }
   }
  }
 ],
 "metadata": {
  "kernelspec": {
   "display_name": "Python 3",
   "language": "python",
   "name": "python3"
  },
  "language_info": {
   "codemirror_mode": {
    "name": "ipython",
    "version": 2
   },
   "file_extension": ".py",
   "mimetype": "text/x-python",
   "name": "python",
   "nbconvert_exporter": "python",
   "pygments_lexer": "ipython2",
   "version": "2.7.6"
  }
 },
 "nbformat": 4,
 "nbformat_minor": 0
}
