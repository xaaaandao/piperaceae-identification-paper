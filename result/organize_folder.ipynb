{
 "cells": [
  {
   "cell_type": "code",
   "execution_count": null,
   "outputs": [],
   "source": [
    "import os\n",
    "import pathlib\n",
    "import re\n",
    "import shutil\n",
    "\n",
    "list_channel = [\"GRAYSCALE\", \"RGB\"]\n",
    "list_dim = [\"400\", \"512\", \"256\"]\n",
    "list_patch = [\"patch=3\", \"patch=5\", \"patch=7\"]\n",
    "list_orientation_patch = [\"horizontal\", \"vertical\"]\n",
    "list_source = [\"unet\", \"MATLAB\", \"PHOTOSHOP\", \"iwssip\"]\n",
    "\n",
    "for c in list_channel:\n",
    "    for o in list_orientation_patch:\n",
    "        for p in list_patch:\n",
    "            for s in list_source:\n",
    "                for d in list_dim:\n",
    "                    path = os.path.join(\"r\", c, o, p, s, d)\n",
    "                    pathlib.Path(path).mkdir(parents=True, exist_ok=True)\n",
    "\n",
    "path = \"../resultados/iwssip\"\n",
    "for file in pathlib.Path(path).rglob(\"info.csv\"):\n",
    "    with open(file) as f:\n",
    "        main_line = f.readlines()[0].split(\";\")[1].lower()\n",
    "        channel = list(filter(lambda x: str(x).lower() in main_line, list_channel))\n",
    "        channel = \"GRAYSCALE\" if len(channel) == 0 else channel[0]\n",
    "\n",
    "        dim = list(filter(lambda x: str(x).lower() in main_line, list_dim))\n",
    "        dim = \"256\" if len(dim) == 0 else dim[0]\n",
    "\n",
    "        patch = list(filter(lambda x: str(x).lower() in main_line, list_patch))[0]\n",
    "        orientation_patch = list(filter(lambda x: str(x).lower() in main_line, list_orientation_patch))[0]\n",
    "        source = list(filter(lambda x: str(x).lower() in main_line, list_source))[0]\n",
    "        print(channel, dim, patch, orientation_patch, source)\n",
    "\n",
    "        # print(re.split(\"[/]\", str(file)))\n",
    "        _, _, _, data, _, _ = re.split(\"[/]\", str(file))\n",
    "\n",
    "        list_dirs = [dir for dir in pathlib.Path(os.path.join(path, data)).rglob(\"*\") if dir.is_dir()]\n",
    "        print(list_dirs)\n",
    "        for d in list_dirs:\n",
    "            index = str(d).index(data)\n",
    "            subfolders = str(d)[index:]\n",
    "            dst = os.path.join(\"r\", channel, orientation_patch, patch, source, dim, subfolders)\n",
    "            pathlib.Path(dst).mkdir(parents=True, exist_ok=True)\n",
    "\n",
    "        list_file = [file for file in pathlib.Path(os.path.join(path, data)).rglob(\"*\") if file.is_file()]\n",
    "        for fs in list_file:\n",
    "            index = str(fs).index(data)\n",
    "            path_to_file = str(fs)[index:]\n",
    "            dst = os.path.join(\"r\", channel, orientation_patch, patch, source, dim, path_to_file)\n",
    "            shutil.copy(str(fs), dst)\n",
    "\n",
    "        f.close()"
   ],
   "metadata": {
    "collapsed": false
   }
  },
  {
   "cell_type": "code",
   "execution_count": null,
   "outputs": [],
   "source": [],
   "metadata": {
    "collapsed": false
   }
  }
 ],
 "metadata": {
  "kernelspec": {
   "display_name": "Python 3",
   "language": "python",
   "name": "python3"
  },
  "language_info": {
   "codemirror_mode": {
    "name": "ipython",
    "version": 2
   },
   "file_extension": ".py",
   "mimetype": "text/x-python",
   "name": "python",
   "nbconvert_exporter": "python",
   "pygments_lexer": "ipython2",
   "version": "2.7.6"
  }
 },
 "nbformat": 4,
 "nbformat_minor": 0
}
