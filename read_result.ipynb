{
 "cells": [
  {
   "cell_type": "code",
   "execution_count": null,
   "metadata": {
    "collapsed": true
   },
   "outputs": [],
   "source": [
    "import csv\n",
    "import datetime\n",
    "import itertools\n",
    "import numpy as np\n",
    "import os.path\n",
    "import pandas as pd\n",
    "import pathlib"
   ]
  },
  {
   "cell_type": "code",
   "execution_count": null,
   "outputs": [],
   "source": [
    "path = '/home/xandao/Documentos/resultados_gimp/identificacao_george/especie/acima-10/RGB'"
   ],
   "metadata": {
    "collapsed": false
   }
  },
  {
   "cell_type": "code",
   "execution_count": null,
   "outputs": [],
   "source": [
    "list_files = [file for file in pathlib.Path(path).rglob('mean.csv') if file.is_file()]\n",
    "len(list_files)"
   ],
   "metadata": {
    "collapsed": false
   }
  },
  {
   "cell_type": "code",
   "execution_count": null,
   "outputs": [],
   "source": [
    "list_extractor = {\n",
    "    'lbp': [59],\n",
    "    'surf64': [128, 256, 257],\n",
    "    'surf128': [128, 256, 513],\n",
    "    'mobilenetv2': [128, 256, 512, 1024, 1280],\n",
    "    'resnet50v2': [128, 256, 512, 1024, 2048],\n",
    "    'vgg16': [128, 256, 512]\n",
    "}\n",
    "index = [e + '_' + str(d) + '_' + m for e in list_extractor.keys() for d in reversed(list_extractor[e]) for m in ['mean', 'std']]"
   ],
   "metadata": {
    "collapsed": false
   }
  },
  {
   "cell_type": "code",
   "execution_count": null,
   "outputs": [],
   "source": [
    "list_classifier = ['DecisionTreeClassifier', 'KNeighborsClassifier', 'MLPClassifier', 'RandomForestClassifier', 'SVC']\n",
    "list_dim = [256, 400, 512]\n",
    "# list_segmented = ['manual', 'unet']\n",
    "list_segmented = ['unet']\n",
    "columns = [c + '_' + str(d) + '_' + s for c in list_classifier for s in sorted(list_segmented) for d in list_dim]"
   ],
   "metadata": {
    "collapsed": false
   }
  },
  {
   "cell_type": "code",
   "execution_count": null,
   "outputs": [],
   "source": [
    "def create_sheet():\n",
    "    return {\n",
    "        'mean': pd.DataFrame(index=index, columns=columns),\n",
    "        'time': pd.DataFrame(index=index, columns=columns),\n",
    "        'folder': pd.DataFrame(index=index, columns=columns)\n",
    "    }\n",
    "\n",
    "sheet_rgb = create_sheet()\n",
    "sheet_grayscale = create_sheet()\n",
    "display(sheet_rgb['mean'])"
   ],
   "metadata": {
    "collapsed": false
   }
  },
  {
   "cell_type": "code",
   "execution_count": null,
   "outputs": [],
   "source": [
    "ROUND_VALUE = 3\n",
    "\n",
    "def round_mean(value):\n",
    "     return '=ROUND(' + str(value) + ' * 100; ' + str(ROUND_VALUE) + ')'\n",
    "\n",
    "\n",
    "def round_time(value):\n",
    "     return '=ROUND(' + str(value) + '; ' + str(ROUND_VALUE) + ')'\n",
    "\n",
    "\n",
    "def plus_minus_std(value, top_k, total_top_k):\n",
    "     return '=CONCATENATE(\"±\"; ROUND(' + str(value) + ' * 100; ' + str(ROUND_VALUE) + '); \" (' + str(top_k) + '/' + total_top_k + ')\")'\n",
    "\n",
    "\n",
    "def get_classifier(path):\n",
    "    classifier = list(filter(lambda x: x.lower() in str(path).lower(), list_classifier))\n",
    "\n",
    "    if len(classifier) == 0:\n",
    "        raise ValueError('classifier not available in list')\n",
    "\n",
    "    return classifier[0]\n",
    "\n",
    "\n",
    "def is_date(string):\n",
    "    try:\n",
    "        date = datetime.datetime.strptime(string, '%d-%m-%Y-%H-%M-%S')\n",
    "        return True\n",
    "\n",
    "    except ValueError:\n",
    "        return False\n",
    "\n",
    "\n",
    "def get_date(path):\n",
    "    for p in str(path).split('/'):\n",
    "        if is_date(p):\n",
    "            return p\n",
    "    return None\n",
    "\n",
    "\n",
    "def set_values_sheet(column, date, index_folder, index_mean, index_std, mean, mean_time_search_best_params, mean_time_train_valid, sheet, std, top_k, total_top_k):\n",
    "    sheet['mean'].loc[index_mean, column] = round_mean(mean)\n",
    "    sheet['mean'].loc[index_std, column] = plus_minus_std(std, top_k, total_top_k)\n",
    "    sheet['time'].loc[index_mean, column] = round_time(mean_time_train_valid)\n",
    "    sheet['time'].loc[index_std, column] = round_time(mean_time_search_best_params)\n",
    "    sheet['folder'].loc[index_folder, column] = date\n",
    "\n",
    "\n",
    "def fill_sheet_mean_std(classifier, color_mode, date, filename, image_size, extractor, n_features, n_patch, segmented):\n",
    "    sheet_mean = pd.read_csv(filename, sep=';', index_col=0, header=None)\n",
    "    mean = sheet_mean.loc['mean_f1_sum'][1]\n",
    "    mean_time_search_best_params = sheet_mean.loc['mean_time_search_best_params'][1]\n",
    "    mean_time_train_valid = sheet_mean.loc['mean_time_train_valid'][1]\n",
    "    std = sheet_mean.loc['std_f1_sum'][1]\n",
    "\n",
    "    sheet_mean_top_k_sum = pd.read_csv(str(filename).replace('mean.csv', 'mean_top_k/mean_top_k_sum.csv'), sep=';', index_col=0, header=0)\n",
    "    sheet_info_top_k_sum = pd.read_csv(str(filename).replace('mean.csv', '0/top_k/sum/info_top_k_sum.csv'), sep=';', index_col=0, header=None)\n",
    "    top_k = sheet_mean_top_k_sum.iloc[1]['top_k']\n",
    "    total_top_k = sheet_info_top_k_sum.loc['total'][1]\n",
    "\n",
    "    index_mean = extractor + '_' + n_features + '_' + 'mean'\n",
    "    index_std = extractor + '_' + n_features + '_' + 'std'\n",
    "    column = classifier + '_' + image_size + '_' + segmented\n",
    "\n",
    "    if color_mode == 'grayscale':\n",
    "        set_values_sheet(column, date, index_mean, index_mean, index_std, mean, mean_time_search_best_params, mean_time_train_valid, sheet_grayscale, std, top_k, total_top_k)\n",
    "    else:\n",
    "        set_values_sheet(column, date, index_mean, index_mean, index_std, mean, mean_time_search_best_params, mean_time_train_valid, sheet_rgb, std, top_k, total_top_k)"
   ],
   "metadata": {
    "collapsed": false
   }
  },
  {
   "cell_type": "code",
   "execution_count": null,
   "outputs": [],
   "source": [
    "for file in sorted(list_files):\n",
    "    sheet_info = pd.read_csv(str(file).replace('mean.csv', 'info.csv'), header=None, sep=';', index_col=0)\n",
    "\n",
    "    classifier = get_classifier(file)\n",
    "    color_mode = sheet_info.loc['color_mode'][1]\n",
    "    image_size = sheet_info.loc['dim_image'][1]\n",
    "    extractor = sheet_info.loc['extractor'][1]\n",
    "    n_features = sheet_info.loc['data_n_features'][1]\n",
    "    n_patch = sheet_info.loc['n_patch'][1]\n",
    "    slice_patch = sheet_info.loc['slice'][1]\n",
    "    segmented = 'unet' if 'unet' in str(file).lower() or 'u-net' in str(file).lower() else 'manual'\n",
    "    date = get_date(file)\n",
    "\n",
    "    fill_sheet_mean_std(classifier, color_mode, date, file, image_size, extractor, n_features, n_patch, segmented)"
   ],
   "metadata": {
    "collapsed": false
   }
  },
  {
   "cell_type": "code",
   "execution_count": null,
   "outputs": [],
   "source": [
    "pathlib.Path('out').mkdir(exist_ok=True, parents=True)\n",
    "sheet_grayscale['mean'].to_csv('out/grayscale.csv', sep=';', na_rep='', quoting=csv.QUOTE_ALL)\n",
    "sheet_grayscale['mean'].to_excel('out/grayscale.xlsx', na_rep='', engine='xlsxwriter')\n",
    "sheet_rgb['mean'].to_csv('out/rgb.csv', sep=';', na_rep='', quoting=csv.QUOTE_ALL)\n",
    "sheet_rgb['mean'].to_excel('out/rgb.xlsx', na_rep='', engine='xlsxwriter')\n",
    "sheet_rgb['time'].to_csv('out/rgb_t.csv', sep=';', na_rep='', quoting=csv.QUOTE_ALL)\n",
    "sheet_rgb['time'].to_excel('out/rgb_t.xlsx', na_rep='', engine='xlsxwriter')"
   ],
   "metadata": {
    "collapsed": false
   }
  },
  {
   "cell_type": "code",
   "execution_count": null,
   "outputs": [],
   "source": [],
   "metadata": {
    "collapsed": false
   }
  }
 ],
 "metadata": {
  "kernelspec": {
   "display_name": "Python 3",
   "language": "python",
   "name": "python3"
  },
  "language_info": {
   "codemirror_mode": {
    "name": "ipython",
    "version": 2
   },
   "file_extension": ".py",
   "mimetype": "text/x-python",
   "name": "python",
   "nbconvert_exporter": "python",
   "pygments_lexer": "ipython2",
   "version": "2.7.6"
  }
 },
 "nbformat": 4,
 "nbformat_minor": 0
}
