{
 "cells": [
  {
   "cell_type": "code",
   "execution_count": null,
   "metadata": {
    "collapsed": true
   },
   "outputs": [],
   "source": [
    "import math\n",
    "import os\n",
    "import pandas as pd\n",
    "import pathlib\n",
    "import re"
   ]
  },
  {
   "cell_type": "code",
   "execution_count": null,
   "outputs": [],
   "source": [
    "color_mode='grayscale'\n",
    "metric = 'mean_f1_sum'\n",
    "std_metric = 'std_f1_sum'\n",
    "list_extractor = {\n",
    "    'lbp': [59],\n",
    "    'surf64': [128, 256, 257],\n",
    "    'surf128': [128, 256, 513],\n",
    "    'mobilenetv2': [128, 256, 512, 1024, 1280],\n",
    "    'resnet50v2': [128, 256, 512, 1024, 2048],\n",
    "    'vgg16': [128, 256, 512]\n",
    "}\n",
    "list_classifier = ['DecisionTreeClassifier', 'KNeighborsClassifier', 'MLPClassifier', 'RandomForestClassifier', 'SVC']\n",
    "list_dim = [256, 400, 512]\n",
    "list_metrics = ['mean', 'std']\n",
    "list_source = ['manual', 'unet']\n",
    "list_time = ['search_best_params', 'train_valid']\n",
    "\n",
    "path = 'resultados'"
   ],
   "metadata": {
    "collapsed": false
   }
  },
  {
   "cell_type": "code",
   "execution_count": null,
   "outputs": [],
   "source": [
    "columns = [c + '_' + str(d) + '_' + s for c in list_classifier for s in sorted(list_source) for d in list_dim]\n",
    "\n",
    "index = [e + '_' + str(d) + '_' + m for e in list_extractor.keys() for d in reversed(list_extractor[e]) for m in list_metrics]\n",
    "index_folder = [e + '_' + str(d) for e in list_extractor.keys() for d in reversed(list_extractor[e])]\n",
    "index_time = [e + '_' + str(d) + '_' + t for e in list_extractor.keys() for d in reversed(list_extractor[e]) for t in sorted(list_time, reverse=True)]"
   ],
   "metadata": {
    "collapsed": false
   }
  },
  {
   "cell_type": "code",
   "execution_count": null,
   "outputs": [],
   "source": [
    "def new(columns, index, index_folder, index_time):\n",
    "    df_folder = pd.DataFrame(columns=columns, index=index_folder)\n",
    "    df_mean = pd.DataFrame(columns=columns, index=index)\n",
    "    df_mean_time = pd.DataFrame(columns=columns, index=index_time)\n",
    "    return df_folder, df_mean, df_mean_time\n",
    "\n",
    "def file_is_colormode_and_slice_and_patch(color, file):\n",
    "    data_info = pd.read_csv(os.path.join(str(file).replace('mean.csv', 'info.csv')), sep=\";\", header=None, index_col=0)\n",
    "    color_mode = data_info.loc['color_mode'][1]\n",
    "    dim = data_info.loc['dim_image'][1]\n",
    "    n_patch = data_info.loc['n_patch'][1]\n",
    "    slice = data_info.loc['slice'][1]\n",
    "    return True if color_mode.lower() == color.lower() and ('SEM_RESIZE' != dim) and (slice == 'horizontal' or math.isnan(slice)) and (n_patch == '3' or math.isnan(n_patch)) else False\n",
    "\n",
    "def save(color_mode, df_folder, df_mean, df_mean_time):\n",
    "    path_outfile = 'mean'\n",
    "    pathlib.Path(path_outfile).mkdir(parents=True, exist_ok=True)\n",
    "    writer = pd.ExcelWriter(os.path.join(path_outfile, f'mean-{color_mode}.xlsx'), engine='xlsxwriter')\n",
    "    df_folder.to_excel(writer, sheet_name='folder', na_rep='')\n",
    "    df_mean.to_excel(writer, sheet_name='mean', na_rep='')\n",
    "    df_mean_time.to_excel(writer, sheet_name='mean_time', na_rep='')\n",
    "    writer.save()"
   ],
   "metadata": {
    "collapsed": false
   }
  },
  {
   "cell_type": "code",
   "execution_count": null,
   "outputs": [],
   "source": [
    "df_folder, df_mean, df_mean_time = new(columns, index, index_folder, index_time)"
   ],
   "metadata": {
    "collapsed": false
   }
  },
  {
   "cell_type": "code",
   "execution_count": null,
   "outputs": [],
   "source": [
    "import datetime\n",
    "\n",
    "def is_date(string, fuzzy=False):\n",
    "    \"\"\"\n",
    "    Return whether the string can be interpreted as a date.\n",
    "\n",
    "    :param string: str, string to check for date\n",
    "    :param fuzzy: bool, ignore unknown tokens in string if True\n",
    "    \"\"\"\n",
    "    try:\n",
    "        date = datetime.datetime.strptime(string, '%d-%m-%Y-%H-%M-%S')\n",
    "        return True\n",
    "\n",
    "    except ValueError:\n",
    "        return False\n",
    "\n",
    "def search_info(list_info, info):\n",
    "    result = list(filter(lambda x: x.lower() in str(info).lower(), list_info))\n",
    "    return None if len(result) == 0 else result[0]\n",
    "\n",
    "def get_info(path):\n",
    "    # dataset = search_info(['george', 'sp', 'specieslink'], str(path))\n",
    "    # color_mode = search_info(['grayscale', 'rgb'], str(path))\n",
    "    segmented = search_info(['manual', 'unet'], str(path))\n",
    "    dim = search_info(['256', '400', '512'], str(path))\n",
    "    extractor = search_info(['lbp', 'surf', 'mobilenetv2', 'resnet50v2', 'vgg16'], str(path))\n",
    "    slice = search_info(['horizontal', 'vertical', 'h+v'], str(path))\n",
    "    classifier = search_info(list_classifier, str(path))\n",
    "    print(classifier, path)\n",
    "    date = ''\n",
    "\n",
    "    for p in str(path).split('/'):\n",
    "        if is_date(p):\n",
    "            date = p\n",
    "\n",
    "    return date, segmented, dim, extractor, classifier, extractor\n",
    "\n",
    "list_files = [file for file in pathlib.Path(path).rglob('mean.csv') if file.is_file()]\n",
    "list_files = [file for file in list_files if file_is_colormode_and_slice_and_patch(color_mode, file)]\n",
    "len(list_files)"
   ],
   "metadata": {
    "collapsed": false
   }
  },
  {
   "cell_type": "code",
   "execution_count": null,
   "outputs": [],
   "source": [
    "for file in list_files:\n",
    "    # print(file)\n",
    "    filename_info = str(file).replace('mean.csv', 'info.csv')\n",
    "    data_info = data = pd.read_csv(filename_info, sep=';', header=None, index_col=0).squeeze()\n",
    "    n_features = data_info.loc['data_n_features']\n",
    "\n",
    "    date, segmented, dim, extractor, classifier, extractor = get_info(file)\n",
    "    print(date, segmented, dim, extractor, classifier, n_features)\n",
    "\n",
    "    # source = source.replace('segmented_', '')\n",
    "    data = pd.read_csv(file, sep=';', header=None, index_col=0).squeeze()\n",
    "    print(n_features)\n",
    "    index = extractor + '_' + str(n_features)\n",
    "    column = classifier + '_' + dim + '_' + segmented\n",
    "\n",
    "    print(data.loc[metric][1], data.loc[std_metric][1])\n",
    "    index_mean = index + '_mean'\n",
    "    index_std = index + '_std'\n",
    "\n",
    "    print(index_mean, index_std)\n",
    "    df_mean.loc[index_mean, column] = str(f'=ROUND({data.loc[metric][1]} * 100, 2)')\n",
    "    df_mean.loc[index_std, column] = str(f'=\\\"±\\\"&ROUND({data.loc[std_metric][1]} * 100, 2)')\n",
    "#\n",
    "    df_folder.loc[index, column] = date\n",
    "    # print(index, column, date)\n",
    "\n",
    "    index_mean_time_train_valid = index + '_train_valid'\n",
    "    index_mean_time_search_best_params = index + '_search_best_params'\n",
    "    df_mean_time.loc[index_mean_time_train_valid, column] = str(f'=ROUND({data.loc[\"mean_time_train_valid\"][1]}, 2)')\n",
    "    df_mean_time.loc[index_mean_time_search_best_params, column] = str(f'=ROUND({data.loc[\"mean_time_search_best_params\"][1]}, 2)')\n",
    "    print(\" \")\n",
    "save(color_mode, df_folder, df_mean, df_mean_time)"
   ],
   "metadata": {
    "collapsed": false
   }
  }
 ],
 "metadata": {
  "kernelspec": {
   "display_name": "Python 3",
   "language": "python",
   "name": "python3"
  },
  "language_info": {
   "codemirror_mode": {
    "name": "ipython",
    "version": 2
   },
   "file_extension": ".py",
   "mimetype": "text/x-python",
   "name": "python",
   "nbconvert_exporter": "python",
   "pygments_lexer": "ipython2",
   "version": "2.7.6"
  }
 },
 "nbformat": 4,
 "nbformat_minor": 0
}
