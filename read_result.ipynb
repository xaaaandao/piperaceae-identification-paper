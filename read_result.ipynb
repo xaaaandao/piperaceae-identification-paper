{
 "cells": [
  {
   "cell_type": "code",
   "execution_count": null,
   "metadata": {
    "collapsed": true
   },
   "outputs": [],
   "source": [
    "import csv\n",
    "import math\n",
    "import os\n",
    "import pandas as pd\n",
    "import pathlib\n",
    "import re"
   ]
  },
  {
   "cell_type": "code",
   "execution_count": null,
   "outputs": [],
   "source": [
    "list_extractor = {\n",
    "    'lbp': [59],\n",
    "    'surf64': [128, 256, 257],\n",
    "    'surf128': [128, 256, 512, 513],\n",
    "    'mobilenetv2': [128, 256, 512, 1024, 1280],\n",
    "    'resnet50v2': [128, 256, 512, 1024, 2048],\n",
    "    'vgg16': [128, 256, 512]\n",
    "}\n",
    "list_classifier = ['DecisionTreeClassifier', 'KNeighborsClassifier', 'MLPClassifier', 'RandomForestClassifier', 'SVC']\n",
    "list_dim = [256, 400, 512]\n",
    "list_metrics = ['mean', 'std']\n",
    "list_source = ['manual', 'unet']\n",
    "list_time = ['search_best_params', 'train_valid']\n",
    "\n",
    "path = 'out'"
   ],
   "metadata": {
    "collapsed": false
   }
  },
  {
   "cell_type": "code",
   "execution_count": null,
   "outputs": [],
   "source": [
    "columns = [c + '_' + str(d) + '_' + s for c in list_classifier for s in sorted(list_source) for d in list_dim]\n",
    "columns = list(filter(lambda x: not('400_manual' in x) and not('512_manual' in x), columns))\n",
    "\n",
    "index_time = [e + '_' + str(d) + '_' + t for e in list_extractor.keys() for d in reversed(list_extractor[e]) for t in list_time]\n",
    "index = [e + '_' + str(d) + '_' + m for e in list_extractor.keys() for d in reversed(list_extractor[e]) for m in list_metrics]"
   ],
   "metadata": {
    "collapsed": false
   }
  },
  {
   "cell_type": "code",
   "execution_count": null,
   "outputs": [],
   "source": [
    "df = pd.DataFrame(columns=columns, index=index)\n",
    "df_time = pd.DataFrame(columns=columns, index=index_time)"
   ],
   "metadata": {
    "collapsed": false
   }
  },
  {
   "cell_type": "code",
   "execution_count": null,
   "outputs": [],
   "source": [
    "def file_is_colormode_and_slice_and_patch(file):\n",
    "    data_info = pd.read_csv(os.path.join(str(file).replace('mean.csv', 'info.csv')), sep=\";\", header=None, index_col=0)\n",
    "    color_mode = data_info.loc['color_mode'][1]\n",
    "    slice = data_info.loc['slice'][1]\n",
    "    n_patch = data_info.loc['n_patch'][1]\n",
    "    return True if color_mode.lower() == 'grayscale' and (slice == 'horizontal' or math.isnan(slice)) and (n_patch == '3' or math.isnan(n_patch)) else False\n",
    "\n",
    "list_files = [p for p in pathlib.Path(path).rglob('mean.csv') if p.is_file()]\n",
    "list_files = [file for file in list_files if file_is_colormode_and_slice_and_patch(file)]\n",
    "\n",
    "for file in list_files:\n",
    "    _, _, source, dim_image, extractor, classifier, _, n_features, _ = re.split('/', str(file))\n",
    "    data = pd.read_csv(file, sep=\";\", header=None, index_col=0).squeeze()\n",
    "    index_mean = extractor + '_' + str(n_features) + '_mean'\n",
    "    index_std = extractor + '_' + str(n_features) + '_std'\n",
    "    column = classifier + '_' + dim_image + '_' + source\n",
    "    df.loc[index_mean, column] = data.loc['mean_sum'][1]\n",
    "    df.loc[index_std, column] = '±' + str(float(data.loc['std_sum'][1]))\n",
    "\n",
    "    index_mean_time_train_valid = extractor + '_' + str(n_features) + '_train_valid'\n",
    "    index_mean_time_search_best_params = extractor + '_' + str(n_features) + '_search_best_params'\n",
    "    df_time.loc[index_mean_time_train_valid, column] = data.loc['mean_time_train_valid'][1]\n",
    "    df_time.loc[index_mean_time_search_best_params, column] = data.loc['mean_time_search_best_params'][1]\n",
    "df"
   ],
   "metadata": {
    "collapsed": false
   }
  },
  {
   "cell_type": "code",
   "execution_count": null,
   "outputs": [],
   "source": [
    "df.to_csv(os.path.join('mean.csv'), sep=';', na_rep='', quoting=csv.QUOTE_ALL)\n",
    "df_time.to_csv(os.path.join('mean_time.csv'), sep=';', na_rep='', quoting=csv.QUOTE_ALL)\n",
    "df_time"
   ],
   "metadata": {
    "collapsed": false
   }
  }
 ],
 "metadata": {
  "kernelspec": {
   "display_name": "Python 3",
   "language": "python",
   "name": "python3"
  },
  "language_info": {
   "codemirror_mode": {
    "name": "ipython",
    "version": 2
   },
   "file_extension": ".py",
   "mimetype": "text/x-python",
   "name": "python",
   "nbconvert_exporter": "python",
   "pygments_lexer": "ipython2",
   "version": "2.7.6"
  }
 },
 "nbformat": 4,
 "nbformat_minor": 0
}
