{
 "cells": [
  {
   "cell_type": "code",
   "execution_count": 1,
   "outputs": [],
   "source": [
    "%reload_ext autoreload\n",
    "%autoreload 2\n",
    "%matplotlib inline\n",
    "import datetime\n",
    "import pathlib\n",
    "\n",
    "import numpy\n",
    "import os\n",
    "import sklearn.model_selection\n",
    "\n",
    "from classifier import classification_data"
   ],
   "metadata": {
    "collapsed": false
   }
  },
  {
   "cell_type": "code",
   "execution_count": 2,
   "metadata": {},
   "outputs": [],
   "source": [
    "cfg = {\n",
    "    \"fold\": 5,\n",
    "    \"n_labels\": 5,\n",
    "    \"path_base\": \"../features\",\n",
    "    \"path_out\": \"out\",\n",
    "    \"test_size\": 0.2,\n",
    "    \"train_size\": 0.8,\n",
    "    \"random_state\": 1234\n",
    "}"
   ]
  },
  {
   "cell_type": "code",
   "execution_count": 3,
   "outputs": [
    {
     "data": {
      "text/plain": "5"
     },
     "execution_count": 3,
     "metadata": {},
     "output_type": "execute_result"
    }
   ],
   "source": [
    "surf = numpy.loadtxt(\"surf64_iwssip.txt\")\n",
    "n_samples, n_features = surf.shape\n",
    "x_surf, y_surf = surf[0:, 0:n_features - 1], surf[:, n_features - 1]\n",
    "\n",
    "kf = sklearn.model_selection.KFold(n_splits=cfg[\"fold\"], shuffle=True, random_state=cfg[\"random_state\"])\n",
    "kf.get_n_splits(x_surf, y_surf)"
   ],
   "metadata": {
    "collapsed": false
   }
  },
  {
   "cell_type": "code",
   "execution_count": 11,
   "outputs": [
    {
     "name": "stdout",
     "output_type": "stream",
     "text": [
      "12\n",
      "0 3 /home/xandao/Documentos/GitHub/features/unet/GRAYSCALE/256/mobilenetv2/aa/vertical+patch=3+mobilenetv2.npz\n",
      "unet mobilenetv2 256 grayscale vertical 3\n",
      "0 DecisionTreeClassifier (900, 128) (225, 128)\n",
      "(225, 5) (225,)\n",
      "1 DecisionTreeClassifier (900, 128) (225, 128)\n",
      "(225, 5) (225,)\n",
      "2 DecisionTreeClassifier (900, 128) (225, 128)\n",
      "(225, 5) (225,)\n",
      "3 DecisionTreeClassifier (900, 128) (225, 128)\n",
      "(225, 5) (225,)\n",
      "4 DecisionTreeClassifier (900, 128) (225, 128)\n",
      "(225, 5) (225,)\n",
      "\n",
      "\n",
      "1 0 /home/xandao/Documentos/GitHub/features/unet/GRAYSCALE/256/mobilenetv2/aa/vertical+patch=5+mobilenetv2.npz\n",
      "unet mobilenetv2 256 grayscale vertical 5\n",
      "0 DecisionTreeClassifier (1500, 128) (375, 128)\n",
      "(375, 5) (375,)\n",
      "1 DecisionTreeClassifier (1500, 128) (375, 128)\n",
      "(375, 5) (375,)\n",
      "2 DecisionTreeClassifier (1500, 128) (375, 128)\n",
      "(375, 5) (375,)\n",
      "3 DecisionTreeClassifier (1500, 128) (375, 128)\n",
      "(375, 5) (375,)\n",
      "4 DecisionTreeClassifier (1500, 128) (375, 128)\n",
      "(375, 5) (375,)\n",
      "\n",
      "\n",
      "2 0 /home/xandao/Documentos/GitHub/features/unet/GRAYSCALE/256/mobilenetv2/aa/vertical+patch=7+mobilenetv2.npz\n",
      "unet mobilenetv2 256 grayscale vertical 7\n",
      "0 DecisionTreeClassifier (2100, 128) (525, 128)\n",
      "(525, 5) (525,)\n",
      "1 DecisionTreeClassifier (2100, 128) (525, 128)\n",
      "(525, 5) (525,)\n",
      "2 DecisionTreeClassifier (2100, 128) (525, 128)\n",
      "(525, 5) (525,)\n",
      "3 DecisionTreeClassifier (2100, 128) (525, 128)\n",
      "(525, 5) (525,)\n",
      "4 DecisionTreeClassifier (2100, 128) (525, 128)\n",
      "(525, 5) (525,)\n",
      "\n",
      "\n"
     ]
    }
   ],
   "source": [
    "get_pca = {\n",
    "    \"mobilenetv2\": (128, 256, 512, 1024, -1),\n",
    "    \"resnet50v2\": (128, 256, 512, 1024, -1),\n",
    "    \"vgg16\": (128, 256, 512, -1)\n",
    "}\n",
    "\n",
    "path = os.path.join(\"../features\", \"unet\", \"GRAYSCALE\", \"256\", \"mobilenetv2\", \"aa\")\n",
    "\n",
    "import multiprocessing\n",
    "print(multiprocessing.cpu_count())\n",
    "os.environ['MKL_NUM_THREADS'] = '1'\n",
    "os.environ['OMP_NUM_THREADS'] = '1'\n",
    "os.environ['BLIS_NUM_THREADS'] = '1'\n",
    "os.environ['MKL_DYNAMIC'] = 'FALSE'\n",
    "\n",
    "path = \"/home/xandao/Documentos/GitHub/features/unet/GRAYSCALE/256/mobilenetv2/aa\"\n",
    "# with sklearn.utils.parallel_backend(\"threading\", n_jobs=multiprocessing.cpu_count()):\n",
    "    # for i, file in enumerate(sorted(pathlib.Path(os.path.join(cfg[\"path_base\"], \"unet\", \"GRAYSCALE\")).rglob(\"*.npz\"))):\n",
    "    # for i, file in enumerate(sorted(pathlib.Path(os.path.join(cfg[\"path_base\"], \"PHOTOSHOP\", \"GRAYSCALE\")).rglob(\"*.npz\"))):\n",
    "for i, file in enumerate(sorted(pathlib.Path(path).rglob(\"*.npz\"))):\n",
    "    get_source = list(filter(lambda x: x in str(file).lower(), [\"unet\", \"iwssip\", \"matlab\"]))\n",
    "    source = get_source[0] if len(get_source) > 0 else None\n",
    "    get_extractor = list(filter(lambda x: x in str(file).lower(), [\"mobilenetv2\", \"vgg16\", \"resnet50v2\"]))\n",
    "    extractor = get_extractor[0] if len(get_extractor) > 0 else None\n",
    "    get_dim = list(filter(lambda x: x in str(file).lower(), [\"256\", \"400\", \"512\"]))\n",
    "    dim = get_dim[0] if len(get_dim) > 0 else None\n",
    "    get_color_mode = list(filter(lambda x: x in str(file).lower(), [\"rgb\", \"grayscale\"]))\n",
    "    color_mode = get_color_mode[0] if len(get_color_mode) > 0 else None\n",
    "    get_orientation = list(filter(lambda x: x in str(file).lower(), [\"horizontal\", \"vertical\", \"h+v\"]))\n",
    "    orientation = get_orientation[0] if len(get_orientation) > 0 else None\n",
    "    get_patch = list(filter(lambda x: x in str(file).lower(), [\"patch=3\", \"patch=5\", \"patch=7\"]))\n",
    "    patch = get_patch[0].split(\"=\")[1] if len(get_patch) > 0 else None\n",
    "\n",
    "    print(i, len(list(pathlib.Path(path).rglob(\"*.npz\"))), file)\n",
    "    print(source, extractor, dim, color_mode, orientation, patch)\n",
    "\n",
    "    data = numpy.load(file)\n",
    "    dataset = extractor\n",
    "    n_patch = int(patch)\n",
    "    x = data[\"features\"]\n",
    "    y = data[\"labels\"]\n",
    "    x = numpy.ascontiguousarray(x, dtype=numpy.float32)\n",
    "    y = numpy.ascontiguousarray(y, dtype=numpy.int32)\n",
    "    n_samples = x.shape[0]\n",
    "    n_features = x.shape[1]\n",
    "    x_normalized = sklearn.preprocessing.StandardScaler().fit_transform(x)\n",
    "\n",
    "    current_datetime = datetime.datetime.now().strftime(\"%d-%m-%Y-%H-%M-%S\")\n",
    "    path = os.path.join(cfg[\"path_out\"], current_datetime, dataset)\n",
    "    pathlib.Path(path).mkdir(parents=True, exist_ok=True)\n",
    "    for pca in get_pca[dataset]:\n",
    "        x = x_normalized\n",
    "        if pca > 0:\n",
    "            x = sklearn.decomposition.PCA(n_components=pca, random_state=cfg[\"random_state\"]).fit_transform(x)\n",
    "\n",
    "        if pca == -1:\n",
    "            pca = n_features\n",
    "\n",
    "        classification_data(cfg, color_mode, dataset, dim, str(file), kf, pca, n_samples, path, x, x_surf, y, n_patch=n_patch, orientation=orientation)\n",
    "        print(\"\\n\")\n",
    "        break\n",
    "    data.close()"
   ],
   "metadata": {
    "collapsed": false
   }
  },
  {
   "cell_type": "code",
   "execution_count": null,
   "outputs": [],
   "source": [],
   "metadata": {
    "collapsed": false
   }
  }
 ],
 "metadata": {
  "kernelspec": {
   "display_name": "Python 3 (ipykernel)",
   "language": "python",
   "name": "python3"
  },
  "language_info": {
   "codemirror_mode": {
    "name": "ipython",
    "version": 3
   },
   "file_extension": ".py",
   "mimetype": "text/x-python",
   "name": "python",
   "nbconvert_exporter": "python",
   "pygments_lexer": "ipython3",
   "version": "3.8.13"
  },
  "vscode": {
   "interpreter": {
    "hash": "fdd866a014a546f38f4e627c26d925142d1dd4e2ebcaa09165eb455c383e6b5d"
   }
  }
 },
 "nbformat": 4,
 "nbformat_minor": 2
}
