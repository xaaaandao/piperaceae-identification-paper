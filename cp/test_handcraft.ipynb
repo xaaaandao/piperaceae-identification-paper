{
 "cells": [
  {
   "cell_type": "code",
   "execution_count": 1,
   "outputs": [],
   "source": [
    "%reload_ext autoreload\n",
    "%autoreload 2\n",
    "import datetime\n",
    "import pathlib\n",
    "import numpy\n",
    "import os\n",
    "import sklearn.preprocessing\n",
    "import sys\n",
    "\n",
    "module_path = os.path.abspath(os.path.join('..'))\n",
    "if module_path not in sys.path:\n",
    "    sys.path.append(module_path)\n",
    "\n",
    "from classifier import classification_data"
   ],
   "metadata": {
    "collapsed": false
   }
  },
  {
   "cell_type": "code",
   "execution_count": 2,
   "outputs": [],
   "source": [
    "cfg = {\n",
    "    \"fold\": 5,\n",
    "    \"n_labels\": 5,\n",
    "    \"path_base\": \"../features\",\n",
    "    \"path_out\": \"out\",\n",
    "    \"test_size\": 0.2,\n",
    "    \"train_size\": 0.8,\n",
    "    \"random_state\": 1\n",
    "}\n",
    "path = os.path.join(cfg[\"path_base\"], \"iwssip\", \"GRAYSCALE\", \"256\")\n",
    "file_input = os.path.join(cfg[\"path_base\"], \"handcraft\", \"MATLAB\", \"GRAYSCALE\", \"256\", \"surf64.txt\")"
   ],
   "metadata": {
    "collapsed": false
   }
  },
  {
   "cell_type": "code",
   "execution_count": null,
   "outputs": [],
   "source": [
    "list_extractor = {\n",
    "    \"lbp\": [-1],\n",
    "    \"surf64\": [128, 256, -1],\n",
    "    \"surf128\": [128, 256, -1]\n",
    "}"
   ],
   "metadata": {
    "collapsed": false
   }
  },
  {
   "cell_type": "code",
   "execution_count": null,
   "outputs": [],
   "source": [
    "kf = sklearn.model_selection.KFold(n_splits=cfg[\"fold\"], shuffle=True, random_state=cfg[\"random_state\"])\n",
    "current_datetime = datetime.datetime.now().strftime(\"%d-%m-%Y-%H-%M-%S\")\n"
   ],
   "metadata": {
    "collapsed": false
   }
  },
  {
   "cell_type": "code",
   "execution_count": 1,
   "outputs": [
    {
     "ename": "NameError",
     "evalue": "name 'pathlib' is not defined",
     "output_type": "error",
     "traceback": [
      "\u001B[0;31m---------------------------------------------------------------------------\u001B[0m",
      "\u001B[0;31mNameError\u001B[0m                                 Traceback (most recent call last)",
      "Cell \u001B[0;32mIn [1], line 1\u001B[0m\n\u001B[0;32m----> 1\u001B[0m \u001B[38;5;28;01mfor\u001B[39;00m p \u001B[38;5;129;01min\u001B[39;00m \u001B[43mpathlib\u001B[49m\u001B[38;5;241m.\u001B[39mPath(path)\u001B[38;5;241m.\u001B[39mrglob(\u001B[38;5;124m\"\u001B[39m\u001B[38;5;124m*.txt\u001B[39m\u001B[38;5;124m\"\u001B[39m):\n\u001B[1;32m      2\u001B[0m     data \u001B[38;5;241m=\u001B[39m numpy\u001B[38;5;241m.\u001B[39mloadtxt(file_input)\n\u001B[1;32m      3\u001B[0m     dataset_name \u001B[38;5;241m=\u001B[39m \u001B[38;5;28mstr\u001B[39m(p\u001B[38;5;241m.\u001B[39mstem)\n",
      "\u001B[0;31mNameError\u001B[0m: name 'pathlib' is not defined"
     ]
    }
   ],
   "source": [
    "for p in pathlib.Path(path).rglob(\"*.txt\"):\n",
    "    data = numpy.loadtxt(file_input)\n",
    "    dataset_name = str(p.stem)\n",
    "    n_samples, n_features = data.shape\n",
    "    n_features = n_features - 1\n",
    "    x, y = data[0:, 0:n_features], data[:, n_features]\n",
    "    x_normalized = sklearn.preprocessing.StandardScaler().fit_transform(x)\n",
    "\n",
    "    get_dim = list(filter(lambda x: str(x) in str(p.stem), [\"256\", \"400\", \"512\"]))\n",
    "\n",
    "    path = os.path.join(cfg[\"path_out\"], current_datetime, dataset_name)\n",
    "    pathlib.Path(path).mkdir(parents=True, exist_ok=True)\n",
    "\n",
    "    print(x.shape, y.shape)\n",
    "\n",
    "    for pca in list_extractor[str(p.stem)]:\n",
    "        x = x_normalized\n",
    "        if pca > 0:\n",
    "            x = sklearn.decomposition.PCA(n_components=pca, random_state=cfg[\"random_state\"]).fit_transform(x)\n",
    "\n",
    "        if pca == -1:\n",
    "            pca = n_features\n",
    "\n",
    "        classification_data(cfg, dataset_name, get_dim, file_input, list(kf.split(x)), pca, n_features, n_samples, path, x, x, y)"
   ],
   "metadata": {
    "collapsed": false
   }
  },
  {
   "cell_type": "code",
   "execution_count": null,
   "outputs": [],
   "source": [],
   "metadata": {
    "collapsed": false
   }
  }
 ],
 "metadata": {
  "kernelspec": {
   "display_name": "Python 3 (ipykernel)",
   "language": "python",
   "name": "python3"
  },
  "language_info": {
   "codemirror_mode": {
    "name": "ipython",
    "version": 3
   },
   "file_extension": ".py",
   "mimetype": "text/x-python",
   "name": "python",
   "nbconvert_exporter": "python",
   "pygments_lexer": "ipython3",
   "version": "3.8.13"
  }
 },
 "nbformat": 4,
 "nbformat_minor": 1
}
