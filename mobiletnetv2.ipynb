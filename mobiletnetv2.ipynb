{
 "cells": [
  {
   "cell_type": "code",
   "execution_count": null,
   "outputs": [],
   "source": [
    "import datetime\n",
    "import pathlib\n",
    "\n",
    "import numpy\n",
    "import os\n",
    "import sklearn.model_selection\n",
    "\n",
    "from classifier import classification_data"
   ],
   "metadata": {
    "collapsed": false
   }
  },
  {
   "cell_type": "code",
   "execution_count": null,
   "metadata": {},
   "outputs": [],
   "source": [
    "cfg = {\n",
    "    \"fold\": 5,\n",
    "    \"n_labels\": 5,\n",
    "    \"path_base\": \"dataset\",\n",
    "    \"path_out\": \"out\",\n",
    "    \"test_size\": 0.2,\n",
    "    \"train_size\": 0.8,\n",
    "    \"random_state\": 1\n",
    "}\n",
    "file_input = os.path.join(\"../features\", \"handcraft\", \"MATLAB\", \"GRAYSCALE\", \"256\", \"surf64.txt\")"
   ]
  },
  {
   "cell_type": "code",
   "execution_count": null,
   "metadata": {},
   "outputs": [],
   "source": [
    "surf = numpy.loadtxt(file_input)\n",
    "n_samples, n_features = surf.shape\n",
    "x_surf, y_surf = surf[0:, 0:n_features - 1], surf[:, n_features - 1]\n",
    "\n",
    "kf = sklearn.model_selection.KFold(n_splits=cfg[\"fold\"], shuffle=True, random_state=cfg[\"random_state\"])"
   ]
  },
  {
   "cell_type": "code",
   "execution_count": null,
   "metadata": {},
   "outputs": [],
   "source": [
    "file_input = os.path.join(\"../features\", \"non_handcraft\", \"iwssip\", \"mobilenetv2\", \"horizontal+patch=3+mobilenetv2.npz\")\n",
    "mobilenet = numpy.load(file_input)\n",
    "dataset = \"mobilenetv2\"\n",
    "orientation = \"horizontal\"\n",
    "n_patch = 3\n",
    "x = mobilenet[\"features\"]\n",
    "y = mobilenet[\"labels\"]\n",
    "n_samples = x.shape[0]\n",
    "n_features = x.shape[1]\n",
    "x_normalized = sklearn.preprocessing.StandardScaler().fit_transform(x)"
   ]
  },
  {
   "cell_type": "code",
   "execution_count": null,
   "metadata": {},
   "outputs": [],
   "source": [
    "current_datetime = datetime.datetime.now().strftime(\"%d-%m-%Y-%H-%M-%S\")\n",
    "path = os.path.join(cfg[\"path_out\"], current_datetime, dataset)\n",
    "pathlib.Path(path).mkdir(parents=True, exist_ok=True)\n",
    "for pca in (128, 256, 512, 1024, -1):\n",
    "    x = x_normalized\n",
    "    if pca > 0:\n",
    "        x = sklearn.decomposition.PCA(n_components=pca).fit_transform(x)\n",
    "\n",
    "    if pca == -1:\n",
    "        pca = n_features\n",
    "\n",
    "    classification_data(cfg, dataset, file_input, list(kf.split(x_surf)), pca, n_samples, path, x, y, n_patch=n_patch, orientation=orientation)\n",
    "    break"
   ]
  }
 ],
 "metadata": {
  "kernelspec": {
   "display_name": "Python 3 (ipykernel)",
   "language": "python",
   "name": "python3"
  },
  "language_info": {
   "codemirror_mode": {
    "name": "ipython",
    "version": 3
   },
   "file_extension": ".py",
   "mimetype": "text/x-python",
   "name": "python",
   "nbconvert_exporter": "python",
   "pygments_lexer": "ipython3",
   "version": "3.8.13"
  },
  "vscode": {
   "interpreter": {
    "hash": "fdd866a014a546f38f4e627c26d925142d1dd4e2ebcaa09165eb455c383e6b5d"
   }
  }
 },
 "nbformat": 4,
 "nbformat_minor": 2
}
