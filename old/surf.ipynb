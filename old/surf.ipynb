{
 "cells": [
  {
   "cell_type": "code",
   "execution_count": 1,
   "outputs": [],
   "source": [
    "import markdownTable\n",
    "import matplotlib.pyplot\n",
    "import numpy\n",
    "import operator\n",
    "import os\n",
    "import pathlib\n",
    "import re\n",
    "import sklearn.ensemble\n",
    "import sklearn.neighbors\n",
    "import sklearn.neural_network\n",
    "import sklearn.preprocessing\n",
    "import sklearn.svm\n",
    "import sklearn.tree\n",
    "import time\n",
    "\n",
    "from result import calculate_test, Result"
   ],
   "metadata": {
    "collapsed": false,
    "pycharm": {
     "name": "#%%\n"
    }
   }
  },
  {
   "cell_type": "code",
   "execution_count": 2,
   "outputs": [],
   "source": [
    "cfg = {\n",
    "    \"fold\": 5,\n",
    "    \"n_labels\": 5,\n",
    "    \"path_base\": \"dataset\",\n",
    "    \"path_out\": \"out\",\n",
    "    \"test_size\": 0.2,\n",
    "    \"train_size\": 0.8,\n",
    "}"
   ],
   "metadata": {
    "collapsed": false,
    "pycharm": {
     "name": "#%%\n"
    }
   }
  },
  {
   "cell_type": "code",
   "execution_count": 3,
   "outputs": [],
   "source": [
    "hyperparams = {\n",
    "    \"DecisionTreeClassifier\": {\n",
    "        \"criterion\": [\"gini\", \"entropy\"],\n",
    "        \"splitter\": [\"best\", \"random\"],\n",
    "        \"max_depth\": [10, 100, 1000]\n",
    "    },\n",
    "    \"KNeighborsClassifier\": {\n",
    "        \"n_neighbors\": [2, 4, 6, 8, 10],\n",
    "        \"weights\": [\"uniform\", \"distance\"],\n",
    "        \"metric\": [\"euclidean\", \"manhattan\"]\n",
    "    },\n",
    "    \"MLPClassifier\": {\n",
    "        \"activation\": [\"identity\", \"logistic\", \"tanh\", \"relu\"],\n",
    "        \"solver\": [\"adam\", \"sgd\"],\n",
    "        \"learning_rate_init\": [0.01, 0.001, 0.0001],\n",
    "        \"momentum\": [0.9, 0.4, 0.1]\n",
    "    },\n",
    "    \"RandomForestClassifier\": {\n",
    "        \"n_estimators\": [200, 400, 600, 800, 1000],\n",
    "        \"max_features\": [\"sqrt\", \"log2\"],\n",
    "        \"criterion\": [\"gini\", \"entropy\"],\n",
    "        \"max_depth\": [10, 100, 1000]\n",
    "    },\n",
    "    \"SVC\": {\n",
    "        'kernel': ['linear', 'poly', 'rbf', 'sigmoid'],\n",
    "    }\n",
    "}\n",
    "index = sklearn.model_selection.StratifiedShuffleSplit(n_splits=cfg[\"fold\"], train_size=cfg[\"train_size\"], test_size=cfg[\"test_size\"], random_state=1)"
   ],
   "metadata": {
    "collapsed": false,
    "pycharm": {
     "name": "#%%\n"
    }
   }
  },
  {
   "cell_type": "code",
   "execution_count": 4,
   "outputs": [
    {
     "name": "stdout",
     "output_type": "stream",
     "text": [
      "(375, 257) (375,)\n"
     ]
    }
   ],
   "source": [
    "surf = numpy.loadtxt(os.path.join(\"../\", cfg[\"path_base\"], \"surf64.txt\"))\n",
    "samples, n_features = surf.shape\n",
    "x, y = surf[0:, 0:n_features - 1], surf[:, n_features - 1]\n",
    "x = sklearn.preprocessing.StandardScaler().fit_transform(x)\n",
    "\n",
    "\n",
    "print(x.shape, y.shape)"
   ],
   "metadata": {
    "collapsed": false,
    "pycharm": {
     "name": "#%%\n"
    }
   }
  },
  {
   "cell_type": "code",
   "execution_count": 14,
   "outputs": [
    {
     "name": "stdout",
     "output_type": "stream",
     "text": [
      "0 DecisionTreeClassifier (300, 257) (75, 257)\n",
      "1 DecisionTreeClassifier (300, 257) (75, 257)\n",
      "2 DecisionTreeClassifier (300, 257) (75, 257)\n",
      "3 DecisionTreeClassifier (300, 257) (75, 257)\n",
      "4 DecisionTreeClassifier (300, 257) (75, 257)\n"
     ]
    }
   ],
   "source": [
    "def save_mean_std(cfg, list_result_fold, path):\n",
    "    cfg_used = {\n",
    "        \"fold\": str(cfg[\"fold\"]),\n",
    "        \"n_labels\": str(cfg[\"n_labels\"]),\n",
    "        \"path_base\": str(cfg[\"path_base\"]),\n",
    "        \"path_out\": str(cfg[\"path_out\"]),\n",
    "        \"test_size\": str(cfg[\"test_size\"]),\n",
    "        \"train_size\": str(cfg[\"train_size\"])\n",
    "    }\n",
    "    try:\n",
    "        with open(os.path.join(path, \"mean.md\"), \"w\") as file:\n",
    "            list_result_between_rule = list()\n",
    "            for rule in (\"max\", \"prod\", \"sum\"):\n",
    "                file.write(re.sub(r\"```$\", \"\\n```\\n\\n\", markdownTable.markdownTable(list([cfg_used])).getMarkdown()))\n",
    "\n",
    "                list_result_per_rule = list(filter(lambda l: getattr(l, \"rule\") == rule, list_result_fold))\n",
    "                mean_accuracy = numpy.mean(list(getattr(l, \"accuracy\") for l in list_result_per_rule))\n",
    "                std_deviation = numpy.std(list(getattr(l, \"accuracy\") for l in list_result_per_rule))\n",
    "                best_fold = max(list_result_fold, key=operator.attrgetter(\"accuracy\"))\n",
    "\n",
    "                mean = {\n",
    "                    \"mean_accuracy\": str(mean_accuracy),\n",
    "                    \"mean_accuracy_per\": str(round(mean_accuracy * 100, 4)),\n",
    "                    \"std_deviation\": str(std_deviation),\n",
    "                }\n",
    "\n",
    "                best = {\n",
    "                    \"best_fold\": str(getattr(best_fold, \"fold\")),\n",
    "                    \"best_accuracy\": str(getattr(best_fold, \"accuracy\")),\n",
    "                    \"best_accuracy_per\": str(round(getattr(best_fold, \"accuracy\") * 100, 4)),\n",
    "                }\n",
    "\n",
    "\n",
    "                file.write(re.sub(r\"```$\", \"\\n```\\n\\n\", markdownTable.markdownTable(list([mean])).getMarkdown()))\n",
    "                file.write(re.sub(r\"```$\", \"\\n```\\n\\n\", markdownTable.markdownTable(list([best])).getMarkdown()))\n",
    "\n",
    "\n",
    "                result = Result(None, None, rule, numpy.zeros(shape=(1,)), numpy.zeros(shape=(1,)), numpy.zeros(shape=(1,)))\n",
    "                setattr(result, \"accuracy\", mean_accuracy)\n",
    "                list_result_between_rule.append(result)\n",
    "            best_rule = max(list_result_between_rule, key=operator.attrgetter(\"accuracy\"))\n",
    "            b = {\n",
    "              \"best_accuracy\": str(round(getattr(best_rule, \"accuracy\") * 100, 4)),\n",
    "              \"best_rule\": str(getattr(best_rule, \"rule\"))\n",
    "            }\n",
    "            file.write(re.sub(r\"```$\", \"\\n```\\n\\n\", markdownTable.markdownTable(list([b])).getMarkdown()))\n",
    "            file.close()\n",
    "    except Exception as e:\n",
    "        print(f\"exception in {e}\")\n",
    "        raise\n",
    "\n",
    "def save_confusion_matrix(classifier_name, dataset, list_result, path):\n",
    "    for result in list_result:\n",
    "        filename = f\"confusion_matrix-{getattr(result, 'rule')}.png\"\n",
    "        labels = [\"$\\it{Manekia}$\", \"$\\it{Ottonia}$\", \"$\\it{Peperomia}$\", \"$\\it{Piper}$\", \"$\\it{Pothomorphe}$\"]\n",
    "        confusion_matrix = sklearn.metrics.ConfusionMatrixDisplay(getattr(result, \"confusion_matrix\"))\n",
    "        confusion_matrix.plot(cmap=\"Reds\")\n",
    "        title = f\"Confusion Matrix\\ndataset: {dataset}, classifier: {classifier_name}\\naccuracy: {round(getattr(result, 'accuracy') * 100, 4)}, rule: {getattr(result, 'rule')}\"\n",
    "        matplotlib.pyplot.ioff()\n",
    "        matplotlib.pyplot.title(title, pad=20)\n",
    "        matplotlib.pyplot.xticks(numpy.arange(5), labels, rotation=(45))\n",
    "        matplotlib.pyplot.yticks(numpy.arange(5), labels)\n",
    "        matplotlib.pyplot.ylabel(\"y_test\", fontsize=12)\n",
    "        matplotlib.pyplot.xlabel(\"y_pred\", fontsize=12)\n",
    "        matplotlib.pyplot.gcf().subplots_adjust(bottom=0.15, left=0.25)\n",
    "        matplotlib.pyplot.rcParams[\"figure.facecolor\"] = \"white\"\n",
    "        matplotlib.pyplot.rcParams[\"figure.figsize\"] = (10, 10)\n",
    "        matplotlib.pyplot.savefig(os.path.join(path, filename))\n",
    "        matplotlib.pyplot.cla()\n",
    "        matplotlib.pyplot.clf()\n",
    "        matplotlib.pyplot.close()\n",
    "\n",
    "def save_fold(classifier_name, dataset, list_result, path, time):\n",
    "    try:\n",
    "        with open(os.path.join(path, \"out.md\"), \"w\") as file:\n",
    "            for result in list_result:\n",
    "                r = {\n",
    "                    \"fold\": str(getattr(result, \"fold\")),\n",
    "                    \"rule\": str(getattr(result, \"rule\")),\n",
    "                    \"accuracy\": str(getattr(result, \"accuracy\")),\n",
    "                    \"accuracy_per\": str(round(getattr(result, 'accuracy') * 100, 4)),\n",
    "                    # \"time\": str(time.strftime(\"%H:%M:%S\", time.gmtime(time)))\n",
    "                }\n",
    "                file.write(re.sub(r\"```$\", \"\\n```\\n\\n\", markdownTable.markdownTable(list([r])).getMarkdown()))\n",
    "            save_confusion_matrix(classifier_name, dataset, list_result, path)\n",
    "            file.close()\n",
    "    except Exception as e:\n",
    "        print(f\"exception in {e}\")\n",
    "        raise\n",
    "\n",
    "list_result_classifier = list()\n",
    "for classifier in (sklearn.tree.DecisionTreeClassifier(random_state=1), sklearn.neighbors.KNeighborsClassifier(n_jobs=-1), sklearn.neural_network.MLPClassifier(random_state=1), sklearn.ensemble.RandomForestClassifier(random_state=1), sklearn.svm.SVC(random_state=1, probability=True)):\n",
    "    classifier_name = classifier.__class__.__name__\n",
    "\n",
    "    model = sklearn.model_selection.GridSearchCV(classifier, hyperparams[classifier_name], scoring=\"accuracy\", cv=cfg[\"fold\"])\n",
    "    model.fit(x, y)\n",
    "\n",
    "    best_classifier = model.best_estimator_\n",
    "    best_params = model.best_params_\n",
    "\n",
    "    list_result_fold = list()\n",
    "    list_time = list()\n",
    "\n",
    "    path_classifier = os.path.join(cfg[\"path_out\"], \"surf\", classifier_name)\n",
    "    pathlib.Path(path_classifier).mkdir(parents=True, exist_ok=True)\n",
    "    for fold, (index_train, index_test) in enumerate(index.split(x, y)):\n",
    "        x_train, y_train = x[index_train], y[index_train]\n",
    "        x_test, y_test = x[index_test], y[index_test]\n",
    "\n",
    "        print(fold, classifier_name, x_train.shape, x_test.shape)\n",
    "\n",
    "        start_time = time.time()\n",
    "        best_classifier.fit(x_train, y_train)\n",
    "        y_pred = best_classifier.predict_proba(x_test)\n",
    "        end_time = time.time()\n",
    "\n",
    "        path_fold = os.path.join(path_classifier, str(fold))\n",
    "        pathlib.Path(path_fold).mkdir(parents=True, exist_ok=True)\n",
    "\n",
    "        result_max_rule, result_prod_rule, result_sum_rule = calculate_test(cfg, classifier, fold, y_pred, y_test)\n",
    "\n",
    "        final_time = end_time - start_time\n",
    "\n",
    "        list_result_fold.append(result_max_rule)\n",
    "        list_result_fold.append(result_prod_rule)\n",
    "        list_result_fold.append(result_sum_rule)\n",
    "        list_time.append(final_time)\n",
    "\n",
    "        save_fold(classifier_name, \"surf\", (result_max_rule, result_prod_rule, result_sum_rule), path_fold, final_time)\n",
    "    save_mean_std(cfg, list_result_fold, path_classifier)\n",
    "    list_result_classifier = list_result_classifier + list_result_fold"
   ],
   "metadata": {
    "collapsed": false,
    "pycharm": {
     "name": "#%%\n"
    }
   }
  },
  {
   "cell_type": "code",
   "execution_count": null,
   "outputs": [],
   "source": [],
   "metadata": {
    "collapsed": false,
    "pycharm": {
     "name": "#%%\n"
    }
   }
  }
 ],
 "metadata": {
  "kernelspec": {
   "display_name": "Python 3",
   "language": "python",
   "name": "python3"
  },
  "language_info": {
   "codemirror_mode": {
    "name": "ipython",
    "version": 2
   },
   "file_extension": ".py",
   "mimetype": "text/x-python",
   "name": "python",
   "nbconvert_exporter": "python",
   "pygments_lexer": "ipython2",
   "version": "2.7.6"
  }
 },
 "nbformat": 4,
 "nbformat_minor": 0
}