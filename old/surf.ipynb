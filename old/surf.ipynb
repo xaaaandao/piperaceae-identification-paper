{
 "cells": [
  {
   "cell_type": "code",
   "execution_count": 6,
   "outputs": [],
   "source": [
    "%reload_ext autoreload\n",
    "%autoreload 2\n",
    "import numpy\n",
    "import os\n",
    "import sklearn.preprocessing\n",
    "import sys\n",
    "\n",
    "module_path = os.path.abspath(os.path.join('..'))\n",
    "if module_path not in sys.path:\n",
    "    sys.path.append(module_path)\n",
    "\n",
    "from classifier import classification_data"
   ],
   "metadata": {
    "collapsed": false,
    "pycharm": {
     "name": "#%%\n"
    }
   }
  },
  {
   "cell_type": "code",
   "execution_count": 7,
   "outputs": [],
   "source": [
    "hyperparams = {\n",
    "    \"DecisionTreeClassifier\": {\n",
    "        \"criterion\": [\"gini\", \"entropy\"],\n",
    "        \"splitter\": [\"best\", \"random\"],\n",
    "        \"max_depth\": [10, 100, 1000]\n",
    "    },\n",
    "    \"KNeighborsClassifier\": {\n",
    "        \"n_neighbors\": [2, 4, 6, 8, 10],\n",
    "        \"weights\": [\"uniform\", \"distance\"],\n",
    "        \"metric\": [\"euclidean\", \"manhattan\"]\n",
    "    },\n",
    "    \"MLPClassifier\": {\n",
    "        \"activation\": [\"identity\", \"logistic\", \"tanh\", \"relu\"],\n",
    "        \"solver\": [\"adam\", \"sgd\"],\n",
    "        \"learning_rate_init\": [0.01, 0.001, 0.0001],\n",
    "        \"momentum\": [0.9, 0.4, 0.1]\n",
    "    },\n",
    "    \"RandomForestClassifier\": {\n",
    "        \"n_estimators\": [200, 400, 600, 800, 1000],\n",
    "        \"max_features\": [\"sqrt\", \"log2\"],\n",
    "        \"criterion\": [\"gini\", \"entropy\"],\n",
    "        \"max_depth\": [10, 100, 1000]\n",
    "    },\n",
    "    \"SVC\": {\n",
    "        'kernel': ['linear', 'poly', 'rbf', 'sigmoid'],\n",
    "    }\n",
    "}\n",
    "cfg = {\n",
    "    \"fold\": 5,\n",
    "    \"n_labels\": 5,\n",
    "    \"path_base\": \"../dataset\",\n",
    "    \"path_out\": \"out\",\n",
    "    \"test_size\": 0.2,\n",
    "    \"train_size\": 0.8,\n",
    "}\n",
    "index = sklearn.model_selection.StratifiedShuffleSplit(n_splits=cfg[\"fold\"], train_size=cfg[\"train_size\"], test_size=cfg[\"test_size\"], random_state=1)"
   ],
   "metadata": {
    "collapsed": false,
    "pycharm": {
     "name": "#%%\n"
    }
   }
  },
  {
   "cell_type": "code",
   "execution_count": 8,
   "outputs": [
    {
     "name": "stdout",
     "output_type": "stream",
     "text": [
      "(375, 257) (375,)\n"
     ]
    }
   ],
   "source": [
    "surf = numpy.loadtxt(os.path.join(cfg[\"path_base\"], \"surf64.txt\"))\n",
    "dataset = \"surf\"\n",
    "n_samples, n_features = surf.shape\n",
    "n_features = n_features - 1\n",
    "x, y = surf[0:, 0:n_features], surf[:, n_features]\n",
    "x_normalized = sklearn.preprocessing.StandardScaler().fit_transform(x)\n",
    "\n",
    "print(x.shape, y.shape)"
   ],
   "metadata": {
    "collapsed": false,
    "pycharm": {
     "name": "#%%\n"
    }
   }
  },
  {
   "cell_type": "code",
   "execution_count": 10,
   "outputs": [
    {
     "name": "stdout",
     "output_type": "stream",
     "text": [
      "0 DecisionTreeClassifier (300, 128) (75, 128)\n",
      "1 DecisionTreeClassifier (300, 128) (75, 128)\n",
      "2 DecisionTreeClassifier (300, 128) (75, 128)\n",
      "3 DecisionTreeClassifier (300, 128) (75, 128)\n",
      "4 DecisionTreeClassifier (300, 128) (75, 128)\n",
      "best_accuracy: 42.9333, best_rule: max\n",
      "\n",
      "0 KNeighborsClassifier (300, 128) (75, 128)\n",
      "1 KNeighborsClassifier (300, 128) (75, 128)\n",
      "2 KNeighborsClassifier (300, 128) (75, 128)\n",
      "3 KNeighborsClassifier (300, 128) (75, 128)\n",
      "4 KNeighborsClassifier (300, 128) (75, 128)\n",
      "best_accuracy: 55.2, best_rule: max\n",
      "\n",
      "0 MyEnsembleClassifier\n",
      "1 MyEnsembleClassifier\n",
      "2 MyEnsembleClassifier\n",
      "3 MyEnsembleClassifier\n",
      "4 MyEnsembleClassifier\n",
      "best_accuracy: 49.0667, best_rule: max\n",
      "\n",
      "0 VotingClassifier (300, 128) (75, 128)\n",
      "1 VotingClassifier (300, 128) (75, 128)\n",
      "2 VotingClassifier (300, 128) (75, 128)\n",
      "3 VotingClassifier (300, 128) (75, 128)\n",
      "4 VotingClassifier (300, 128) (75, 128)\n",
      "best_accuracy: 57.3333\n",
      "\n"
     ]
    }
   ],
   "source": [
    "for pca in (128, 256, -1):\n",
    "    x = x_normalized\n",
    "    if pca > 0:\n",
    "        x = sklearn.decomposition.PCA(n_components=pca).fit_transform(x)\n",
    "\n",
    "    if pca == -1:\n",
    "        pca = n_features\n",
    "\n",
    "    classification_data(cfg, dataset, index, pca, n_samples, x, y, x_surf=x, y_surf=y)\n",
    "    break"
   ],
   "metadata": {
    "collapsed": false,
    "pycharm": {
     "name": "#%%\n"
    }
   }
  },
  {
   "cell_type": "code",
   "execution_count": null,
   "outputs": [],
   "source": [],
   "metadata": {
    "collapsed": false,
    "pycharm": {
     "name": "#%%\n"
    }
   }
  }
 ],
 "metadata": {
  "kernelspec": {
   "display_name": "Python 3 (ipykernel)",
   "language": "python",
   "name": "python3"
  },
  "language_info": {
   "codemirror_mode": {
    "name": "ipython",
    "version": 3
   },
   "file_extension": ".py",
   "mimetype": "text/x-python",
   "name": "python",
   "nbconvert_exporter": "python",
   "pygments_lexer": "ipython3",
   "version": "3.8.13"
  }
 },
 "nbformat": 4,
 "nbformat_minor": 1
}