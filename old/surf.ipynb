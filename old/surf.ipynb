{
 "cells": [
  {
   "cell_type": "code",
   "execution_count": 2,
   "outputs": [],
   "source": [
    "from classifier import classifier_no_patch\n",
    "%reload_ext autoreload\n",
    "%autoreload 2\n",
    "import numpy\n",
    "import os\n",
    "import pathlib\n",
    "import sklearn.ensemble\n",
    "import sklearn.neighbors\n",
    "import sklearn.neural_network\n",
    "import sklearn.preprocessing\n",
    "import sklearn.svm\n",
    "import sklearn.tree\n",
    "import sys\n",
    "\n",
    "module_path = os.path.abspath(os.path.join('..'))\n",
    "if module_path not in sys.path:\n",
    "    sys.path.append(module_path)\n",
    "    \n",
    "from output import save_mean_std"
   ],
   "metadata": {
    "collapsed": false,
    "pycharm": {
     "name": "#%%\n"
    }
   }
  },
  {
   "cell_type": "code",
   "execution_count": 3,
   "outputs": [],
   "source": [
    "cfg = {\n",
    "    \"fold\": 5,\n",
    "    \"n_labels\": 5,\n",
    "    \"path_base\": \"../dataset\",\n",
    "    \"path_out\": \"out\",\n",
    "    \"test_size\": 0.2,\n",
    "    \"train_size\": 0.8,\n",
    "}"
   ],
   "metadata": {
    "collapsed": false,
    "pycharm": {
     "name": "#%%\n"
    }
   }
  },
  {
   "cell_type": "code",
   "execution_count": 4,
   "outputs": [],
   "source": [
    "hyperparams = {\n",
    "    \"DecisionTreeClassifier\": {\n",
    "        \"criterion\": [\"gini\", \"entropy\"],\n",
    "        \"splitter\": [\"best\", \"random\"],\n",
    "        \"max_depth\": [10, 100, 1000]\n",
    "    },\n",
    "    \"KNeighborsClassifier\": {\n",
    "        \"n_neighbors\": [2, 4, 6, 8, 10],\n",
    "        \"weights\": [\"uniform\", \"distance\"],\n",
    "        \"metric\": [\"euclidean\", \"manhattan\"]\n",
    "    },\n",
    "    \"MLPClassifier\": {\n",
    "        \"activation\": [\"identity\", \"logistic\", \"tanh\", \"relu\"],\n",
    "        \"solver\": [\"adam\", \"sgd\"],\n",
    "        \"learning_rate_init\": [0.01, 0.001, 0.0001],\n",
    "        \"momentum\": [0.9, 0.4, 0.1]\n",
    "    },\n",
    "    \"RandomForestClassifier\": {\n",
    "        \"n_estimators\": [200, 400, 600, 800, 1000],\n",
    "        \"max_features\": [\"sqrt\", \"log2\"],\n",
    "        \"criterion\": [\"gini\", \"entropy\"],\n",
    "        \"max_depth\": [10, 100, 1000]\n",
    "    },\n",
    "    \"SVC\": {\n",
    "        'kernel': ['linear', 'poly', 'rbf', 'sigmoid'],\n",
    "    }\n",
    "}\n",
    "index = sklearn.model_selection.StratifiedShuffleSplit(n_splits=cfg[\"fold\"], train_size=cfg[\"train_size\"], test_size=cfg[\"test_size\"], random_state=1)"
   ],
   "metadata": {
    "collapsed": false,
    "pycharm": {
     "name": "#%%\n"
    }
   }
  },
  {
   "cell_type": "code",
   "execution_count": 5,
   "outputs": [
    {
     "name": "stdout",
     "output_type": "stream",
     "text": [
      "(375, 257) (375,)\n"
     ]
    }
   ],
   "source": [
    "surf = numpy.loadtxt(os.path.join(cfg[\"path_base\"], \"surf64.txt\"))\n",
    "samples, n_features = surf.shape\n",
    "x, y = surf[0:, 0:n_features - 1], surf[:, n_features - 1]\n",
    "x_normalized = sklearn.preprocessing.StandardScaler().fit_transform(x)\n",
    "\n",
    "print(x.shape, y.shape)"
   ],
   "metadata": {
    "collapsed": false,
    "pycharm": {
     "name": "#%%\n"
    }
   }
  },
  {
   "cell_type": "code",
   "execution_count": 6,
   "outputs": [
    {
     "name": "stdout",
     "output_type": "stream",
     "text": [
      "0 DecisionTreeClassifier (300, 128) (75, 128)\n",
      "1 DecisionTreeClassifier (300, 128) (75, 128)\n",
      "2 DecisionTreeClassifier (300, 128) (75, 128)\n",
      "3 DecisionTreeClassifier (300, 128) (75, 128)\n",
      "4 DecisionTreeClassifier (300, 128) (75, 128)\n",
      "best_accuracy: 42.9333, best_rule: max\n",
      "\n"
     ]
    }
   ],
   "source": [
    "for pca in (128, 256, -1):\n",
    "    x = x_normalized\n",
    "    if pca > 0:\n",
    "        x = sklearn.decomposition.PCA(n_components=pca).fit_transform(x)\n",
    "\n",
    "    list_result_classifier = list()\n",
    "    for classifier in (sklearn.tree.DecisionTreeClassifier(random_state=1), sklearn.neighbors.KNeighborsClassifier(n_jobs=-1), sklearn.neural_network.MLPClassifier(random_state=1), sklearn.ensemble.RandomForestClassifier(random_state=1), sklearn.svm.SVC(random_state=1, probability=True)):\n",
    "        classifier_name = classifier.__class__.__name__\n",
    "\n",
    "        model = sklearn.model_selection.GridSearchCV(classifier, hyperparams[classifier_name], scoring=\"accuracy\", cv=cfg[\"fold\"])\n",
    "        model.fit(x, y)\n",
    "\n",
    "        best_classifier = model.best_estimator_\n",
    "        best_params = model.best_params_\n",
    "\n",
    "        list_result_fold = list()\n",
    "        list_time = list()\n",
    "\n",
    "        path_classifier = os.path.join(cfg[\"path_out\"], \"surf\", classifier_name)\n",
    "        pathlib.Path(path_classifier).mkdir(parents=True, exist_ok=True)\n",
    "        for fold, (index_train, index_test) in enumerate(index.split(x, y)):\n",
    "            classifier_no_patch(cfg, best_classifier, classifier_name, \"surf\", fold, index_test, index_train, list_result_fold, list_time, path_classifier, pca, x, y)\n",
    "        save_mean_std(best_params, cfg, list_result_fold, list_time, path_classifier)\n",
    "        list_result_classifier = list_result_classifier + list_result_fold\n",
    "        break\n",
    "    break"
   ],
   "metadata": {
    "collapsed": false,
    "pycharm": {
     "name": "#%%\n"
    }
   }
  }
 ],
 "metadata": {
  "kernelspec": {
   "display_name": "Python 3 (ipykernel)",
   "language": "python",
   "name": "python3"
  },
  "language_info": {
   "codemirror_mode": {
    "name": "ipython",
    "version": 3
   },
   "file_extension": ".py",
   "mimetype": "text/x-python",
   "name": "python",
   "nbconvert_exporter": "python",
   "pygments_lexer": "ipython3",
   "version": "3.8.13"
  }
 },
 "nbformat": 4,
 "nbformat_minor": 1
}