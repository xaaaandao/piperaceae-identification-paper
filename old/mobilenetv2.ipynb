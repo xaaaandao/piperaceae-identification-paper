{
 "cells": [
  {
   "cell_type": "code",
   "execution_count": null,
   "metadata": {
    "collapsed": true,
    "pycharm": {
     "name": "#%%\n"
    }
   },
   "outputs": [],
   "source": [
    "import numpy\n",
    "import os\n",
    "import sklearn.ensemble\n",
    "import sklearn.neighbors\n",
    "import sklearn.neural_network\n",
    "import sklearn.svm\n",
    "import sklearn.tree\n",
    "\n",
    "from samples import get_index"
   ]
  },
  {
   "cell_type": "code",
   "execution_count": null,
   "outputs": [],
   "source": [
    "cfg = {\n",
    "    \"fold\": 5,\n",
    "    \"n_labels\": 5,\n",
    "    \"path_base\": \"dataset\",\n",
    "    \"path_out\": \"out\",\n",
    "    \"pca\": True,\n",
    "    \"test_size\": 0.2,\n",
    "    \"train_size\": 0.8,\n",
    "}\n",
    "list_index = get_index(cfg, os.path.join(cfg[\"path_base\"], \"surf64.txt\"))"
   ],
   "metadata": {
    "collapsed": false,
    "pycharm": {
     "name": "#%%\n"
    }
   }
  },
  {
   "cell_type": "code",
   "execution_count": null,
   "outputs": [],
   "source": [
    "for classifier in list(sklearn.tree.DecisionTreeClassifier(random_state=1), sklearn.neighbors.KNeighborsClassifier(n_jobs=-1), sklearn.neural_network.MLPClassifier(random_state=1), sklearn.ensemble.RandomForestClassifier(random_state=1), sklearn.svm.SVC(random_state=1, )):\n",
    "\n"
   ],
   "metadata": {
    "collapsed": false,
    "pycharm": {
     "name": "#%%\n"
    }
   }
  }
 ],
 "metadata": {
  "kernelspec": {
   "display_name": "Python 3",
   "language": "python",
   "name": "python3"
  },
  "language_info": {
   "codemirror_mode": {
    "name": "ipython",
    "version": 2
   },
   "file_extension": ".py",
   "mimetype": "text/x-python",
   "name": "python",
   "nbconvert_exporter": "python",
   "pygments_lexer": "ipython2",
   "version": "2.7.6"
  }
 },
 "nbformat": 4,
 "nbformat_minor": 0
}