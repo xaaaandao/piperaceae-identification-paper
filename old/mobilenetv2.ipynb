{
 "cells": [
  {
   "cell_type": "code",
   "execution_count": 13,
   "outputs": [],
   "source": [
    "import numpy\n",
    "import os\n",
    "import pathlib\n",
    "import sklearn.ensemble\n",
    "import sklearn.neighbors\n",
    "import sklearn.preprocessing\n",
    "import sklearn.svm\n",
    "import sklearn.tree\n",
    "import time\n",
    "\n",
    "from old.output import save_fold, save_mean_std\n",
    "from result import calculate_test\n",
    "from samples import get_samples_with_patch"
   ],
   "metadata": {
    "collapsed": false,
    "pycharm": {
     "name": "#%%\n"
    }
   }
  },
  {
   "cell_type": "code",
   "execution_count": 14,
   "outputs": [],
   "source": [
    "cfg = {\n",
    "    \"fold\": 5,\n",
    "    \"n_labels\": 5,\n",
    "    \"path_base\": \"dataset\",\n",
    "    \"path_out\": \"out\",\n",
    "    \"test_size\": 0.2,\n",
    "    \"train_size\": 0.8,\n",
    "}"
   ],
   "metadata": {
    "collapsed": false,
    "pycharm": {
     "name": "#%%\n"
    }
   }
  },
  {
   "cell_type": "code",
   "execution_count": 15,
   "outputs": [],
   "source": [
    "hyperparams = {\n",
    "    \"DecisionTreeClassifier\": {\n",
    "        \"criterion\": [\"gini\", \"entropy\"],\n",
    "        \"splitter\": [\"best\", \"random\"],\n",
    "        \"max_depth\": [10, 100, 1000]\n",
    "    },\n",
    "    \"KNeighborsClassifier\": {\n",
    "        \"n_neighbors\": [2, 4, 6, 8, 10],\n",
    "        \"weights\": [\"uniform\", \"distance\"],\n",
    "        \"metric\": [\"euclidean\", \"manhattan\"]\n",
    "    },\n",
    "    \"MLPClassifier\": {\n",
    "        \"activation\": [\"identity\", \"logistic\", \"tanh\", \"relu\"],\n",
    "        \"solver\": [\"adam\", \"sgd\"],\n",
    "        \"learning_rate_init\": [0.01, 0.001, 0.0001],\n",
    "        \"momentum\": [0.9, 0.4, 0.1]\n",
    "    },\n",
    "    \"RandomForestClassifier\": {\n",
    "        \"n_estimators\": [200, 400, 600, 800, 1000],\n",
    "        \"max_features\": [\"sqrt\", \"log2\"],\n",
    "        \"criterion\": [\"gini\", \"entropy\"],\n",
    "        \"max_depth\": [10, 100, 1000]\n",
    "    },\n",
    "    \"SVC\": {\n",
    "        'kernel': ['linear', 'poly', 'rbf', 'sigmoid'],\n",
    "    }\n",
    "}\n",
    "index = sklearn.model_selection.StratifiedShuffleSplit(n_splits=cfg[\"fold\"], train_size=cfg[\"train_size\"], test_size=cfg[\"test_size\"], random_state=1)"
   ],
   "metadata": {
    "collapsed": false,
    "pycharm": {
     "name": "#%%\n"
    }
   }
  },
  {
   "cell_type": "code",
   "execution_count": 16,
   "outputs": [],
   "source": [
    "surf = numpy.loadtxt(os.path.join(\"../\", cfg[\"path_base\"], \"surf64.txt\"))\n",
    "samples, n_features = surf.shape\n",
    "x_surf, y_surf = surf[0:, 0:n_features - 1], surf[:, n_features - 1]"
   ],
   "metadata": {
    "collapsed": false,
    "pycharm": {
     "name": "#%%\n"
    }
   }
  },
  {
   "cell_type": "code",
   "execution_count": 17,
   "outputs": [
    {
     "name": "stdout",
     "output_type": "stream",
     "text": [
      "(1125, 1280) (1125,)\n"
     ]
    }
   ],
   "source": [
    "mobilenet = numpy.load(os.path.join(\"../\", cfg[\"path_base\"], \"horizontal+patch=3+mobilenetv2.npz\"))\n",
    "n_patch = 3\n",
    "x = mobilenet[\"features\"]\n",
    "y = mobilenet[\"labels\"]\n",
    "x = sklearn.preprocessing.StandardScaler().fit_transform(x)\n",
    "\n",
    "print(x.shape, y.shape)"
   ],
   "metadata": {
    "collapsed": false,
    "pycharm": {
     "name": "#%%\n"
    }
   }
  },
  {
   "cell_type": "code",
   "execution_count": 18,
   "outputs": [
    {
     "name": "stdout",
     "output_type": "stream",
     "text": [
      "0 SVC (900, 128) (225, 128)\n",
      "1 SVC (900, 128) (225, 128)\n",
      "2 SVC (900, 128) (225, 128)\n",
      "3 SVC (900, 128) (225, 128)\n",
      "4 SVC (900, 128) (225, 128)\n",
      "best_accuracy: 80.8, best_rule: prod\n",
      "\n"
     ]
    }
   ],
   "source": [
    "for pca in (128, 256):\n",
    "    x = sklearn.decomposition.PCA(n_components=pca).fit_transform(x)\n",
    "\n",
    "    list_result_classifier = list()\n",
    "    for classifier in (sklearn.tree.DecisionTreeClassifier(random_state=1), sklearn.neighbors.KNeighborsClassifier(n_jobs=-1), sklearn.neural_network.MLPClassifier(random_state=1), sklearn.ensemble.RandomForestClassifier(random_state=1), sklearn.svm.SVC(random_state=1, probability=True))[4:]:\n",
    "        classifier_name = classifier.__class__.__name__\n",
    "\n",
    "        model = sklearn.model_selection.GridSearchCV(classifier, hyperparams[classifier_name], scoring=\"accuracy\", cv=cfg[\"fold\"])\n",
    "        model.fit(x, y)\n",
    "\n",
    "        best_classifier = model.best_estimator_\n",
    "        best_params = model.best_params_\n",
    "\n",
    "        list_result_fold = list()\n",
    "        list_time = list()\n",
    "\n",
    "        path_classifier = os.path.join(cfg[\"path_out\"], \"mobilenetv2\", classifier_name)\n",
    "        pathlib.Path(path_classifier).mkdir(parents=True, exist_ok=True)\n",
    "        for fold, (index_train, index_test) in enumerate(index.split(x_surf, y_surf)):\n",
    "            x_train, y_train = get_samples_with_patch(x, y, index_train, n_patch)\n",
    "            x_test, y_test = get_samples_with_patch(x, y, index_test, n_patch)\n",
    "\n",
    "            print(fold, classifier_name, x_train.shape, x_test.shape)\n",
    "\n",
    "            start_time = time.time()\n",
    "            best_classifier.fit(x_train, y_train)\n",
    "            y_pred = best_classifier.predict_proba(x_test)\n",
    "            end_time = time.time()\n",
    "\n",
    "            path_fold = os.path.join(path_classifier, str(n_patch), str(pca), str(fold))\n",
    "            pathlib.Path(path_fold).mkdir(parents=True, exist_ok=True)\n",
    "\n",
    "            result_max_rule, result_prod_rule, result_sum_rule = calculate_test(cfg, classifier, fold, y_pred, y_test, n_patch=n_patch)\n",
    "\n",
    "            final_time = end_time - start_time\n",
    "\n",
    "            list_result_fold.append(result_max_rule)\n",
    "            list_result_fold.append(result_prod_rule)\n",
    "            list_result_fold.append(result_sum_rule)\n",
    "            list_time.append(final_time)\n",
    "\n",
    "            save_fold(classifier_name, \"mobilenetv2\", final_time, (result_max_rule, result_prod_rule, result_sum_rule), path_fold)\n",
    "        save_mean_std(cfg, list_result_fold, list_time, path_classifier)\n",
    "        list_result_classifier = list_result_classifier + list_result_fold\n",
    "    break"
   ],
   "metadata": {
    "collapsed": false,
    "pycharm": {
     "name": "#%%\n"
    }
   }
  },
  {
   "cell_type": "code",
   "execution_count": null,
   "outputs": [],
   "source": [],
   "metadata": {
    "collapsed": false,
    "pycharm": {
     "name": "#%%\n"
    }
   }
  }
 ],
 "metadata": {
  "kernelspec": {
   "display_name": "Python 3",
   "language": "python",
   "name": "python3"
  },
  "language_info": {
   "codemirror_mode": {
    "name": "ipython",
    "version": 2
   },
   "file_extension": ".py",
   "mimetype": "text/x-python",
   "name": "python",
   "nbconvert_exporter": "python",
   "pygments_lexer": "ipython2",
   "version": "2.7.6"
  }
 },
 "nbformat": 4,
 "nbformat_minor": 0
}