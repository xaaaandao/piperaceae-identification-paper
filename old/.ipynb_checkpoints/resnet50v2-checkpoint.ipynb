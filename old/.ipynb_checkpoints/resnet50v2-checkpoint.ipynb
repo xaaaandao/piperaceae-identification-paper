{
 "cells": [
  {
   "cell_type": "code",
   "execution_count": 1,
   "metadata": {
    "pycharm": {
     "name": "#%%\n"
    }
   },
   "outputs": [],
   "source": [
    "%reload_ext autoreload\n",
    "%autoreload 2\n",
    "import numpy\n",
    "import os\n",
    "import sklearn.preprocessing\n",
    "import sys\n",
    "\n",
    "from utils import get_cfg, get_index\n",
    "\n",
    "module_path = os.path.abspath(os.path.join('..'))\n",
    "if module_path not in sys.path:\n",
    "    sys.path.append(module_path)\n",
    "\n",
    "from classifier import classification_data"
   ]
  },
  {
   "cell_type": "code",
   "execution_count": 2,
   "metadata": {
    "pycharm": {
     "name": "#%%\n"
    }
   },
   "outputs": [
    {
     "name": "stdout",
     "output_type": "stream",
     "text": [
      "(1125, 2048) (1125,)\n"
     ]
    }
   ],
   "source": [
    "cfg = get_cfg()\n",
    "resnet = numpy.load(os.path.join(cfg[\"path_base\"], \"cnn\", \"horizontal+patch=3+resnet50v2.npz\"))\n",
    "dataset = \"resnet50v2\"\n",
    "orientation = \"horizontal\"\n",
    "n_patch = 3\n",
    "x = resnet[\"features\"]\n",
    "y = resnet[\"labels\"]\n",
    "n_samples = x.shape[0]\n",
    "n_features = x.shape[1]\n",
    "x_normalized = sklearn.preprocessing.StandardScaler().fit_transform(x)\n",
    "\n",
    "print(x.shape, y.shape)"
   ]
  },
  {
   "cell_type": "code",
   "execution_count": null,
   "metadata": {
    "pycharm": {
     "name": "#%%\n"
    }
   },
   "outputs": [
    {
     "name": "stdout",
     "output_type": "stream",
     "text": [
      "0 DecisionTreeClassifier (900, 128) (225, 128)\n",
      "1 DecisionTreeClassifier (900, 128) (225, 128)\n",
      "2 DecisionTreeClassifier (900, 128) (225, 128)\n",
      "3 DecisionTreeClassifier (900, 128) (225, 128)\n",
      "4 DecisionTreeClassifier (900, 128) (225, 128)\n",
      "best_accuracy: 53.0667, best_rule: sum\n",
      "\n",
      "0 KNeighborsClassifier (900, 128) (225, 128)\n",
      "1 KNeighborsClassifier (900, 128) (225, 128)\n",
      "2 KNeighborsClassifier (900, 128) (225, 128)\n",
      "3 KNeighborsClassifier (900, 128) (225, 128)\n",
      "4 KNeighborsClassifier (900, 128) (225, 128)\n",
      "best_accuracy: 72.0, best_rule: sum\n",
      "\n"
     ]
    }
   ],
   "source": [
    "for pca in (128, 256, 512, 1024, -1):\n",
    "    x = x_normalized\n",
    "    if pca > 0:\n",
    "        x = sklearn.decomposition.PCA(n_components=pca).fit_transform(x)\n",
    "\n",
    "    if pca == -1:\n",
    "        pca = n_features\n",
    "\n",
    "    classification_data(cfg, dataset, get_index(), pca, n_samples, x, y, n_patch=n_patch, orientation=orientation)"
   ]
  }
 ],
 "metadata": {
  "kernelspec": {
   "display_name": "Python 3 (ipykernel)",
   "language": "python",
   "name": "python3"
  },
  "language_info": {
   "codemirror_mode": {
    "name": "ipython",
    "version": 3
   },
   "file_extension": ".py",
   "mimetype": "text/x-python",
   "name": "python",
   "nbconvert_exporter": "python",
   "pygments_lexer": "ipython3",
   "version": "3.8.13"
  }
 },
 "nbformat": 4,
 "nbformat_minor": 1
}
