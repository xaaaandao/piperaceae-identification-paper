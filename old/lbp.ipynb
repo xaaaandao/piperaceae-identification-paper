{
 "cells": [
  {
   "cell_type": "code",
   "execution_count": 1,
   "outputs": [],
   "source": [
    "%reload_ext autoreload\n",
    "%autoreload 2\n",
    "import numpy\n",
    "import os\n",
    "import sklearn.preprocessing\n",
    "import sys\n",
    "\n",
    "module_path = os.path.abspath(os.path.join('..'))\n",
    "if module_path not in sys.path:\n",
    "    sys.path.append(module_path)\n",
    "\n",
    "from classifier import classification_data"
   ],
   "metadata": {
    "collapsed": false,
    "pycharm": {
     "name": "#%%\n"
    }
   }
  },
  {
   "cell_type": "code",
   "execution_count": 2,
   "outputs": [],
   "source": [
    "cfg = {\n",
    "    \"fold\": 5,\n",
    "    \"n_labels\": 5,\n",
    "    \"path_base\": \"../dataset\",\n",
    "    \"path_out\": \"out\",\n",
    "    \"test_size\": 0.2,\n",
    "    \"train_size\": 0.8,\n",
    "}\n",
    "index = sklearn.model_selection.StratifiedShuffleSplit(n_splits=cfg[\"fold\"], train_size=cfg[\"train_size\"], test_size=cfg[\"test_size\"], random_state=1)"
   ],
   "metadata": {
    "collapsed": false,
    "pycharm": {
     "name": "#%%\n"
    }
   }
  },
  {
   "cell_type": "code",
   "execution_count": 3,
   "outputs": [],
   "source": [
    "surf = numpy.loadtxt(os.path.join(cfg[\"path_base\"], \"surf64.txt\"))\n",
    "n_samples, n_features = surf.shape\n",
    "x_surf, y_surf = surf[0:, 0:n_features - 1], surf[:, n_features - 1]"
   ],
   "metadata": {
    "collapsed": false,
    "pycharm": {
     "name": "#%%\n"
    }
   }
  },
  {
   "cell_type": "code",
   "execution_count": 4,
   "outputs": [
    {
     "name": "stdout",
     "output_type": "stream",
     "text": [
      "(375, 59) (375,)\n",
      "0 DecisionTreeClassifier (300, 59) (75, 59)\n",
      "1 DecisionTreeClassifier (300, 59) (75, 59)\n",
      "2 DecisionTreeClassifier (300, 59) (75, 59)\n",
      "3 DecisionTreeClassifier (300, 59) (75, 59)\n",
      "4 DecisionTreeClassifier (300, 59) (75, 59)\n",
      "best_accuracy: 46.9333, best_rule: max\n",
      "\n",
      "0 KNeighborsClassifier (300, 59) (75, 59)\n",
      "1 KNeighborsClassifier (300, 59) (75, 59)\n",
      "2 KNeighborsClassifier (300, 59) (75, 59)\n",
      "3 KNeighborsClassifier (300, 59) (75, 59)\n",
      "4 KNeighborsClassifier (300, 59) (75, 59)\n",
      "best_accuracy: 49.8667, best_rule: max\n",
      "\n",
      "0 MyEnsembleClassifier\n",
      "1 MyEnsembleClassifier\n",
      "2 MyEnsembleClassifier\n",
      "3 MyEnsembleClassifier\n",
      "4 MyEnsembleClassifier\n",
      "best_accuracy: 48.2667, best_rule: max\n",
      "\n",
      "0 VotingClassifier (300, 59) (75, 59)\n",
      "1 VotingClassifier (300, 59) (75, 59)\n",
      "2 VotingClassifier (300, 59) (75, 59)\n",
      "3 VotingClassifier (300, 59) (75, 59)\n",
      "4 VotingClassifier (300, 59) (75, 59)\n",
      "best_accuracy: 61.3333\n",
      "\n"
     ]
    }
   ],
   "source": [
    "lbp = numpy.loadtxt(os.path.join(cfg[\"path_base\"], \"lbp.txt\"))\n",
    "dataset = \"lbp\"\n",
    "n_samples, n_features = lbp.shape\n",
    "n_features = n_features - 1\n",
    "x, y = lbp[0:, 0:n_features], lbp[:, n_features]\n",
    "x = sklearn.preprocessing.StandardScaler().fit_transform(x)\n",
    "\n",
    "print(x.shape, y.shape)\n",
    "\n",
    "classification_data(cfg, dataset, index, n_features, n_samples, x, y, x_surf=x_surf, y_surf=y_surf)"
   ],
   "metadata": {
    "collapsed": false,
    "pycharm": {
     "name": "#%%\n"
    }
   }
  }
 ],
 "metadata": {
  "kernelspec": {
   "display_name": "Python 3 (ipykernel)",
   "language": "python",
   "name": "python3"
  },
  "language_info": {
   "codemirror_mode": {
    "name": "ipython",
    "version": 3
   },
   "file_extension": ".py",
   "mimetype": "text/x-python",
   "name": "python",
   "nbconvert_exporter": "python",
   "pygments_lexer": "ipython3",
   "version": "3.8.13"
  }
 },
 "nbformat": 4,
 "nbformat_minor": 1
}