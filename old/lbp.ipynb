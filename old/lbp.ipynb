{
 "cells": [
  {
   "cell_type": "code",
   "execution_count": 1,
   "outputs": [],
   "source": [
    "%reload_ext autoreload\n",
    "%autoreload 2\n",
    "import numpy\n",
    "import os\n",
    "import sklearn.preprocessing\n",
    "\n",
    "from utils import get_cfg, get_index\n",
    "from classifier import classification_data"
   ],
   "metadata": {
    "collapsed": false,
    "pycharm": {
     "name": "#%%\n"
    }
   }
  },
  {
   "cell_type": "code",
   "execution_count": 2,
   "outputs": [
    {
     "name": "stdout",
     "output_type": "stream",
     "text": [
      "(375, 59) (375,)\n",
      "0 DecisionTreeClassifier (300, 59) (75, 59)\n",
      "1 DecisionTreeClassifier (300, 59) (75, 59)\n",
      "2 DecisionTreeClassifier (300, 59) (75, 59)\n",
      "3 DecisionTreeClassifier (300, 59) (75, 59)\n",
      "4 DecisionTreeClassifier (300, 59) (75, 59)\n",
      "best_accuracy: 46.9333, best_rule: max\n",
      "\n",
      "0 KNeighborsClassifier (300, 59) (75, 59)\n",
      "1 KNeighborsClassifier (300, 59) (75, 59)\n",
      "2 KNeighborsClassifier (300, 59) (75, 59)\n",
      "3 KNeighborsClassifier (300, 59) (75, 59)\n",
      "4 KNeighborsClassifier (300, 59) (75, 59)\n",
      "best_accuracy: 49.8667, best_rule: max\n",
      "\n",
      "0 MLPClassifier (300, 59) (75, 59)\n",
      "1 MLPClassifier (300, 59) (75, 59)\n",
      "2 MLPClassifier (300, 59) (75, 59)\n",
      "3 MLPClassifier (300, 59) (75, 59)\n",
      "4 MLPClassifier (300, 59) (75, 59)\n",
      "best_accuracy: 63.4667, best_rule: max\n",
      "\n",
      "0 RandomForestClassifier (300, 59) (75, 59)\n",
      "1 RandomForestClassifier (300, 59) (75, 59)\n",
      "2 RandomForestClassifier (300, 59) (75, 59)\n",
      "3 RandomForestClassifier (300, 59) (75, 59)\n",
      "4 RandomForestClassifier (300, 59) (75, 59)\n",
      "best_accuracy: 54.9333, best_rule: max\n",
      "\n",
      "0 SVC (300, 59) (75, 59)\n",
      "1 SVC (300, 59) (75, 59)\n",
      "2 SVC (300, 59) (75, 59)\n",
      "3 SVC (300, 59) (75, 59)\n",
      "4 SVC (300, 59) (75, 59)\n",
      "best_accuracy: 60.5333, best_rule: max\n",
      "\n",
      "0 MyEnsembleClassifier\n",
      "1 MyEnsembleClassifier\n",
      "2 MyEnsembleClassifier\n",
      "3 MyEnsembleClassifier\n",
      "4 MyEnsembleClassifier\n",
      "best_accuracy: 59.7333, best_rule: sum\n",
      "\n",
      "0 VotingClassifier (300, 59) (75, 59)\n",
      "1 VotingClassifier (300, 59) (75, 59)\n",
      "2 VotingClassifier (300, 59) (75, 59)\n",
      "3 VotingClassifier (300, 59) (75, 59)\n",
      "4 VotingClassifier (300, 59) (75, 59)\n",
      "best_accuracy: 66.6667\n",
      "\n"
     ]
    }
   ],
   "source": [
    "cfg = get_cfg()\n",
    "lbp = numpy.loadtxt(os.path.join(cfg[\"path_base\"], \"lbp.txt\"))\n",
    "dataset = \"lbp\"\n",
    "n_samples, n_features = lbp.shape\n",
    "n_features = n_features - 1\n",
    "x, y = lbp[0:, 0:n_features], lbp[:, n_features]\n",
    "x = sklearn.preprocessing.StandardScaler().fit_transform(x)\n",
    "\n",
    "print(x.shape, y.shape)\n",
    "\n",
    "classification_data(cfg, dataset, get_index(), n_features, n_samples, x, y)"
   ],
   "metadata": {
    "collapsed": false,
    "pycharm": {
     "name": "#%%\n"
    }
   }
  },
  {
   "cell_type": "code",
   "execution_count": null,
   "outputs": [],
   "source": [],
   "metadata": {
    "collapsed": false,
    "pycharm": {
     "name": "#%%\n"
    }
   }
  }
 ],
 "metadata": {
  "kernelspec": {
   "display_name": "Python 3 (ipykernel)",
   "language": "python",
   "name": "python3"
  },
  "language_info": {
   "codemirror_mode": {
    "name": "ipython",
    "version": 3
   },
   "file_extension": ".py",
   "mimetype": "text/x-python",
   "name": "python",
   "nbconvert_exporter": "python",
   "pygments_lexer": "ipython3",
   "version": "3.8.13"
  }
 },
 "nbformat": 4,
 "nbformat_minor": 1
}