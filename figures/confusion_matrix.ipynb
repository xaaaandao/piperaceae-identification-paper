{
 "cells": [
  {
   "cell_type": "code",
   "execution_count": null,
   "source": [
    "import os\n",
    "\n",
    "import pandas as pd\n",
    "%reload_ext autoreload\n",
    "%load_ext autoreload\n",
    "%autoreload 2"
   ],
   "metadata": {
    "collapsed": false
   },
   "outputs": []
  },
  {
   "cell_type": "code",
   "execution_count": 36,
   "metadata": {
    "collapsed": true,
    "ExecuteTime": {
     "start_time": "2023-04-10T14:38:10.728798Z",
     "end_time": "2023-04-10T14:38:10.759746Z"
    }
   },
   "source": [
    "import matplotlib.pyplot as plt\n",
    "import numpy as np\n",
    "import os\n",
    "import pandas as pd\n",
    "import pathlib\n",
    "import seaborn as sns"
   ],
   "outputs": []
  },
  {
   "cell_type": "code",
   "execution_count": 23,
   "source": [
    "args_save = {\n",
    "    'format': 'png',\n",
    "    'bbox_inches': 'tight',\n",
    "    'dpi': 300\n",
    "}\n",
    "\n",
    "args_confusion_matrix = [{\n",
    "    'n_labels': ['55', '36'],\n",
    "    'label': {'fontsize': 48},\n",
    "    'ticks': {'fontsize': 18},\n",
    "    'title': {'fontsize': 84,\n",
    "              'pad': 32},\n",
    "    'figure': {'figsize': (30, 30)}\n",
    "},\n",
    "    {'n_labels': ['23'],\n",
    "     'label': {'fontsize': 48},\n",
    "     'ticks': {'fontsize': 24},\n",
    "     'title': {'fontsize': 84,\n",
    "               'pad': 32},\n",
    "     'figure': {'figsize': (30, 30)}\n",
    "     },\n",
    "]\n",
    "\n",
    "def plot_cm(columns, confusion_matrix, filename, index, title):\n",
    "    off_diag_mask = np.eye(*confusion_matrix.shape, dtype=bool)\n",
    "\n",
    "    figure, axis = plt.subplots(**args_confusion_matrix[0]['figure'])\n",
    "\n",
    "    parameters_default = {\n",
    "        'annot': True,\n",
    "        'mask': ~off_diag_mask,\n",
    "        'cmap': 'Reds',\n",
    "        'fmt': '.2g',\n",
    "        'vmin': np.min(confusion_matrix),\n",
    "        'vmax': np.max(confusion_matrix),\n",
    "        'ax': axis,\n",
    "        'annot_kws': {'fontweight': 'bold', 'size': 12}\n",
    "    }\n",
    "\n",
    "    axis = sns.heatmap(confusion_matrix, **parameters_default)\n",
    "    parameters_default.update({'mask': off_diag_mask, 'cbar': False, 'annot_kws': {}})\n",
    "    axis = sns.heatmap(confusion_matrix, **parameters_default)\n",
    "\n",
    "    posix_xtick = [i + 0.5 for i in range(len(columns))]\n",
    "    posix_ytick = [i + 0.5 for i in range(len(index))]\n",
    "    xtick_labels = columns\n",
    "    ytick_labels = index\n",
    "\n",
    "    axis.set_xticks(posix_xtick, labels=xtick_labels, rotation=90, **args_confusion_matrix[0]['ticks'])\n",
    "    axis.xaxis.set_tick_params(pad=16)\n",
    "    axis.set_yticks(posix_ytick, labels=ytick_labels, rotation=0, **args_confusion_matrix[0]['ticks'])\n",
    "    axis.yaxis.set_tick_params(pad=16)\n",
    "    axis.set_xlabel('True label', **args_confusion_matrix[0]['label'])\n",
    "    axis.set_ylabel('Prediction label', **args_confusion_matrix[0]['label'])\n",
    "    axis.set_facecolor('white')\n",
    "    axis.set_title(title, **args_confusion_matrix[0]['title'])\n",
    "\n",
    "    plt.ioff()\n",
    "    plt.tight_layout()\n",
    "    plt.savefig(filename, **args_save)\n",
    "    plt.cla()\n",
    "    plt.clf()\n",
    "    plt.close(figure)"
   ],
   "metadata": {
    "collapsed": false,
    "ExecuteTime": {
     "start_time": "2023-04-10T12:43:05.095376Z",
     "end_time": "2023-04-10T12:43:05.143856Z"
    }
   },
   "outputs": []
  },
  {
   "cell_type": "code",
   "execution_count": 40,
   "source": [
    "confusion_matrix_files = [p for p in pathlib.Path('/home/none/results').rglob('confusion_matrix+sum.csv')]\n",
    "display('count of confusion matrix: %d' % len(confusion_matrix_files))\n",
    "\n",
    "def get_classifier_name(df):\n",
    "    classifier_name = df.iloc['classifier_name'][1]\n",
    "    if 'decisiontree' in classifier_name.lower():\n",
    "        return 'DT'\n",
    "    elif 'kneighbors' in classifier_name.lower():\n",
    "        return 'KNN'\n",
    "    elif 'randomforest' in classifier_name.lower():\n",
    "        return 'RF'\n",
    "    elif 'svc' in classifier_name.lower():\n",
    "        return 'SVM'\n",
    "    elif 'mlp' in classifier_name.lower():\n",
    "        return 'MLP'\n",
    "\n",
    "def get_title(path):\n",
    "    fname = os.path.join(path, 'info.csv')\n",
    "    df = pd.read_csv(fname, index_col=0, header=None, sep=';')\n",
    "    classifier_name = df.iloc['classifier_name'][1]\n",
    "    extractor = df.iloc['extractor'][1]\n",
    "    n_samples = df.iloc['n_samples'][1]\n",
    "    n_features = df.iloc['n_features'][1]\n",
    "    patch = df.iloc['patch'][1]\n",
    "    return 'Confusion Matrix\\n(%s, %s, %s, %s)' % (classifier_name, extractor, n_samples, n_features, patch)\n",
    "\n",
    "for c in confusion_matrix_files:\n",
    "    title = get_title(c.parents[2])\n",
    "    df = pd.read_csv(c, header=0, index_col=0, sep=';')\n",
    "    index = df.index\n",
    "    columns = df.columns\n",
    "    confusion_matrix = df.values\n",
    "    # plot_cm(columns, confusion_matrix, index, title=)"
   ],
   "metadata": {
    "collapsed": false,
    "ExecuteTime": {
     "start_time": "2023-04-10T14:39:10.055745Z",
     "end_time": "2023-04-10T14:39:10.399539Z"
    }
   },
   "outputs": []
  },
  {
   "cell_type": "code",
   "execution_count": null,
   "source": [
    "2"
   ],
   "metadata": {
    "collapsed": false
   },
   "outputs": []
  }
 ],
 "metadata": {
  "kernelspec": {
   "display_name": "Python 3",
   "language": "python",
   "name": "python3"
  },
  "language_info": {
   "codemirror_mode": {
    "name": "ipython",
    "version": 2
   },
   "file_extension": ".py",
   "mimetype": "text/x-python",
   "name": "python",
   "nbconvert_exporter": "python",
   "pygments_lexer": "ipython2",
   "version": "2.7.6"
  }
 },
 "nbformat": 4,
 "nbformat_minor": 0
}
