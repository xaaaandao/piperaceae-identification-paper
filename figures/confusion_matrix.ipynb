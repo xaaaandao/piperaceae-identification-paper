{
 "cells": [
  {
   "cell_type": "code",
   "execution_count": null,
   "outputs": [],
   "source": [
    "import os\n",
    "\n",
    "import pandas as pd\n",
    "%reload_ext autoreload\n",
    "%load_ext autoreload\n",
    "%autoreload 2"
   ],
   "metadata": {
    "collapsed": false
   }
  },
  {
   "cell_type": "code",
   "execution_count": 36,
   "metadata": {
    "collapsed": true,
    "ExecuteTime": {
     "start_time": "2023-04-10T14:38:10.728798Z",
     "end_time": "2023-04-10T14:38:10.759746Z"
    }
   },
   "outputs": [],
   "source": [
    "import matplotlib.pyplot as plt\n",
    "import numpy as np\n",
    "import os\n",
    "import pandas as pd\n",
    "import pathlib\n",
    "import seaborn as sns"
   ]
  },
  {
   "cell_type": "code",
   "execution_count": 23,
   "outputs": [],
   "source": [
    "args_save = {\n",
    "    'format': 'png',\n",
    "    'bbox_inches': 'tight',\n",
    "    'dpi': 300\n",
    "}\n",
    "\n",
    "args_confusion_matrix = [{\n",
    "    'n_labels': ['55', '36'],\n",
    "    'label': {'fontsize': 48},\n",
    "    'ticks': {'fontsize': 18},\n",
    "    'title': {'fontsize': 84,\n",
    "              'pad': 32},\n",
    "    'figure': {'figsize': (30, 30)}\n",
    "},\n",
    "    {'n_labels': ['23'],\n",
    "     'label': {'fontsize': 48},\n",
    "     'ticks': {'fontsize': 24},\n",
    "     'title': {'fontsize': 84,\n",
    "               'pad': 32},\n",
    "     'figure': {'figsize': (30, 30)}\n",
    "     },\n",
    "]\n",
    "\n",
    "def plot_cm(columns, confusion_matrix, filename, index, title):\n",
    "    off_diag_mask = np.eye(*confusion_matrix.shape, dtype=bool)\n",
    "\n",
    "    figure, axis = plt.subplots(**args_confusion_matrix[0]['figure'])\n",
    "\n",
    "    parameters_default = {\n",
    "        'annot': True,\n",
    "        'mask': ~off_diag_mask,\n",
    "        'cmap': 'Reds',\n",
    "        'fmt': '.2g',\n",
    "        'vmin': np.min(confusion_matrix),\n",
    "        'vmax': np.max(confusion_matrix),\n",
    "        'ax': axis,\n",
    "        'annot_kws': {'fontweight': 'bold', 'size': 12}\n",
    "    }\n",
    "\n",
    "    axis = sns.heatmap(confusion_matrix, **parameters_default)\n",
    "    parameters_default.update({'mask': off_diag_mask, 'cbar': False, 'annot_kws': {}})\n",
    "    axis = sns.heatmap(confusion_matrix, **parameters_default)\n",
    "\n",
    "    posix_xtick = [i + 0.5 for i in range(len(columns))]\n",
    "    posix_ytick = [i + 0.5 for i in range(len(index))]\n",
    "    xtick_labels = columns\n",
    "    ytick_labels = index\n",
    "\n",
    "    axis.set_xticks(posix_xtick, labels=xtick_labels, rotation=90, **args_confusion_matrix[0]['ticks'])\n",
    "    axis.xaxis.set_tick_params(pad=16)\n",
    "    axis.set_yticks(posix_ytick, labels=ytick_labels, rotation=0, **args_confusion_matrix[0]['ticks'])\n",
    "    axis.yaxis.set_tick_params(pad=16)\n",
    "    axis.set_xlabel('True label', **args_confusion_matrix[0]['label'])\n",
    "    axis.set_ylabel('Prediction label', **args_confusion_matrix[0]['label'])\n",
    "    axis.set_facecolor('white')\n",
    "    axis.set_title(title, **args_confusion_matrix[0]['title'])\n",
    "\n",
    "    plt.ioff()\n",
    "    plt.tight_layout()\n",
    "    plt.savefig(filename, **args_save)\n",
    "    plt.cla()\n",
    "    plt.clf()\n",
    "    plt.close(figure)"
   ],
   "metadata": {
    "collapsed": false,
    "ExecuteTime": {
     "start_time": "2023-04-10T12:43:05.095376Z",
     "end_time": "2023-04-10T12:43:05.143856Z"
    }
   }
  },
  {
   "cell_type": "code",
   "execution_count": 40,
   "outputs": [
    {
     "data": {
      "text/plain": "'count of confusion matrix: 34'"
     },
     "metadata": {},
     "output_type": "display_data"
    },
    {
     "data": {
      "text/plain": "                                                                 1\n0                                                                 \nclassifier_name                             DecisionTreeClassifier\nextractor                                                    vgg16\nn_features                                                     256\nn_samples                                                     4068\npath             /home/xandao/results/10-04-2023+10-09-08/clf=D...\npatch                                                            3",
      "text/html": "<div>\n<style scoped>\n    .dataframe tbody tr th:only-of-type {\n        vertical-align: middle;\n    }\n\n    .dataframe tbody tr th {\n        vertical-align: top;\n    }\n\n    .dataframe thead th {\n        text-align: right;\n    }\n</style>\n<table border=\"1\" class=\"dataframe\">\n  <thead>\n    <tr style=\"text-align: right;\">\n      <th></th>\n      <th>1</th>\n    </tr>\n    <tr>\n      <th>0</th>\n      <th></th>\n    </tr>\n  </thead>\n  <tbody>\n    <tr>\n      <th>classifier_name</th>\n      <td>DecisionTreeClassifier</td>\n    </tr>\n    <tr>\n      <th>extractor</th>\n      <td>vgg16</td>\n    </tr>\n    <tr>\n      <th>n_features</th>\n      <td>256</td>\n    </tr>\n    <tr>\n      <th>n_samples</th>\n      <td>4068</td>\n    </tr>\n    <tr>\n      <th>path</th>\n      <td>/home/xandao/results/10-04-2023+10-09-08/clf=D...</td>\n    </tr>\n    <tr>\n      <th>patch</th>\n      <td>3</td>\n    </tr>\n  </tbody>\n</table>\n</div>"
     },
     "metadata": {},
     "output_type": "display_data"
    },
    {
     "data": {
      "text/plain": "                                                                 1\n0                                                                 \nclassifier_name                             DecisionTreeClassifier\nextractor                                                    vgg16\nn_features                                                     256\nn_samples                                                     4068\npath             /home/xandao/results/10-04-2023+10-09-08/clf=D...\npatch                                                            3",
      "text/html": "<div>\n<style scoped>\n    .dataframe tbody tr th:only-of-type {\n        vertical-align: middle;\n    }\n\n    .dataframe tbody tr th {\n        vertical-align: top;\n    }\n\n    .dataframe thead th {\n        text-align: right;\n    }\n</style>\n<table border=\"1\" class=\"dataframe\">\n  <thead>\n    <tr style=\"text-align: right;\">\n      <th></th>\n      <th>1</th>\n    </tr>\n    <tr>\n      <th>0</th>\n      <th></th>\n    </tr>\n  </thead>\n  <tbody>\n    <tr>\n      <th>classifier_name</th>\n      <td>DecisionTreeClassifier</td>\n    </tr>\n    <tr>\n      <th>extractor</th>\n      <td>vgg16</td>\n    </tr>\n    <tr>\n      <th>n_features</th>\n      <td>256</td>\n    </tr>\n    <tr>\n      <th>n_samples</th>\n      <td>4068</td>\n    </tr>\n    <tr>\n      <th>path</th>\n      <td>/home/xandao/results/10-04-2023+10-09-08/clf=D...</td>\n    </tr>\n    <tr>\n      <th>patch</th>\n      <td>3</td>\n    </tr>\n  </tbody>\n</table>\n</div>"
     },
     "metadata": {},
     "output_type": "display_data"
    },
    {
     "data": {
      "text/plain": "                                                                 1\n0                                                                 \nclassifier_name                             DecisionTreeClassifier\nextractor                                                    vgg16\nn_features                                                     256\nn_samples                                                     4068\npath             /home/xandao/results/10-04-2023+10-09-08/clf=D...\npatch                                                            3",
      "text/html": "<div>\n<style scoped>\n    .dataframe tbody tr th:only-of-type {\n        vertical-align: middle;\n    }\n\n    .dataframe tbody tr th {\n        vertical-align: top;\n    }\n\n    .dataframe thead th {\n        text-align: right;\n    }\n</style>\n<table border=\"1\" class=\"dataframe\">\n  <thead>\n    <tr style=\"text-align: right;\">\n      <th></th>\n      <th>1</th>\n    </tr>\n    <tr>\n      <th>0</th>\n      <th></th>\n    </tr>\n  </thead>\n  <tbody>\n    <tr>\n      <th>classifier_name</th>\n      <td>DecisionTreeClassifier</td>\n    </tr>\n    <tr>\n      <th>extractor</th>\n      <td>vgg16</td>\n    </tr>\n    <tr>\n      <th>n_features</th>\n      <td>256</td>\n    </tr>\n    <tr>\n      <th>n_samples</th>\n      <td>4068</td>\n    </tr>\n    <tr>\n      <th>path</th>\n      <td>/home/xandao/results/10-04-2023+10-09-08/clf=D...</td>\n    </tr>\n    <tr>\n      <th>patch</th>\n      <td>3</td>\n    </tr>\n  </tbody>\n</table>\n</div>"
     },
     "metadata": {},
     "output_type": "display_data"
    },
    {
     "data": {
      "text/plain": "                                                                 1\n0                                                                 \nclassifier_name                             DecisionTreeClassifier\nextractor                                                    vgg16\nn_features                                                     256\nn_samples                                                     4068\npath             /home/xandao/results/10-04-2023+10-09-08/clf=D...\npatch                                                            3",
      "text/html": "<div>\n<style scoped>\n    .dataframe tbody tr th:only-of-type {\n        vertical-align: middle;\n    }\n\n    .dataframe tbody tr th {\n        vertical-align: top;\n    }\n\n    .dataframe thead th {\n        text-align: right;\n    }\n</style>\n<table border=\"1\" class=\"dataframe\">\n  <thead>\n    <tr style=\"text-align: right;\">\n      <th></th>\n      <th>1</th>\n    </tr>\n    <tr>\n      <th>0</th>\n      <th></th>\n    </tr>\n  </thead>\n  <tbody>\n    <tr>\n      <th>classifier_name</th>\n      <td>DecisionTreeClassifier</td>\n    </tr>\n    <tr>\n      <th>extractor</th>\n      <td>vgg16</td>\n    </tr>\n    <tr>\n      <th>n_features</th>\n      <td>256</td>\n    </tr>\n    <tr>\n      <th>n_samples</th>\n      <td>4068</td>\n    </tr>\n    <tr>\n      <th>path</th>\n      <td>/home/xandao/results/10-04-2023+10-09-08/clf=D...</td>\n    </tr>\n    <tr>\n      <th>patch</th>\n      <td>3</td>\n    </tr>\n  </tbody>\n</table>\n</div>"
     },
     "metadata": {},
     "output_type": "display_data"
    },
    {
     "data": {
      "text/plain": "                                                                 1\n0                                                                 \nclassifier_name                             DecisionTreeClassifier\nextractor                                                    vgg16\nn_features                                                     256\nn_samples                                                     4068\npath             /home/xandao/results/10-04-2023+10-09-08/clf=D...\npatch                                                            3",
      "text/html": "<div>\n<style scoped>\n    .dataframe tbody tr th:only-of-type {\n        vertical-align: middle;\n    }\n\n    .dataframe tbody tr th {\n        vertical-align: top;\n    }\n\n    .dataframe thead th {\n        text-align: right;\n    }\n</style>\n<table border=\"1\" class=\"dataframe\">\n  <thead>\n    <tr style=\"text-align: right;\">\n      <th></th>\n      <th>1</th>\n    </tr>\n    <tr>\n      <th>0</th>\n      <th></th>\n    </tr>\n  </thead>\n  <tbody>\n    <tr>\n      <th>classifier_name</th>\n      <td>DecisionTreeClassifier</td>\n    </tr>\n    <tr>\n      <th>extractor</th>\n      <td>vgg16</td>\n    </tr>\n    <tr>\n      <th>n_features</th>\n      <td>256</td>\n    </tr>\n    <tr>\n      <th>n_samples</th>\n      <td>4068</td>\n    </tr>\n    <tr>\n      <th>path</th>\n      <td>/home/xandao/results/10-04-2023+10-09-08/clf=D...</td>\n    </tr>\n    <tr>\n      <th>patch</th>\n      <td>3</td>\n    </tr>\n  </tbody>\n</table>\n</div>"
     },
     "metadata": {},
     "output_type": "display_data"
    },
    {
     "data": {
      "text/plain": "                                                                 1\n0                                                                 \nclassifier_name                             DecisionTreeClassifier\nextractor                                                    vgg16\nn_features                                                     256\nn_samples                                                     4068\npath             /home/xandao/results/10-04-2023+10-57-04/clf=D...\npatch                                                            3",
      "text/html": "<div>\n<style scoped>\n    .dataframe tbody tr th:only-of-type {\n        vertical-align: middle;\n    }\n\n    .dataframe tbody tr th {\n        vertical-align: top;\n    }\n\n    .dataframe thead th {\n        text-align: right;\n    }\n</style>\n<table border=\"1\" class=\"dataframe\">\n  <thead>\n    <tr style=\"text-align: right;\">\n      <th></th>\n      <th>1</th>\n    </tr>\n    <tr>\n      <th>0</th>\n      <th></th>\n    </tr>\n  </thead>\n  <tbody>\n    <tr>\n      <th>classifier_name</th>\n      <td>DecisionTreeClassifier</td>\n    </tr>\n    <tr>\n      <th>extractor</th>\n      <td>vgg16</td>\n    </tr>\n    <tr>\n      <th>n_features</th>\n      <td>256</td>\n    </tr>\n    <tr>\n      <th>n_samples</th>\n      <td>4068</td>\n    </tr>\n    <tr>\n      <th>path</th>\n      <td>/home/xandao/results/10-04-2023+10-57-04/clf=D...</td>\n    </tr>\n    <tr>\n      <th>patch</th>\n      <td>3</td>\n    </tr>\n  </tbody>\n</table>\n</div>"
     },
     "metadata": {},
     "output_type": "display_data"
    },
    {
     "data": {
      "text/plain": "                                                                 1\n0                                                                 \nclassifier_name                             DecisionTreeClassifier\nextractor                                                    vgg16\nn_features                                                     256\nn_samples                                                     4068\npath             /home/xandao/results/10-04-2023+10-57-04/clf=D...\npatch                                                            3",
      "text/html": "<div>\n<style scoped>\n    .dataframe tbody tr th:only-of-type {\n        vertical-align: middle;\n    }\n\n    .dataframe tbody tr th {\n        vertical-align: top;\n    }\n\n    .dataframe thead th {\n        text-align: right;\n    }\n</style>\n<table border=\"1\" class=\"dataframe\">\n  <thead>\n    <tr style=\"text-align: right;\">\n      <th></th>\n      <th>1</th>\n    </tr>\n    <tr>\n      <th>0</th>\n      <th></th>\n    </tr>\n  </thead>\n  <tbody>\n    <tr>\n      <th>classifier_name</th>\n      <td>DecisionTreeClassifier</td>\n    </tr>\n    <tr>\n      <th>extractor</th>\n      <td>vgg16</td>\n    </tr>\n    <tr>\n      <th>n_features</th>\n      <td>256</td>\n    </tr>\n    <tr>\n      <th>n_samples</th>\n      <td>4068</td>\n    </tr>\n    <tr>\n      <th>path</th>\n      <td>/home/xandao/results/10-04-2023+10-57-04/clf=D...</td>\n    </tr>\n    <tr>\n      <th>patch</th>\n      <td>3</td>\n    </tr>\n  </tbody>\n</table>\n</div>"
     },
     "metadata": {},
     "output_type": "display_data"
    },
    {
     "data": {
      "text/plain": "                                                                 1\n0                                                                 \nclassifier_name                             DecisionTreeClassifier\nextractor                                                    vgg16\nn_features                                                     256\nn_samples                                                     4068\npath             /home/xandao/results/10-04-2023+10-57-04/clf=D...\npatch                                                            3",
      "text/html": "<div>\n<style scoped>\n    .dataframe tbody tr th:only-of-type {\n        vertical-align: middle;\n    }\n\n    .dataframe tbody tr th {\n        vertical-align: top;\n    }\n\n    .dataframe thead th {\n        text-align: right;\n    }\n</style>\n<table border=\"1\" class=\"dataframe\">\n  <thead>\n    <tr style=\"text-align: right;\">\n      <th></th>\n      <th>1</th>\n    </tr>\n    <tr>\n      <th>0</th>\n      <th></th>\n    </tr>\n  </thead>\n  <tbody>\n    <tr>\n      <th>classifier_name</th>\n      <td>DecisionTreeClassifier</td>\n    </tr>\n    <tr>\n      <th>extractor</th>\n      <td>vgg16</td>\n    </tr>\n    <tr>\n      <th>n_features</th>\n      <td>256</td>\n    </tr>\n    <tr>\n      <th>n_samples</th>\n      <td>4068</td>\n    </tr>\n    <tr>\n      <th>path</th>\n      <td>/home/xandao/results/10-04-2023+10-57-04/clf=D...</td>\n    </tr>\n    <tr>\n      <th>patch</th>\n      <td>3</td>\n    </tr>\n  </tbody>\n</table>\n</div>"
     },
     "metadata": {},
     "output_type": "display_data"
    },
    {
     "data": {
      "text/plain": "                                                                 1\n0                                                                 \nclassifier_name                             DecisionTreeClassifier\nextractor                                                    vgg16\nn_features                                                     256\nn_samples                                                     4068\npath             /home/xandao/results/10-04-2023+10-57-04/clf=D...\npatch                                                            3",
      "text/html": "<div>\n<style scoped>\n    .dataframe tbody tr th:only-of-type {\n        vertical-align: middle;\n    }\n\n    .dataframe tbody tr th {\n        vertical-align: top;\n    }\n\n    .dataframe thead th {\n        text-align: right;\n    }\n</style>\n<table border=\"1\" class=\"dataframe\">\n  <thead>\n    <tr style=\"text-align: right;\">\n      <th></th>\n      <th>1</th>\n    </tr>\n    <tr>\n      <th>0</th>\n      <th></th>\n    </tr>\n  </thead>\n  <tbody>\n    <tr>\n      <th>classifier_name</th>\n      <td>DecisionTreeClassifier</td>\n    </tr>\n    <tr>\n      <th>extractor</th>\n      <td>vgg16</td>\n    </tr>\n    <tr>\n      <th>n_features</th>\n      <td>256</td>\n    </tr>\n    <tr>\n      <th>n_samples</th>\n      <td>4068</td>\n    </tr>\n    <tr>\n      <th>path</th>\n      <td>/home/xandao/results/10-04-2023+10-57-04/clf=D...</td>\n    </tr>\n    <tr>\n      <th>patch</th>\n      <td>3</td>\n    </tr>\n  </tbody>\n</table>\n</div>"
     },
     "metadata": {},
     "output_type": "display_data"
    },
    {
     "data": {
      "text/plain": "                                                                 1\n0                                                                 \nclassifier_name                             DecisionTreeClassifier\nextractor                                                    vgg16\nn_features                                                     256\nn_samples                                                     4068\npath             /home/xandao/results/10-04-2023+10-57-04/clf=D...\npatch                                                            3",
      "text/html": "<div>\n<style scoped>\n    .dataframe tbody tr th:only-of-type {\n        vertical-align: middle;\n    }\n\n    .dataframe tbody tr th {\n        vertical-align: top;\n    }\n\n    .dataframe thead th {\n        text-align: right;\n    }\n</style>\n<table border=\"1\" class=\"dataframe\">\n  <thead>\n    <tr style=\"text-align: right;\">\n      <th></th>\n      <th>1</th>\n    </tr>\n    <tr>\n      <th>0</th>\n      <th></th>\n    </tr>\n  </thead>\n  <tbody>\n    <tr>\n      <th>classifier_name</th>\n      <td>DecisionTreeClassifier</td>\n    </tr>\n    <tr>\n      <th>extractor</th>\n      <td>vgg16</td>\n    </tr>\n    <tr>\n      <th>n_features</th>\n      <td>256</td>\n    </tr>\n    <tr>\n      <th>n_samples</th>\n      <td>4068</td>\n    </tr>\n    <tr>\n      <th>path</th>\n      <td>/home/xandao/results/10-04-2023+10-57-04/clf=D...</td>\n    </tr>\n    <tr>\n      <th>patch</th>\n      <td>3</td>\n    </tr>\n  </tbody>\n</table>\n</div>"
     },
     "metadata": {},
     "output_type": "display_data"
    },
    {
     "data": {
      "text/plain": "                                                                 1\n0                                                                 \nclassifier_name                             DecisionTreeClassifier\nextractor                                                    vgg16\nn_features                                                     256\nn_samples                                                     4068\npath             /home/xandao/results/10-04-2023+10-58-18/clf=D...\npatch                                                            3",
      "text/html": "<div>\n<style scoped>\n    .dataframe tbody tr th:only-of-type {\n        vertical-align: middle;\n    }\n\n    .dataframe tbody tr th {\n        vertical-align: top;\n    }\n\n    .dataframe thead th {\n        text-align: right;\n    }\n</style>\n<table border=\"1\" class=\"dataframe\">\n  <thead>\n    <tr style=\"text-align: right;\">\n      <th></th>\n      <th>1</th>\n    </tr>\n    <tr>\n      <th>0</th>\n      <th></th>\n    </tr>\n  </thead>\n  <tbody>\n    <tr>\n      <th>classifier_name</th>\n      <td>DecisionTreeClassifier</td>\n    </tr>\n    <tr>\n      <th>extractor</th>\n      <td>vgg16</td>\n    </tr>\n    <tr>\n      <th>n_features</th>\n      <td>256</td>\n    </tr>\n    <tr>\n      <th>n_samples</th>\n      <td>4068</td>\n    </tr>\n    <tr>\n      <th>path</th>\n      <td>/home/xandao/results/10-04-2023+10-58-18/clf=D...</td>\n    </tr>\n    <tr>\n      <th>patch</th>\n      <td>3</td>\n    </tr>\n  </tbody>\n</table>\n</div>"
     },
     "metadata": {},
     "output_type": "display_data"
    },
    {
     "data": {
      "text/plain": "                                                                 1\n0                                                                 \nclassifier_name                             DecisionTreeClassifier\nextractor                                                    vgg16\nn_features                                                     256\nn_samples                                                     4068\npath             /home/xandao/results/10-04-2023+10-58-18/clf=D...\npatch                                                            3",
      "text/html": "<div>\n<style scoped>\n    .dataframe tbody tr th:only-of-type {\n        vertical-align: middle;\n    }\n\n    .dataframe tbody tr th {\n        vertical-align: top;\n    }\n\n    .dataframe thead th {\n        text-align: right;\n    }\n</style>\n<table border=\"1\" class=\"dataframe\">\n  <thead>\n    <tr style=\"text-align: right;\">\n      <th></th>\n      <th>1</th>\n    </tr>\n    <tr>\n      <th>0</th>\n      <th></th>\n    </tr>\n  </thead>\n  <tbody>\n    <tr>\n      <th>classifier_name</th>\n      <td>DecisionTreeClassifier</td>\n    </tr>\n    <tr>\n      <th>extractor</th>\n      <td>vgg16</td>\n    </tr>\n    <tr>\n      <th>n_features</th>\n      <td>256</td>\n    </tr>\n    <tr>\n      <th>n_samples</th>\n      <td>4068</td>\n    </tr>\n    <tr>\n      <th>path</th>\n      <td>/home/xandao/results/10-04-2023+10-58-18/clf=D...</td>\n    </tr>\n    <tr>\n      <th>patch</th>\n      <td>3</td>\n    </tr>\n  </tbody>\n</table>\n</div>"
     },
     "metadata": {},
     "output_type": "display_data"
    },
    {
     "data": {
      "text/plain": "                                                                 1\n0                                                                 \nclassifier_name                             DecisionTreeClassifier\nextractor                                                    vgg16\nn_features                                                     256\nn_samples                                                     4068\npath             /home/xandao/results/10-04-2023+10-58-18/clf=D...\npatch                                                            3",
      "text/html": "<div>\n<style scoped>\n    .dataframe tbody tr th:only-of-type {\n        vertical-align: middle;\n    }\n\n    .dataframe tbody tr th {\n        vertical-align: top;\n    }\n\n    .dataframe thead th {\n        text-align: right;\n    }\n</style>\n<table border=\"1\" class=\"dataframe\">\n  <thead>\n    <tr style=\"text-align: right;\">\n      <th></th>\n      <th>1</th>\n    </tr>\n    <tr>\n      <th>0</th>\n      <th></th>\n    </tr>\n  </thead>\n  <tbody>\n    <tr>\n      <th>classifier_name</th>\n      <td>DecisionTreeClassifier</td>\n    </tr>\n    <tr>\n      <th>extractor</th>\n      <td>vgg16</td>\n    </tr>\n    <tr>\n      <th>n_features</th>\n      <td>256</td>\n    </tr>\n    <tr>\n      <th>n_samples</th>\n      <td>4068</td>\n    </tr>\n    <tr>\n      <th>path</th>\n      <td>/home/xandao/results/10-04-2023+10-58-18/clf=D...</td>\n    </tr>\n    <tr>\n      <th>patch</th>\n      <td>3</td>\n    </tr>\n  </tbody>\n</table>\n</div>"
     },
     "metadata": {},
     "output_type": "display_data"
    },
    {
     "data": {
      "text/plain": "                                                                 1\n0                                                                 \nclassifier_name                             DecisionTreeClassifier\nextractor                                                    vgg16\nn_features                                                     256\nn_samples                                                     4068\npath             /home/xandao/results/10-04-2023+10-58-18/clf=D...\npatch                                                            3",
      "text/html": "<div>\n<style scoped>\n    .dataframe tbody tr th:only-of-type {\n        vertical-align: middle;\n    }\n\n    .dataframe tbody tr th {\n        vertical-align: top;\n    }\n\n    .dataframe thead th {\n        text-align: right;\n    }\n</style>\n<table border=\"1\" class=\"dataframe\">\n  <thead>\n    <tr style=\"text-align: right;\">\n      <th></th>\n      <th>1</th>\n    </tr>\n    <tr>\n      <th>0</th>\n      <th></th>\n    </tr>\n  </thead>\n  <tbody>\n    <tr>\n      <th>classifier_name</th>\n      <td>DecisionTreeClassifier</td>\n    </tr>\n    <tr>\n      <th>extractor</th>\n      <td>vgg16</td>\n    </tr>\n    <tr>\n      <th>n_features</th>\n      <td>256</td>\n    </tr>\n    <tr>\n      <th>n_samples</th>\n      <td>4068</td>\n    </tr>\n    <tr>\n      <th>path</th>\n      <td>/home/xandao/results/10-04-2023+10-58-18/clf=D...</td>\n    </tr>\n    <tr>\n      <th>patch</th>\n      <td>3</td>\n    </tr>\n  </tbody>\n</table>\n</div>"
     },
     "metadata": {},
     "output_type": "display_data"
    },
    {
     "data": {
      "text/plain": "                                                                 1\n0                                                                 \nclassifier_name                             DecisionTreeClassifier\nextractor                                                    vgg16\nn_features                                                     256\nn_samples                                                     4068\npath             /home/xandao/results/10-04-2023+10-58-18/clf=D...\npatch                                                            3",
      "text/html": "<div>\n<style scoped>\n    .dataframe tbody tr th:only-of-type {\n        vertical-align: middle;\n    }\n\n    .dataframe tbody tr th {\n        vertical-align: top;\n    }\n\n    .dataframe thead th {\n        text-align: right;\n    }\n</style>\n<table border=\"1\" class=\"dataframe\">\n  <thead>\n    <tr style=\"text-align: right;\">\n      <th></th>\n      <th>1</th>\n    </tr>\n    <tr>\n      <th>0</th>\n      <th></th>\n    </tr>\n  </thead>\n  <tbody>\n    <tr>\n      <th>classifier_name</th>\n      <td>DecisionTreeClassifier</td>\n    </tr>\n    <tr>\n      <th>extractor</th>\n      <td>vgg16</td>\n    </tr>\n    <tr>\n      <th>n_features</th>\n      <td>256</td>\n    </tr>\n    <tr>\n      <th>n_samples</th>\n      <td>4068</td>\n    </tr>\n    <tr>\n      <th>path</th>\n      <td>/home/xandao/results/10-04-2023+10-58-18/clf=D...</td>\n    </tr>\n    <tr>\n      <th>patch</th>\n      <td>3</td>\n    </tr>\n  </tbody>\n</table>\n</div>"
     },
     "metadata": {},
     "output_type": "display_data"
    },
    {
     "data": {
      "text/plain": "                                                                 1\n0                                                                 \nclassifier_name                             DecisionTreeClassifier\nextractor                                                    vgg16\nn_features                                                     256\nn_samples                                                     4068\npath             /home/xandao/results/10-04-2023+11-10-00/clf=D...\npatch                                                            3",
      "text/html": "<div>\n<style scoped>\n    .dataframe tbody tr th:only-of-type {\n        vertical-align: middle;\n    }\n\n    .dataframe tbody tr th {\n        vertical-align: top;\n    }\n\n    .dataframe thead th {\n        text-align: right;\n    }\n</style>\n<table border=\"1\" class=\"dataframe\">\n  <thead>\n    <tr style=\"text-align: right;\">\n      <th></th>\n      <th>1</th>\n    </tr>\n    <tr>\n      <th>0</th>\n      <th></th>\n    </tr>\n  </thead>\n  <tbody>\n    <tr>\n      <th>classifier_name</th>\n      <td>DecisionTreeClassifier</td>\n    </tr>\n    <tr>\n      <th>extractor</th>\n      <td>vgg16</td>\n    </tr>\n    <tr>\n      <th>n_features</th>\n      <td>256</td>\n    </tr>\n    <tr>\n      <th>n_samples</th>\n      <td>4068</td>\n    </tr>\n    <tr>\n      <th>path</th>\n      <td>/home/xandao/results/10-04-2023+11-10-00/clf=D...</td>\n    </tr>\n    <tr>\n      <th>patch</th>\n      <td>3</td>\n    </tr>\n  </tbody>\n</table>\n</div>"
     },
     "metadata": {},
     "output_type": "display_data"
    },
    {
     "data": {
      "text/plain": "                                                                 1\n0                                                                 \nclassifier_name                             DecisionTreeClassifier\nextractor                                                    vgg16\nn_features                                                     256\nn_samples                                                     4068\npath             /home/xandao/results/10-04-2023+11-10-00/clf=D...\npatch                                                            3",
      "text/html": "<div>\n<style scoped>\n    .dataframe tbody tr th:only-of-type {\n        vertical-align: middle;\n    }\n\n    .dataframe tbody tr th {\n        vertical-align: top;\n    }\n\n    .dataframe thead th {\n        text-align: right;\n    }\n</style>\n<table border=\"1\" class=\"dataframe\">\n  <thead>\n    <tr style=\"text-align: right;\">\n      <th></th>\n      <th>1</th>\n    </tr>\n    <tr>\n      <th>0</th>\n      <th></th>\n    </tr>\n  </thead>\n  <tbody>\n    <tr>\n      <th>classifier_name</th>\n      <td>DecisionTreeClassifier</td>\n    </tr>\n    <tr>\n      <th>extractor</th>\n      <td>vgg16</td>\n    </tr>\n    <tr>\n      <th>n_features</th>\n      <td>256</td>\n    </tr>\n    <tr>\n      <th>n_samples</th>\n      <td>4068</td>\n    </tr>\n    <tr>\n      <th>path</th>\n      <td>/home/xandao/results/10-04-2023+11-10-00/clf=D...</td>\n    </tr>\n    <tr>\n      <th>patch</th>\n      <td>3</td>\n    </tr>\n  </tbody>\n</table>\n</div>"
     },
     "metadata": {},
     "output_type": "display_data"
    },
    {
     "data": {
      "text/plain": "                                                                 1\n0                                                                 \nclassifier_name                             DecisionTreeClassifier\nextractor                                                    vgg16\nn_features                                                     256\nn_samples                                                     4068\npath             /home/xandao/results/10-04-2023+11-10-00/clf=D...\npatch                                                            3",
      "text/html": "<div>\n<style scoped>\n    .dataframe tbody tr th:only-of-type {\n        vertical-align: middle;\n    }\n\n    .dataframe tbody tr th {\n        vertical-align: top;\n    }\n\n    .dataframe thead th {\n        text-align: right;\n    }\n</style>\n<table border=\"1\" class=\"dataframe\">\n  <thead>\n    <tr style=\"text-align: right;\">\n      <th></th>\n      <th>1</th>\n    </tr>\n    <tr>\n      <th>0</th>\n      <th></th>\n    </tr>\n  </thead>\n  <tbody>\n    <tr>\n      <th>classifier_name</th>\n      <td>DecisionTreeClassifier</td>\n    </tr>\n    <tr>\n      <th>extractor</th>\n      <td>vgg16</td>\n    </tr>\n    <tr>\n      <th>n_features</th>\n      <td>256</td>\n    </tr>\n    <tr>\n      <th>n_samples</th>\n      <td>4068</td>\n    </tr>\n    <tr>\n      <th>path</th>\n      <td>/home/xandao/results/10-04-2023+11-10-00/clf=D...</td>\n    </tr>\n    <tr>\n      <th>patch</th>\n      <td>3</td>\n    </tr>\n  </tbody>\n</table>\n</div>"
     },
     "metadata": {},
     "output_type": "display_data"
    },
    {
     "data": {
      "text/plain": "                                                                 1\n0                                                                 \nclassifier_name                             DecisionTreeClassifier\nextractor                                                    vgg16\nn_features                                                     256\nn_samples                                                     4068\npath             /home/xandao/results/10-04-2023+11-10-00/clf=D...\npatch                                                            3",
      "text/html": "<div>\n<style scoped>\n    .dataframe tbody tr th:only-of-type {\n        vertical-align: middle;\n    }\n\n    .dataframe tbody tr th {\n        vertical-align: top;\n    }\n\n    .dataframe thead th {\n        text-align: right;\n    }\n</style>\n<table border=\"1\" class=\"dataframe\">\n  <thead>\n    <tr style=\"text-align: right;\">\n      <th></th>\n      <th>1</th>\n    </tr>\n    <tr>\n      <th>0</th>\n      <th></th>\n    </tr>\n  </thead>\n  <tbody>\n    <tr>\n      <th>classifier_name</th>\n      <td>DecisionTreeClassifier</td>\n    </tr>\n    <tr>\n      <th>extractor</th>\n      <td>vgg16</td>\n    </tr>\n    <tr>\n      <th>n_features</th>\n      <td>256</td>\n    </tr>\n    <tr>\n      <th>n_samples</th>\n      <td>4068</td>\n    </tr>\n    <tr>\n      <th>path</th>\n      <td>/home/xandao/results/10-04-2023+11-10-00/clf=D...</td>\n    </tr>\n    <tr>\n      <th>patch</th>\n      <td>3</td>\n    </tr>\n  </tbody>\n</table>\n</div>"
     },
     "metadata": {},
     "output_type": "display_data"
    },
    {
     "data": {
      "text/plain": "                                                                 1\n0                                                                 \nclassifier_name                             DecisionTreeClassifier\nextractor                                                    vgg16\nn_features                                                     256\nn_samples                                                     4068\npath             /home/xandao/results/10-04-2023+11-10-00/clf=D...\npatch                                                            3",
      "text/html": "<div>\n<style scoped>\n    .dataframe tbody tr th:only-of-type {\n        vertical-align: middle;\n    }\n\n    .dataframe tbody tr th {\n        vertical-align: top;\n    }\n\n    .dataframe thead th {\n        text-align: right;\n    }\n</style>\n<table border=\"1\" class=\"dataframe\">\n  <thead>\n    <tr style=\"text-align: right;\">\n      <th></th>\n      <th>1</th>\n    </tr>\n    <tr>\n      <th>0</th>\n      <th></th>\n    </tr>\n  </thead>\n  <tbody>\n    <tr>\n      <th>classifier_name</th>\n      <td>DecisionTreeClassifier</td>\n    </tr>\n    <tr>\n      <th>extractor</th>\n      <td>vgg16</td>\n    </tr>\n    <tr>\n      <th>n_features</th>\n      <td>256</td>\n    </tr>\n    <tr>\n      <th>n_samples</th>\n      <td>4068</td>\n    </tr>\n    <tr>\n      <th>path</th>\n      <td>/home/xandao/results/10-04-2023+11-10-00/clf=D...</td>\n    </tr>\n    <tr>\n      <th>patch</th>\n      <td>3</td>\n    </tr>\n  </tbody>\n</table>\n</div>"
     },
     "metadata": {},
     "output_type": "display_data"
    },
    {
     "data": {
      "text/plain": "                                                                 1\n0                                                                 \nclassifier_name                                                SVC\nextractor                                                    vgg16\nn_features                                                     512\nn_samples                                                     3198\npath             /home/xandao/results/10-04-2023+09-35-26/clf=S...\npatch                                                            3",
      "text/html": "<div>\n<style scoped>\n    .dataframe tbody tr th:only-of-type {\n        vertical-align: middle;\n    }\n\n    .dataframe tbody tr th {\n        vertical-align: top;\n    }\n\n    .dataframe thead th {\n        text-align: right;\n    }\n</style>\n<table border=\"1\" class=\"dataframe\">\n  <thead>\n    <tr style=\"text-align: right;\">\n      <th></th>\n      <th>1</th>\n    </tr>\n    <tr>\n      <th>0</th>\n      <th></th>\n    </tr>\n  </thead>\n  <tbody>\n    <tr>\n      <th>classifier_name</th>\n      <td>SVC</td>\n    </tr>\n    <tr>\n      <th>extractor</th>\n      <td>vgg16</td>\n    </tr>\n    <tr>\n      <th>n_features</th>\n      <td>512</td>\n    </tr>\n    <tr>\n      <th>n_samples</th>\n      <td>3198</td>\n    </tr>\n    <tr>\n      <th>path</th>\n      <td>/home/xandao/results/10-04-2023+09-35-26/clf=S...</td>\n    </tr>\n    <tr>\n      <th>patch</th>\n      <td>3</td>\n    </tr>\n  </tbody>\n</table>\n</div>"
     },
     "metadata": {},
     "output_type": "display_data"
    },
    {
     "data": {
      "text/plain": "                                                                 1\n0                                                                 \nclassifier_name                                                SVC\nextractor                                                    vgg16\nn_features                                                     512\nn_samples                                                     3198\npath             /home/xandao/results/10-04-2023+09-35-26/clf=S...\npatch                                                            3",
      "text/html": "<div>\n<style scoped>\n    .dataframe tbody tr th:only-of-type {\n        vertical-align: middle;\n    }\n\n    .dataframe tbody tr th {\n        vertical-align: top;\n    }\n\n    .dataframe thead th {\n        text-align: right;\n    }\n</style>\n<table border=\"1\" class=\"dataframe\">\n  <thead>\n    <tr style=\"text-align: right;\">\n      <th></th>\n      <th>1</th>\n    </tr>\n    <tr>\n      <th>0</th>\n      <th></th>\n    </tr>\n  </thead>\n  <tbody>\n    <tr>\n      <th>classifier_name</th>\n      <td>SVC</td>\n    </tr>\n    <tr>\n      <th>extractor</th>\n      <td>vgg16</td>\n    </tr>\n    <tr>\n      <th>n_features</th>\n      <td>512</td>\n    </tr>\n    <tr>\n      <th>n_samples</th>\n      <td>3198</td>\n    </tr>\n    <tr>\n      <th>path</th>\n      <td>/home/xandao/results/10-04-2023+09-35-26/clf=S...</td>\n    </tr>\n    <tr>\n      <th>patch</th>\n      <td>3</td>\n    </tr>\n  </tbody>\n</table>\n</div>"
     },
     "metadata": {},
     "output_type": "display_data"
    },
    {
     "data": {
      "text/plain": "                                                                 1\n0                                                                 \nclassifier_name                             DecisionTreeClassifier\nextractor                                                    vgg16\nn_features                                                     256\nn_samples                                                     4068\npath             /home/xandao/results/10-04-2023+10-55-42/clf=D...\npatch                                                            3",
      "text/html": "<div>\n<style scoped>\n    .dataframe tbody tr th:only-of-type {\n        vertical-align: middle;\n    }\n\n    .dataframe tbody tr th {\n        vertical-align: top;\n    }\n\n    .dataframe thead th {\n        text-align: right;\n    }\n</style>\n<table border=\"1\" class=\"dataframe\">\n  <thead>\n    <tr style=\"text-align: right;\">\n      <th></th>\n      <th>1</th>\n    </tr>\n    <tr>\n      <th>0</th>\n      <th></th>\n    </tr>\n  </thead>\n  <tbody>\n    <tr>\n      <th>classifier_name</th>\n      <td>DecisionTreeClassifier</td>\n    </tr>\n    <tr>\n      <th>extractor</th>\n      <td>vgg16</td>\n    </tr>\n    <tr>\n      <th>n_features</th>\n      <td>256</td>\n    </tr>\n    <tr>\n      <th>n_samples</th>\n      <td>4068</td>\n    </tr>\n    <tr>\n      <th>path</th>\n      <td>/home/xandao/results/10-04-2023+10-55-42/clf=D...</td>\n    </tr>\n    <tr>\n      <th>patch</th>\n      <td>3</td>\n    </tr>\n  </tbody>\n</table>\n</div>"
     },
     "metadata": {},
     "output_type": "display_data"
    },
    {
     "data": {
      "text/plain": "                                                                 1\n0                                                                 \nclassifier_name                             DecisionTreeClassifier\nextractor                                                    vgg16\nn_features                                                     256\nn_samples                                                     4068\npath             /home/xandao/results/10-04-2023+10-55-42/clf=D...\npatch                                                            3",
      "text/html": "<div>\n<style scoped>\n    .dataframe tbody tr th:only-of-type {\n        vertical-align: middle;\n    }\n\n    .dataframe tbody tr th {\n        vertical-align: top;\n    }\n\n    .dataframe thead th {\n        text-align: right;\n    }\n</style>\n<table border=\"1\" class=\"dataframe\">\n  <thead>\n    <tr style=\"text-align: right;\">\n      <th></th>\n      <th>1</th>\n    </tr>\n    <tr>\n      <th>0</th>\n      <th></th>\n    </tr>\n  </thead>\n  <tbody>\n    <tr>\n      <th>classifier_name</th>\n      <td>DecisionTreeClassifier</td>\n    </tr>\n    <tr>\n      <th>extractor</th>\n      <td>vgg16</td>\n    </tr>\n    <tr>\n      <th>n_features</th>\n      <td>256</td>\n    </tr>\n    <tr>\n      <th>n_samples</th>\n      <td>4068</td>\n    </tr>\n    <tr>\n      <th>path</th>\n      <td>/home/xandao/results/10-04-2023+10-55-42/clf=D...</td>\n    </tr>\n    <tr>\n      <th>patch</th>\n      <td>3</td>\n    </tr>\n  </tbody>\n</table>\n</div>"
     },
     "metadata": {},
     "output_type": "display_data"
    },
    {
     "data": {
      "text/plain": "                                                                 1\n0                                                                 \nclassifier_name                             DecisionTreeClassifier\nextractor                                                    vgg16\nn_features                                                     256\nn_samples                                                     4068\npath             /home/xandao/results/10-04-2023+10-55-42/clf=D...\npatch                                                            3",
      "text/html": "<div>\n<style scoped>\n    .dataframe tbody tr th:only-of-type {\n        vertical-align: middle;\n    }\n\n    .dataframe tbody tr th {\n        vertical-align: top;\n    }\n\n    .dataframe thead th {\n        text-align: right;\n    }\n</style>\n<table border=\"1\" class=\"dataframe\">\n  <thead>\n    <tr style=\"text-align: right;\">\n      <th></th>\n      <th>1</th>\n    </tr>\n    <tr>\n      <th>0</th>\n      <th></th>\n    </tr>\n  </thead>\n  <tbody>\n    <tr>\n      <th>classifier_name</th>\n      <td>DecisionTreeClassifier</td>\n    </tr>\n    <tr>\n      <th>extractor</th>\n      <td>vgg16</td>\n    </tr>\n    <tr>\n      <th>n_features</th>\n      <td>256</td>\n    </tr>\n    <tr>\n      <th>n_samples</th>\n      <td>4068</td>\n    </tr>\n    <tr>\n      <th>path</th>\n      <td>/home/xandao/results/10-04-2023+10-55-42/clf=D...</td>\n    </tr>\n    <tr>\n      <th>patch</th>\n      <td>3</td>\n    </tr>\n  </tbody>\n</table>\n</div>"
     },
     "metadata": {},
     "output_type": "display_data"
    },
    {
     "data": {
      "text/plain": "                                                                 1\n0                                                                 \nclassifier_name                             DecisionTreeClassifier\nextractor                                                    vgg16\nn_features                                                     256\nn_samples                                                     4068\npath             /home/xandao/results/10-04-2023+10-55-42/clf=D...\npatch                                                            3",
      "text/html": "<div>\n<style scoped>\n    .dataframe tbody tr th:only-of-type {\n        vertical-align: middle;\n    }\n\n    .dataframe tbody tr th {\n        vertical-align: top;\n    }\n\n    .dataframe thead th {\n        text-align: right;\n    }\n</style>\n<table border=\"1\" class=\"dataframe\">\n  <thead>\n    <tr style=\"text-align: right;\">\n      <th></th>\n      <th>1</th>\n    </tr>\n    <tr>\n      <th>0</th>\n      <th></th>\n    </tr>\n  </thead>\n  <tbody>\n    <tr>\n      <th>classifier_name</th>\n      <td>DecisionTreeClassifier</td>\n    </tr>\n    <tr>\n      <th>extractor</th>\n      <td>vgg16</td>\n    </tr>\n    <tr>\n      <th>n_features</th>\n      <td>256</td>\n    </tr>\n    <tr>\n      <th>n_samples</th>\n      <td>4068</td>\n    </tr>\n    <tr>\n      <th>path</th>\n      <td>/home/xandao/results/10-04-2023+10-55-42/clf=D...</td>\n    </tr>\n    <tr>\n      <th>patch</th>\n      <td>3</td>\n    </tr>\n  </tbody>\n</table>\n</div>"
     },
     "metadata": {},
     "output_type": "display_data"
    },
    {
     "data": {
      "text/plain": "                                                                 1\n0                                                                 \nclassifier_name                             DecisionTreeClassifier\nextractor                                                    vgg16\nn_features                                                     256\nn_samples                                                     4068\npath             /home/xandao/results/10-04-2023+10-55-42/clf=D...\npatch                                                            3",
      "text/html": "<div>\n<style scoped>\n    .dataframe tbody tr th:only-of-type {\n        vertical-align: middle;\n    }\n\n    .dataframe tbody tr th {\n        vertical-align: top;\n    }\n\n    .dataframe thead th {\n        text-align: right;\n    }\n</style>\n<table border=\"1\" class=\"dataframe\">\n  <thead>\n    <tr style=\"text-align: right;\">\n      <th></th>\n      <th>1</th>\n    </tr>\n    <tr>\n      <th>0</th>\n      <th></th>\n    </tr>\n  </thead>\n  <tbody>\n    <tr>\n      <th>classifier_name</th>\n      <td>DecisionTreeClassifier</td>\n    </tr>\n    <tr>\n      <th>extractor</th>\n      <td>vgg16</td>\n    </tr>\n    <tr>\n      <th>n_features</th>\n      <td>256</td>\n    </tr>\n    <tr>\n      <th>n_samples</th>\n      <td>4068</td>\n    </tr>\n    <tr>\n      <th>path</th>\n      <td>/home/xandao/results/10-04-2023+10-55-42/clf=D...</td>\n    </tr>\n    <tr>\n      <th>patch</th>\n      <td>3</td>\n    </tr>\n  </tbody>\n</table>\n</div>"
     },
     "metadata": {},
     "output_type": "display_data"
    },
    {
     "data": {
      "text/plain": "                                                                 1\n0                                                                 \nclassifier_name                             DecisionTreeClassifier\nextractor                                                    vgg16\nn_features                                                     512\nn_samples                                                     3198\npath             /home/xandao/results/10-04-2023+09-35-37/clf=D...\npatch                                                            3",
      "text/html": "<div>\n<style scoped>\n    .dataframe tbody tr th:only-of-type {\n        vertical-align: middle;\n    }\n\n    .dataframe tbody tr th {\n        vertical-align: top;\n    }\n\n    .dataframe thead th {\n        text-align: right;\n    }\n</style>\n<table border=\"1\" class=\"dataframe\">\n  <thead>\n    <tr style=\"text-align: right;\">\n      <th></th>\n      <th>1</th>\n    </tr>\n    <tr>\n      <th>0</th>\n      <th></th>\n    </tr>\n  </thead>\n  <tbody>\n    <tr>\n      <th>classifier_name</th>\n      <td>DecisionTreeClassifier</td>\n    </tr>\n    <tr>\n      <th>extractor</th>\n      <td>vgg16</td>\n    </tr>\n    <tr>\n      <th>n_features</th>\n      <td>512</td>\n    </tr>\n    <tr>\n      <th>n_samples</th>\n      <td>3198</td>\n    </tr>\n    <tr>\n      <th>path</th>\n      <td>/home/xandao/results/10-04-2023+09-35-37/clf=D...</td>\n    </tr>\n    <tr>\n      <th>patch</th>\n      <td>3</td>\n    </tr>\n  </tbody>\n</table>\n</div>"
     },
     "metadata": {},
     "output_type": "display_data"
    },
    {
     "data": {
      "text/plain": "                                                                 1\n0                                                                 \nclassifier_name                             DecisionTreeClassifier\nextractor                                                    vgg16\nn_features                                                     512\nn_samples                                                     3198\npath             /home/xandao/results/10-04-2023+09-35-37/clf=D...\npatch                                                            3",
      "text/html": "<div>\n<style scoped>\n    .dataframe tbody tr th:only-of-type {\n        vertical-align: middle;\n    }\n\n    .dataframe tbody tr th {\n        vertical-align: top;\n    }\n\n    .dataframe thead th {\n        text-align: right;\n    }\n</style>\n<table border=\"1\" class=\"dataframe\">\n  <thead>\n    <tr style=\"text-align: right;\">\n      <th></th>\n      <th>1</th>\n    </tr>\n    <tr>\n      <th>0</th>\n      <th></th>\n    </tr>\n  </thead>\n  <tbody>\n    <tr>\n      <th>classifier_name</th>\n      <td>DecisionTreeClassifier</td>\n    </tr>\n    <tr>\n      <th>extractor</th>\n      <td>vgg16</td>\n    </tr>\n    <tr>\n      <th>n_features</th>\n      <td>512</td>\n    </tr>\n    <tr>\n      <th>n_samples</th>\n      <td>3198</td>\n    </tr>\n    <tr>\n      <th>path</th>\n      <td>/home/xandao/results/10-04-2023+09-35-37/clf=D...</td>\n    </tr>\n    <tr>\n      <th>patch</th>\n      <td>3</td>\n    </tr>\n  </tbody>\n</table>\n</div>"
     },
     "metadata": {},
     "output_type": "display_data"
    },
    {
     "data": {
      "text/plain": "                                                                 1\n0                                                                 \nclassifier_name                             DecisionTreeClassifier\nextractor                                                    vgg16\nn_features                                                     256\nn_samples                                                     4068\npath             /home/xandao/results/10-04-2023+11-13-30/clf=D...\npatch                                                            3",
      "text/html": "<div>\n<style scoped>\n    .dataframe tbody tr th:only-of-type {\n        vertical-align: middle;\n    }\n\n    .dataframe tbody tr th {\n        vertical-align: top;\n    }\n\n    .dataframe thead th {\n        text-align: right;\n    }\n</style>\n<table border=\"1\" class=\"dataframe\">\n  <thead>\n    <tr style=\"text-align: right;\">\n      <th></th>\n      <th>1</th>\n    </tr>\n    <tr>\n      <th>0</th>\n      <th></th>\n    </tr>\n  </thead>\n  <tbody>\n    <tr>\n      <th>classifier_name</th>\n      <td>DecisionTreeClassifier</td>\n    </tr>\n    <tr>\n      <th>extractor</th>\n      <td>vgg16</td>\n    </tr>\n    <tr>\n      <th>n_features</th>\n      <td>256</td>\n    </tr>\n    <tr>\n      <th>n_samples</th>\n      <td>4068</td>\n    </tr>\n    <tr>\n      <th>path</th>\n      <td>/home/xandao/results/10-04-2023+11-13-30/clf=D...</td>\n    </tr>\n    <tr>\n      <th>patch</th>\n      <td>3</td>\n    </tr>\n  </tbody>\n</table>\n</div>"
     },
     "metadata": {},
     "output_type": "display_data"
    },
    {
     "data": {
      "text/plain": "                                                                 1\n0                                                                 \nclassifier_name                             DecisionTreeClassifier\nextractor                                                    vgg16\nn_features                                                     256\nn_samples                                                     4068\npath             /home/xandao/results/10-04-2023+11-13-30/clf=D...\npatch                                                            3",
      "text/html": "<div>\n<style scoped>\n    .dataframe tbody tr th:only-of-type {\n        vertical-align: middle;\n    }\n\n    .dataframe tbody tr th {\n        vertical-align: top;\n    }\n\n    .dataframe thead th {\n        text-align: right;\n    }\n</style>\n<table border=\"1\" class=\"dataframe\">\n  <thead>\n    <tr style=\"text-align: right;\">\n      <th></th>\n      <th>1</th>\n    </tr>\n    <tr>\n      <th>0</th>\n      <th></th>\n    </tr>\n  </thead>\n  <tbody>\n    <tr>\n      <th>classifier_name</th>\n      <td>DecisionTreeClassifier</td>\n    </tr>\n    <tr>\n      <th>extractor</th>\n      <td>vgg16</td>\n    </tr>\n    <tr>\n      <th>n_features</th>\n      <td>256</td>\n    </tr>\n    <tr>\n      <th>n_samples</th>\n      <td>4068</td>\n    </tr>\n    <tr>\n      <th>path</th>\n      <td>/home/xandao/results/10-04-2023+11-13-30/clf=D...</td>\n    </tr>\n    <tr>\n      <th>patch</th>\n      <td>3</td>\n    </tr>\n  </tbody>\n</table>\n</div>"
     },
     "metadata": {},
     "output_type": "display_data"
    },
    {
     "data": {
      "text/plain": "                                                                 1\n0                                                                 \nclassifier_name                             DecisionTreeClassifier\nextractor                                                    vgg16\nn_features                                                     256\nn_samples                                                     4068\npath             /home/xandao/results/10-04-2023+11-13-30/clf=D...\npatch                                                            3",
      "text/html": "<div>\n<style scoped>\n    .dataframe tbody tr th:only-of-type {\n        vertical-align: middle;\n    }\n\n    .dataframe tbody tr th {\n        vertical-align: top;\n    }\n\n    .dataframe thead th {\n        text-align: right;\n    }\n</style>\n<table border=\"1\" class=\"dataframe\">\n  <thead>\n    <tr style=\"text-align: right;\">\n      <th></th>\n      <th>1</th>\n    </tr>\n    <tr>\n      <th>0</th>\n      <th></th>\n    </tr>\n  </thead>\n  <tbody>\n    <tr>\n      <th>classifier_name</th>\n      <td>DecisionTreeClassifier</td>\n    </tr>\n    <tr>\n      <th>extractor</th>\n      <td>vgg16</td>\n    </tr>\n    <tr>\n      <th>n_features</th>\n      <td>256</td>\n    </tr>\n    <tr>\n      <th>n_samples</th>\n      <td>4068</td>\n    </tr>\n    <tr>\n      <th>path</th>\n      <td>/home/xandao/results/10-04-2023+11-13-30/clf=D...</td>\n    </tr>\n    <tr>\n      <th>patch</th>\n      <td>3</td>\n    </tr>\n  </tbody>\n</table>\n</div>"
     },
     "metadata": {},
     "output_type": "display_data"
    },
    {
     "data": {
      "text/plain": "                                                                 1\n0                                                                 \nclassifier_name                             DecisionTreeClassifier\nextractor                                                    vgg16\nn_features                                                     256\nn_samples                                                     4068\npath             /home/xandao/results/10-04-2023+11-13-30/clf=D...\npatch                                                            3",
      "text/html": "<div>\n<style scoped>\n    .dataframe tbody tr th:only-of-type {\n        vertical-align: middle;\n    }\n\n    .dataframe tbody tr th {\n        vertical-align: top;\n    }\n\n    .dataframe thead th {\n        text-align: right;\n    }\n</style>\n<table border=\"1\" class=\"dataframe\">\n  <thead>\n    <tr style=\"text-align: right;\">\n      <th></th>\n      <th>1</th>\n    </tr>\n    <tr>\n      <th>0</th>\n      <th></th>\n    </tr>\n  </thead>\n  <tbody>\n    <tr>\n      <th>classifier_name</th>\n      <td>DecisionTreeClassifier</td>\n    </tr>\n    <tr>\n      <th>extractor</th>\n      <td>vgg16</td>\n    </tr>\n    <tr>\n      <th>n_features</th>\n      <td>256</td>\n    </tr>\n    <tr>\n      <th>n_samples</th>\n      <td>4068</td>\n    </tr>\n    <tr>\n      <th>path</th>\n      <td>/home/xandao/results/10-04-2023+11-13-30/clf=D...</td>\n    </tr>\n    <tr>\n      <th>patch</th>\n      <td>3</td>\n    </tr>\n  </tbody>\n</table>\n</div>"
     },
     "metadata": {},
     "output_type": "display_data"
    },
    {
     "data": {
      "text/plain": "                                                                 1\n0                                                                 \nclassifier_name                             DecisionTreeClassifier\nextractor                                                    vgg16\nn_features                                                     256\nn_samples                                                     4068\npath             /home/xandao/results/10-04-2023+11-13-30/clf=D...\npatch                                                            3",
      "text/html": "<div>\n<style scoped>\n    .dataframe tbody tr th:only-of-type {\n        vertical-align: middle;\n    }\n\n    .dataframe tbody tr th {\n        vertical-align: top;\n    }\n\n    .dataframe thead th {\n        text-align: right;\n    }\n</style>\n<table border=\"1\" class=\"dataframe\">\n  <thead>\n    <tr style=\"text-align: right;\">\n      <th></th>\n      <th>1</th>\n    </tr>\n    <tr>\n      <th>0</th>\n      <th></th>\n    </tr>\n  </thead>\n  <tbody>\n    <tr>\n      <th>classifier_name</th>\n      <td>DecisionTreeClassifier</td>\n    </tr>\n    <tr>\n      <th>extractor</th>\n      <td>vgg16</td>\n    </tr>\n    <tr>\n      <th>n_features</th>\n      <td>256</td>\n    </tr>\n    <tr>\n      <th>n_samples</th>\n      <td>4068</td>\n    </tr>\n    <tr>\n      <th>path</th>\n      <td>/home/xandao/results/10-04-2023+11-13-30/clf=D...</td>\n    </tr>\n    <tr>\n      <th>patch</th>\n      <td>3</td>\n    </tr>\n  </tbody>\n</table>\n</div>"
     },
     "metadata": {},
     "output_type": "display_data"
    }
   ],
   "source": [
    "confusion_matrix_files = [p for p in pathlib.Path('/home/xandao/results').rglob('confusion_matrix+sum.csv')]\n",
    "display('count of confusion matrix: %d' % len(confusion_matrix_files))\n",
    "\n",
    "def get_classifier_name(df):\n",
    "    classifier_name = df.iloc['classifier_name'][1]\n",
    "    if 'decisiontree' in classifier_name.lower():\n",
    "        return 'DT'\n",
    "    elif 'kneighbors' in classifier_name.lower():\n",
    "        return 'KNN'\n",
    "    elif 'randomforest' in classifier_name.lower():\n",
    "        return 'RF'\n",
    "    elif 'svc' in classifier_name.lower():\n",
    "        return 'SVM'\n",
    "    elif 'mlp' in classifier_name.lower():\n",
    "        return 'MLP'\n",
    "\n",
    "def get_title(path):\n",
    "    fname = os.path.join(path, 'info.csv')\n",
    "    df = pd.read_csv(fname, index_col=0, header=None, sep=';')\n",
    "    classifier_name = df.iloc['classifier_name'][1]\n",
    "    extractor = df.iloc['extractor'][1]\n",
    "    n_samples = df.iloc['n_samples'][1]\n",
    "    n_features = df.iloc['n_features'][1]\n",
    "    patch = df.iloc['patch'][1]\n",
    "    return 'Confusion Matrix\\n(%s, %s, %s, %s)' % (classifier_name, extractor, n_samples, n_features, patch)\n",
    "\n",
    "for c in confusion_matrix_files:\n",
    "    title = get_title(c.parents[2])\n",
    "    df = pd.read_csv(c, header=0, index_col=0, sep=';')\n",
    "    index = df.index\n",
    "    columns = df.columns\n",
    "    confusion_matrix = df.values\n",
    "    # plot_cm(columns, confusion_matrix, index, title=)"
   ],
   "metadata": {
    "collapsed": false,
    "ExecuteTime": {
     "start_time": "2023-04-10T14:39:10.055745Z",
     "end_time": "2023-04-10T14:39:10.399539Z"
    }
   }
  },
  {
   "cell_type": "code",
   "execution_count": null,
   "outputs": [],
   "source": [
    "2"
   ],
   "metadata": {
    "collapsed": false
   }
  }
 ],
 "metadata": {
  "kernelspec": {
   "display_name": "Python 3",
   "language": "python",
   "name": "python3"
  },
  "language_info": {
   "codemirror_mode": {
    "name": "ipython",
    "version": 2
   },
   "file_extension": ".py",
   "mimetype": "text/x-python",
   "name": "python",
   "nbconvert_exporter": "python",
   "pygments_lexer": "ipython2",
   "version": "2.7.6"
  }
 },
 "nbformat": 4,
 "nbformat_minor": 0
}
